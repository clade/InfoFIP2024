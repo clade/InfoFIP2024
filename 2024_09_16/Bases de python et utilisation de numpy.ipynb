{
 "cells": [
  {
   "cell_type": "markdown",
   "metadata": {},
   "source": [
    "# Objectifs du cours\n",
    "\n",
    "* Python I : Outils de bases pour les scientifiques\n",
    "* Python II : Programmation orientée objet. Projet informatique (second semestre)\n",
    "\n",
    "Python I : \n",
    "\n",
    "* Utilisation de numpy (aujourd'hui)\n",
    "* Approfondissement de Python\n",
    "* Statistiques, ajustement de courbes\n",
    "* Equations différentielles et calcul numérique avec la libraire scipy.\n",
    "* Transformée de Fourier\n",
    "\n",
    "* TP (interfaçage instruments, date à préciser)."
   ]
  },
  {
   "cell_type": "markdown",
   "metadata": {
    "collapsed": true,
    "extensions": {
     "jupyter_dashboards": {
      "version": 1,
      "views": {
       "grid_default": {
        "col": 0,
        "height": 11,
        "hidden": false,
        "row": 10,
        "width": 12
       },
       "report_default": {}
      }
     }
    },
    "nbpresent": {
     "id": "3e40f331-3e82-4c39-be42-29befb1a98c4"
    },
    "slideshow": {
     "slide_type": "slide"
    }
   },
   "source": [
    "## Installation de Python\n",
    "\n",
    "* Il existe plusieurs interpréteurs open source de Python. Le principal est CPython\n",
    "* Il est fortement conseillé d'installer Anaconda et Python >3.7 (quelque soit le système d'exploitation)\n",
    "\n",
    "## Comment exécuter Python\n",
    "\n",
    "* **Jupyter notebook** : très pratique (compte rendu de TP, exercices, cours). Pas pour des projets\n",
    "* Spyder : éditeur de texte adapté à Python et l'environnement scientifique (à la matlab)\n",
    "* IPython (inclus dans spyder) : terminal interactif. Faire des essais avant de copier dans un programme\n",
    "* Console : interface graphique, test automatique, ...\n",
    "\n",
    "Rq : les TDs et l'examen se font sur des jupyter notebooks"
   ]
  },
  {
   "cell_type": "markdown",
   "metadata": {
    "extensions": {
     "jupyter_dashboards": {
      "version": 1,
      "views": {
       "grid_default": {
        "col": 0,
        "height": 5,
        "hidden": false,
        "row": 21,
        "width": 12
       },
       "report_default": {}
      }
     }
    },
    "slideshow": {
     "slide_type": "slide"
    }
   },
   "source": [
    "# Plan du cours\n",
    "\n",
    "Aujourd'hui : Bases de python. \n",
    "\n",
    "* Quelques types de bases de python\n",
    "* Structures de contrôle\n",
    "* numpy\n",
    "* matplotlib"
   ]
  },
  {
   "cell_type": "markdown",
   "metadata": {
    "slideshow": {
     "slide_type": "slide"
    }
   },
   "source": [
    "# Types de données"
   ]
  },
  {
   "cell_type": "markdown",
   "metadata": {
    "extensions": {
     "jupyter_dashboards": {
      "version": 1,
      "views": {
       "grid_default": {
        "col": 8,
        "height": 8,
        "hidden": false,
        "row": 47,
        "width": null
       },
       "report_default": {}
      }
     }
    },
    "slideshow": {
     "slide_type": "slide"
    }
   },
   "source": [
    "## Nombres\n",
    "\n",
    "* entiers : pas de limite de tailles\n",
    "* réels : flottant (float). Par défaut 64bits, précision relative de environ $10^{-15}$\n",
    "* Complexe : deux réels ; `a = 1 + 3J`\n",
    "* +, -, \\*, /, \\*\\* (puissance)\n",
    "* Modulo, division entière"
   ]
  },
  {
   "cell_type": "code",
   "execution_count": null,
   "metadata": {},
   "outputs": [],
   "source": [
    "2**534"
   ]
  },
  {
   "cell_type": "code",
   "execution_count": null,
   "metadata": {},
   "outputs": [],
   "source": [
    "(1 + 10**-13) - 1"
   ]
  },
  {
   "cell_type": "code",
   "execution_count": null,
   "metadata": {},
   "outputs": [],
   "source": [
    "z = 1 + 3J\n",
    "z.real"
   ]
  },
  {
   "cell_type": "code",
   "execution_count": null,
   "metadata": {},
   "outputs": [],
   "source": [
    "z.conjugate()"
   ]
  },
  {
   "cell_type": "code",
   "execution_count": null,
   "metadata": {},
   "outputs": [],
   "source": [
    "(1+3J).conjugate()"
   ]
  },
  {
   "cell_type": "code",
   "execution_count": null,
   "metadata": {},
   "outputs": [],
   "source": [
    "2342435%7"
   ]
  },
  {
   "cell_type": "code",
   "execution_count": null,
   "metadata": {},
   "outputs": [],
   "source": [
    "2342435//7"
   ]
  },
  {
   "cell_type": "code",
   "execution_count": null,
   "metadata": {},
   "outputs": [],
   "source": []
  },
  {
   "cell_type": "code",
   "execution_count": null,
   "metadata": {},
   "outputs": [],
   "source": []
  },
  {
   "cell_type": "code",
   "execution_count": null,
   "metadata": {},
   "outputs": [],
   "source": []
  },
  {
   "cell_type": "markdown",
   "metadata": {
    "extensions": {
     "jupyter_dashboards": {
      "version": 1,
      "views": {
       "grid_default": {
        "col": 0,
        "height": 5,
        "hidden": false,
        "row": 55,
        "width": 12
       },
       "report_default": {}
      }
     }
    },
    "slideshow": {
     "slide_type": "slide"
    }
   },
   "source": [
    "## Booléens \n",
    "\n",
    "* `True` et `False`\n",
    "* Comparaison : `>`, `>=`, `==`, `<=`,  `<`, `!=`\n",
    "* Opérations : and, or et not (attention aux priorités)\n",
    "* \"évaluation paresseuse\""
   ]
  },
  {
   "cell_type": "code",
   "execution_count": 1,
   "metadata": {},
   "outputs": [
    {
     "name": "stdout",
     "output_type": "stream",
     "text": [
      "True\n",
      "False\n",
      "True\n",
      "True\n"
     ]
    }
   ],
   "source": [
    "# Priorité  ??? Il faut toujours mettre des parenthèses\n",
    "print(True or False and False)\n",
    "print( (True or False) and False)\n",
    "print(True or (False and False))\n",
    "print(False and False or True)"
   ]
  },
  {
   "cell_type": "code",
   "execution_count": null,
   "metadata": {},
   "outputs": [],
   "source": []
  },
  {
   "cell_type": "code",
   "execution_count": null,
   "metadata": {},
   "outputs": [],
   "source": []
  },
  {
   "cell_type": "code",
   "execution_count": 3,
   "metadata": {
    "extensions": {
     "jupyter_dashboards": {
      "version": 1,
      "views": {
       "grid_default": {
        "hidden": true
       },
       "report_default": {}
      }
     }
    },
    "scrolled": true
   },
   "outputs": [
    {
     "ename": "ValueError",
     "evalue": "math domain error",
     "output_type": "error",
     "traceback": [
      "\u001b[0;31m---------------------------------------------------------------------------\u001b[0m",
      "\u001b[0;31mValueError\u001b[0m                                Traceback (most recent call last)",
      "\u001b[0;32m<ipython-input-3-20bc7e9aeb6b>\u001b[0m in \u001b[0;36m<module>\u001b[0;34m\u001b[0m\n\u001b[1;32m      8\u001b[0m \u001b[0;31m# else:\u001b[0m\u001b[0;34m\u001b[0m\u001b[0;34m\u001b[0m\u001b[0;34m\u001b[0m\u001b[0m\n\u001b[1;32m      9\u001b[0m \u001b[0;31m#    return False\u001b[0m\u001b[0;34m\u001b[0m\u001b[0;34m\u001b[0m\u001b[0;34m\u001b[0m\u001b[0m\n\u001b[0;32m---> 10\u001b[0;31m \u001b[0;34m(\u001b[0m\u001b[0mx\u001b[0m\u001b[0;34m>=\u001b[0m\u001b[0;36m0\u001b[0m\u001b[0;34m)\u001b[0m \u001b[0;34m&\u001b[0m \u001b[0;34m(\u001b[0m\u001b[0msqrt\u001b[0m\u001b[0;34m(\u001b[0m\u001b[0mx\u001b[0m\u001b[0;34m)\u001b[0m\u001b[0;34m>\u001b[0m\u001b[0;36m2\u001b[0m\u001b[0;34m)\u001b[0m\u001b[0;34m\u001b[0m\u001b[0;34m\u001b[0m\u001b[0m\n\u001b[0m",
      "\u001b[0;31mValueError\u001b[0m: math domain error"
     ]
    }
   ],
   "source": [
    "from math import sqrt\n",
    "x = -1\n",
    "\n",
    "# a and b => si a return b else return False\n",
    "x>=0 and sqrt(x)>2\n",
    "#if x>0:\n",
    "#    return sqrt(x)>2\n",
    "# else:\n",
    "#    return False\n",
    "# (x>=0) & (sqrt(x)>2)"
   ]
  },
  {
   "cell_type": "markdown",
   "metadata": {
    "extensions": {
     "jupyter_dashboards": {
      "version": 1,
      "views": {
       "grid_default": {
        "col": 4,
        "height": 4,
        "hidden": false,
        "row": 51,
        "width": 4
       },
       "report_default": {}
      }
     }
    },
    "slideshow": {
     "slide_type": "slide"
    }
   },
   "source": [
    "## Chaînes de caractères (str)\n",
    "* Plusieurs façon d'écrire une chaine : \", ', \"\"\", ''' .\n"
   ]
  },
  {
   "cell_type": "code",
   "execution_count": 4,
   "metadata": {
    "extensions": {
     "jupyter_dashboards": {
      "version": 1,
      "views": {
       "grid_default": {
        "col": 0,
        "height": 4,
        "hidden": false,
        "row": 60,
        "width": 4
       },
       "report_default": {}
      }
     }
    }
   },
   "outputs": [],
   "source": [
    "s0 = 'Bonjour'\n",
    "s1 = \"Pierre\"\n",
    "s2 = \"Aujourd'hui\""
   ]
  },
  {
   "cell_type": "code",
   "execution_count": 5,
   "metadata": {},
   "outputs": [
    {
     "name": "stdout",
     "output_type": "stream",
     "text": [
      "Une chaine\n",
      "sur plusieurs \n",
      "lignes\n"
     ]
    }
   ],
   "source": [
    "s3 = \"\"\"Une chaine\n",
    "sur plusieurs \n",
    "lignes\"\"\"\n",
    "\n",
    "print(s3)"
   ]
  },
  {
   "cell_type": "code",
   "execution_count": null,
   "metadata": {},
   "outputs": [],
   "source": []
  },
  {
   "cell_type": "markdown",
   "metadata": {
    "extensions": {
     "jupyter_dashboards": {
      "version": 1,
      "views": {
       "grid_default": {
        "col": 0,
        "height": 6,
        "hidden": false,
        "row": 64,
        "width": 12
       },
       "report_default": {}
      }
     }
    },
    "slideshow": {
     "slide_type": "slide"
    }
   },
   "source": [
    "## Les listes\n",
    "\n",
    "* Elles peuvent contenir n'importe quel type de donnée\n",
    "* Les indices commencent par 0\n",
    "* Index négatif : par la fin (modulo la taille de la liste)\n",
    "* iterateur : par exemple `range`. "
   ]
  },
  {
   "cell_type": "code",
   "execution_count": 6,
   "metadata": {
    "extensions": {
     "jupyter_dashboards": {
      "version": 1,
      "views": {
       "grid_default": {
        "col": 4,
        "height": 4,
        "hidden": false,
        "row": 60,
        "width": 4
       },
       "report_default": {}
      }
     }
    }
   },
   "outputs": [],
   "source": [
    "# Indices\n",
    "l = ['Pierre', 34, 3.1415]\n"
   ]
  },
  {
   "cell_type": "code",
   "execution_count": 9,
   "metadata": {},
   "outputs": [
    {
     "data": {
      "text/plain": [
       "1.4142135623730951"
      ]
     },
     "execution_count": 9,
     "metadata": {},
     "output_type": "execute_result"
    }
   ],
   "source": [
    "m = ['Bonjour', l, sqrt]\n",
    "m[2](2)"
   ]
  },
  {
   "cell_type": "code",
   "execution_count": 13,
   "metadata": {},
   "outputs": [
    {
     "data": {
      "text/plain": [
       "3.1415"
      ]
     },
     "execution_count": 13,
     "metadata": {},
     "output_type": "execute_result"
    }
   ],
   "source": [
    "l[-1]"
   ]
  },
  {
   "cell_type": "code",
   "execution_count": null,
   "metadata": {},
   "outputs": [],
   "source": []
  },
  {
   "cell_type": "markdown",
   "metadata": {},
   "source": [
    "La méthode .append() modifie la liste. C'est toujours la même liste (comme on rajoute une page dans un classeur)."
   ]
  },
  {
   "cell_type": "code",
   "execution_count": 14,
   "metadata": {},
   "outputs": [
    {
     "name": "stdout",
     "output_type": "stream",
     "text": [
      "['Pierre', 34, 3.1415]\n",
      "None\n"
     ]
    }
   ],
   "source": [
    "l = ['Pierre', 34, 3.1415]\n",
    "print(l)\n",
    "print(l.append(25))"
   ]
  },
  {
   "cell_type": "code",
   "execution_count": 15,
   "metadata": {},
   "outputs": [
    {
     "name": "stdout",
     "output_type": "stream",
     "text": [
      "['Pierre', 34, 3.1415, 25]\n"
     ]
    }
   ],
   "source": [
    "print(l)"
   ]
  },
  {
   "cell_type": "code",
   "execution_count": 16,
   "metadata": {},
   "outputs": [
    {
     "name": "stdout",
     "output_type": "stream",
     "text": [
      "['Pierre', 34, 3.1415, 14]\n"
     ]
    }
   ],
   "source": [
    "l = ['Pierre', 34, 3.1415]\n",
    "m = l\n",
    "m.append(14)\n",
    "print(l)"
   ]
  },
  {
   "cell_type": "code",
   "execution_count": 19,
   "metadata": {},
   "outputs": [
    {
     "data": {
      "text/plain": [
       "'Pierre'"
      ]
     },
     "execution_count": 19,
     "metadata": {},
     "output_type": "execute_result"
    }
   ],
   "source": [
    "l = ['Pierre', 34, 3.1415]\n",
    "l.append(l)\n",
    "l[-1][-1][-1][-1][0]"
   ]
  },
  {
   "cell_type": "code",
   "execution_count": null,
   "metadata": {},
   "outputs": [],
   "source": []
  },
  {
   "cell_type": "markdown",
   "metadata": {
    "extensions": {
     "jupyter_dashboards": {
      "version": 1,
      "views": {
       "grid_default": {
        "col": 0,
        "height": 5,
        "hidden": false,
        "row": 70,
        "width": 12
       },
       "report_default": {}
      }
     }
    },
    "slideshow": {
     "slide_type": "slide"
    }
   },
   "source": [
    "## Créer une liste à partir d'une autre liste\n",
    "\n",
    "* Boucle `for`\n",
    "* Liste comprehension []\n",
    "* `list.append` : méthode de l'objet liste"
   ]
  },
  {
   "cell_type": "code",
   "execution_count": 23,
   "metadata": {
    "extensions": {
     "jupyter_dashboards": {
      "version": 1,
      "views": {
       "grid_default": {
        "col": 8,
        "height": 4,
        "hidden": false,
        "row": 60,
        "width": 4
       },
       "report_default": {}
      }
     }
    }
   },
   "outputs": [
    {
     "name": "stdout",
     "output_type": "stream",
     "text": [
      "[1, 1156, 529, 4.0]\n"
     ]
    },
    {
     "data": {
      "text/plain": [
       "[1.0, 4.795831523312719, 1.4142135623730951]"
      ]
     },
     "execution_count": 23,
     "metadata": {},
     "output_type": "execute_result"
    }
   ],
   "source": [
    "liste_initiale = [1, -34, 23, 2.]\n",
    "\n",
    "liste_finale = []\n",
    "for elm in liste_initiale:\n",
    "#    print(elm)\n",
    "    liste_finale.append(elm**2)\n",
    "print(liste_finale)\n",
    "\n",
    "[elm**2 for elm in liste_initiale]\n",
    "\n",
    "\n",
    "liste_finale = []\n",
    "for elm in liste_initiale:\n",
    "    if elm>0:\n",
    "        liste_finale.append(sqrt(elm))\n",
    "\n",
    "[sqrt(elm) for elm in liste_initiale if elm>0]"
   ]
  },
  {
   "cell_type": "markdown",
   "metadata": {},
   "source": [
    "## Parcourir une liste\n",
    "* ``for``\n",
    "* enumerate\n",
    "* zip"
   ]
  },
  {
   "cell_type": "code",
   "execution_count": 25,
   "metadata": {},
   "outputs": [
    {
     "name": "stdout",
     "output_type": "stream",
     "text": [
      "Dupont\n",
      "Martin\n",
      "Dubois\n",
      "Le nom numéro 0 est Dupont\n",
      "Le nom numéro 1 est Martin\n",
      "Le nom numéro 2 est Dubois\n"
     ]
    }
   ],
   "source": [
    "ma_liste = ['Dupont', 'Martin', 'Dubois']\n",
    "for name in ma_liste:\n",
    "    print(name)\n",
    "    \n",
    "for i, name in enumerate(ma_liste):\n",
    "    print(f'Le nom numéro {i} est {name}')"
   ]
  },
  {
   "cell_type": "code",
   "execution_count": 26,
   "metadata": {},
   "outputs": [
    {
     "name": "stdout",
     "output_type": "stream",
     "text": [
      "Dupont a 12 ans.\n",
      "Martin a 35 ans.\n",
      "Dubois a 23 ans.\n"
     ]
    }
   ],
   "source": [
    "liste_age = [12, 35, 23]\n",
    "for age, name in zip(liste_age, ma_liste):\n",
    "    print(f\"{name} a {age} ans.\")"
   ]
  },
  {
   "cell_type": "markdown",
   "metadata": {
    "extensions": {
     "jupyter_dashboards": {
      "version": 1,
      "views": {
       "grid_default": {
        "col": 0,
        "height": 6,
        "hidden": false,
        "row": 36,
        "width": 12
       },
       "report_default": {}
      }
     }
    },
    "slideshow": {
     "slide_type": "slide"
    }
   },
   "source": [
    "# Structures de contrôle\n",
    "\n",
    "## Boucles \n",
    "* while\n",
    "* for (voir les listes)\n",
    "\n",
    "## Tests \n",
    "* if, elif, else\n",
    "\n",
    "## Fonctions \n",
    "\n",
    "```\n",
    "def nom_fonction(arg1, arg2, ...):\n",
    "       ...\n",
    "       return out1, out2\n",
    "```\n",
    "\n",
    "* Argument optionel, argument nommé\n",
    "* Il peut y avoir plusieurs return au sein d'une fonction\n",
    "* Documentation ≠ commentaire"
   ]
  },
  {
   "cell_type": "code",
   "execution_count": 29,
   "metadata": {},
   "outputs": [
    {
     "data": {
      "text/plain": [
       "True"
      ]
     },
     "execution_count": 29,
     "metadata": {},
     "output_type": "execute_result"
    }
   ],
   "source": [
    "def est_premier(n):\n",
    "    i = 2\n",
    "    while i**2<=n:\n",
    "        if n%i==0:\n",
    "            return False\n",
    "        i += 1\n",
    "    return True\n",
    "\n",
    "est_premier(2017)"
   ]
  },
  {
   "cell_type": "code",
   "execution_count": 31,
   "metadata": {},
   "outputs": [
    {
     "data": {
      "text/plain": [
       "[3,\n",
       " 5,\n",
       " 7,\n",
       " 11,\n",
       " 13,\n",
       " 17,\n",
       " 19,\n",
       " 23,\n",
       " 29,\n",
       " 31,\n",
       " 37,\n",
       " 41,\n",
       " 43,\n",
       " 47,\n",
       " 53,\n",
       " 59,\n",
       " 61,\n",
       " 67,\n",
       " 71,\n",
       " 73,\n",
       " 79,\n",
       " 83,\n",
       " 89,\n",
       " 97]"
      ]
     },
     "execution_count": 31,
     "metadata": {},
     "output_type": "execute_result"
    }
   ],
   "source": [
    "def liste_nombre_premiers(N):\n",
    "    return [i for i in range(3, N) if est_premier(i)]\n",
    "    \n",
    "liste_nombre_premiers(100)"
   ]
  },
  {
   "cell_type": "code",
   "execution_count": null,
   "metadata": {},
   "outputs": [],
   "source": []
  },
  {
   "cell_type": "code",
   "execution_count": null,
   "metadata": {},
   "outputs": [],
   "source": []
  },
  {
   "cell_type": "code",
   "execution_count": null,
   "metadata": {},
   "outputs": [],
   "source": []
  },
  {
   "cell_type": "code",
   "execution_count": null,
   "metadata": {},
   "outputs": [],
   "source": []
  },
  {
   "cell_type": "code",
   "execution_count": null,
   "metadata": {},
   "outputs": [],
   "source": []
  },
  {
   "cell_type": "code",
   "execution_count": 32,
   "metadata": {
    "extensions": {
     "jupyter_dashboards": {
      "version": 1,
      "views": {
       "grid_default": {
        "hidden": true
       },
       "report_default": {}
      }
     }
    },
    "slideshow": {
     "slide_type": "-"
    }
   },
   "outputs": [],
   "source": [
    "def exponentielle(x, precision=1E-9):\n",
    "    \"\"\" Calcul de la fonction e**x\n",
    "    \n",
    "    parametre : \n",
    "        x : nombre\"\"\"\n",
    "    result = 0\n",
    "    n = 1\n",
    "    term = 1 # Initial value\n",
    "    while abs(term)>precision :\n",
    "        result = result + term\n",
    "        term = term * x/n\n",
    "        n = n + 1\n",
    "    return result\n",
    "    "
   ]
  },
  {
   "cell_type": "code",
   "execution_count": 40,
   "metadata": {},
   "outputs": [
    {
     "data": {
      "text/plain": [
       "7.389056098930604"
      ]
     },
     "execution_count": 40,
     "metadata": {},
     "output_type": "execute_result"
    }
   ],
   "source": [
    "exponentielle(x=2, precision=1E-13)\n",
    "exponentielle(precision=1E-13, x=2)"
   ]
  },
  {
   "cell_type": "code",
   "execution_count": 42,
   "metadata": {},
   "outputs": [
    {
     "name": "stdout",
     "output_type": "stream",
     "text": [
      "2\n"
     ]
    }
   ],
   "source": [
    "x = 2\n",
    "exponentielle(x=3)\n",
    "print(x)"
   ]
  },
  {
   "cell_type": "code",
   "execution_count": null,
   "metadata": {},
   "outputs": [],
   "source": []
  },
  {
   "cell_type": "code",
   "execution_count": null,
   "metadata": {},
   "outputs": [],
   "source": []
  },
  {
   "cell_type": "code",
   "execution_count": 34,
   "metadata": {},
   "outputs": [
    {
     "data": {
      "text/plain": [
       "7.389056098930604"
      ]
     },
     "execution_count": 34,
     "metadata": {},
     "output_type": "execute_result"
    }
   ],
   "source": [
    "exponentielle(2, 1E-13)"
   ]
  },
  {
   "cell_type": "code",
   "execution_count": null,
   "metadata": {},
   "outputs": [],
   "source": []
  },
  {
   "cell_type": "code",
   "execution_count": null,
   "metadata": {},
   "outputs": [],
   "source": []
  },
  {
   "cell_type": "code",
   "execution_count": null,
   "metadata": {
    "extensions": {
     "jupyter_dashboards": {
      "version": 1,
      "views": {
       "grid_default": {
        "hidden": true
       },
       "report_default": {}
      }
     }
    },
    "slideshow": {
     "slide_type": "-"
    }
   },
   "outputs": [],
   "source": [
    "exponentielle(precision=1E-10, x=1)"
   ]
  },
  {
   "cell_type": "code",
   "execution_count": null,
   "metadata": {},
   "outputs": [],
   "source": [
    "exponentielle?"
   ]
  },
  {
   "cell_type": "markdown",
   "metadata": {},
   "source": [
    "# Règles typographyques\n",
    "\n",
    "## Variables\n",
    "* Des noms explicites\n",
    "* mots en lettres minucules séparés par des ```_``` pour les variables et les fonctions\n",
    "* Possibilité d'utiliser des majuscules pour des constantes.\n",
    "\n",
    "\n",
    "## Code\n",
    "* indentations de 4 espaces (touche tabulation par défaut)\n",
    "* lignes vides avant et après chaque fonction\n",
    "* espace autour du ```=``` pour les variables (mais pas pour les arguments par défauts d'une fonctions)\n",
    "* éviter les lignes trops longues : soit avec des variables intermédiaires soit en distribuant la fonction sur plusieurs lignes ( le plus simple est de le faire avec des parenthèses)."
   ]
  },
  {
   "cell_type": "code",
   "execution_count": 44,
   "metadata": {},
   "outputs": [
    {
     "data": {
      "text/plain": [
       "13"
      ]
     },
     "execution_count": 44,
     "metadata": {},
     "output_type": "execute_result"
    }
   ],
   "source": [
    "( 1 + \n",
    "  2 + \n",
    "  4 + \n",
    "  6)"
   ]
  },
  {
   "cell_type": "code",
   "execution_count": null,
   "metadata": {},
   "outputs": [],
   "source": []
  },
  {
   "cell_type": "markdown",
   "metadata": {},
   "source": [
    "# Les tableaux `numpy`\n",
    "\n",
    "* `numpy` est la librairie qui permet de manipuler de larges tableaux de données\n",
    "* Elle évite de devoir faire des boucles\n",
    "* Elle contient des fonctions qui ne sont pas dans math\n",
    "* En pratique, on n'utilise jamais le module math\n",
    "\n",
    "## Plusieurs utilisations :\n",
    "* simulations numériques\n",
    "* données expérimentales\n",
    "* graph\n",
    "\n",
    "## Remarque:\n",
    "Taille fixée à la création. Tous les éléments de même type et de type fini (int64 pour les entiers)"
   ]
  },
  {
   "cell_type": "code",
   "execution_count": 49,
   "metadata": {},
   "outputs": [
    {
     "name": "stdout",
     "output_type": "stream",
     "text": [
      "[1.+0.j 4.+0.j 5.+0.j]\n"
     ]
    },
    {
     "data": {
      "text/plain": [
       "dtype('complex128')"
      ]
     },
     "execution_count": 49,
     "metadata": {},
     "output_type": "execute_result"
    }
   ],
   "source": [
    "#from numpy import *\n",
    "import numpy as np\n",
    "\n",
    "a = np.array([1, 4, 5], dtype=complex)\n",
    "print(a)\n",
    "a.dtype"
   ]
  },
  {
   "cell_type": "code",
   "execution_count": 54,
   "metadata": {},
   "outputs": [
    {
     "data": {
      "text/plain": [
       "array([ 1, 60,  5])"
      ]
     },
     "execution_count": 54,
     "metadata": {},
     "output_type": "execute_result"
    }
   ],
   "source": [
    "a = np.array([1, 3, 5])\n",
    "a[1] = 60.598 #+ 3J\n",
    "a"
   ]
  },
  {
   "cell_type": "code",
   "execution_count": 56,
   "metadata": {},
   "outputs": [
    {
     "data": {
      "text/plain": [
       "array([ 0.84147098, -0.30481062, -0.95892427])"
      ]
     },
     "execution_count": 56,
     "metadata": {},
     "output_type": "execute_result"
    }
   ],
   "source": [
    "np.sin(a)"
   ]
  },
  {
   "cell_type": "code",
   "execution_count": null,
   "metadata": {},
   "outputs": [],
   "source": []
  },
  {
   "cell_type": "code",
   "execution_count": null,
   "metadata": {},
   "outputs": [],
   "source": []
  },
  {
   "cell_type": "code",
   "execution_count": null,
   "metadata": {},
   "outputs": [],
   "source": []
  },
  {
   "cell_type": "code",
   "execution_count": null,
   "metadata": {},
   "outputs": [],
   "source": [
    "# Exemples\n"
   ]
  },
  {
   "cell_type": "code",
   "execution_count": 57,
   "metadata": {},
   "outputs": [
    {
     "ename": "TypeError",
     "evalue": "only size-1 arrays can be converted to Python scalars",
     "output_type": "error",
     "traceback": [
      "\u001b[0;31m---------------------------------------------------------------------------\u001b[0m",
      "\u001b[0;31mTypeError\u001b[0m                                 Traceback (most recent call last)",
      "\u001b[0;32m<ipython-input-57-73cf66873dd5>\u001b[0m in \u001b[0;36m<module>\u001b[0;34m\u001b[0m\n\u001b[1;32m      3\u001b[0m \u001b[0;34m\u001b[0m\u001b[0m\n\u001b[1;32m      4\u001b[0m \u001b[0ma\u001b[0m \u001b[0;34m=\u001b[0m \u001b[0mnp\u001b[0m\u001b[0;34m.\u001b[0m\u001b[0marray\u001b[0m\u001b[0;34m(\u001b[0m\u001b[0;34m[\u001b[0m\u001b[0;36m1\u001b[0m\u001b[0;34m,\u001b[0m \u001b[0;36m5\u001b[0m\u001b[0;34m,\u001b[0m \u001b[0;36m9\u001b[0m\u001b[0;34m]\u001b[0m\u001b[0;34m)\u001b[0m\u001b[0;34m\u001b[0m\u001b[0;34m\u001b[0m\u001b[0m\n\u001b[0;32m----> 5\u001b[0;31m \u001b[0mmath\u001b[0m\u001b[0;34m.\u001b[0m\u001b[0msin\u001b[0m\u001b[0;34m(\u001b[0m\u001b[0ma\u001b[0m\u001b[0;34m)\u001b[0m\u001b[0;34m\u001b[0m\u001b[0;34m\u001b[0m\u001b[0m\n\u001b[0m",
      "\u001b[0;31mTypeError\u001b[0m: only size-1 arrays can be converted to Python scalars"
     ]
    }
   ],
   "source": [
    "# Il ne faut pas utiliser le module math avec des tableaux numpy\n",
    "import math\n",
    "\n",
    "a = np.array([1, 5, 9])\n",
    "math.sin(a)"
   ]
  },
  {
   "cell_type": "code",
   "execution_count": 58,
   "metadata": {},
   "outputs": [
    {
     "name": "stdout",
     "output_type": "stream",
     "text": [
      "799 µs ± 32.7 µs per loop (mean ± std. dev. of 7 runs, 1000 loops each)\n",
      "85.1 ms ± 893 µs per loop (mean ± std. dev. of 7 runs, 10 loops each)\n"
     ]
    }
   ],
   "source": [
    "# Comparaison de la vitesse entre une liste et un tableau \n",
    "a = np.random.rand(1000000)\n",
    "\n",
    "%timeit a**2\n",
    "\n",
    "def carre(x):\n",
    "    return [elm**2 for elm in x]\n",
    "b = list(a)\n",
    "\n",
    "%timeit carre(b)"
   ]
  },
  {
   "cell_type": "code",
   "execution_count": 63,
   "metadata": {},
   "outputs": [],
   "source": [
    "def gaussienne(x):\n",
    "    return np.exp(-x**2)\n",
    "\n"
   ]
  },
  {
   "cell_type": "code",
   "execution_count": 62,
   "metadata": {},
   "outputs": [
    {
     "data": {
      "text/plain": [
       "'Bonjourtout le monde'"
      ]
     },
     "execution_count": 62,
     "metadata": {},
     "output_type": "execute_result"
    }
   ],
   "source": [
    "def f(x, y):\n",
    "    return x+y\n",
    "\n",
    "f('Bonjour', 'tout le monde')"
   ]
  },
  {
   "cell_type": "code",
   "execution_count": 64,
   "metadata": {},
   "outputs": [
    {
     "data": {
      "text/plain": [
       "0.3678794411714424"
      ]
     },
     "execution_count": 64,
     "metadata": {},
     "output_type": "execute_result"
    }
   ],
   "source": [
    "gaussienne(1)"
   ]
  },
  {
   "cell_type": "code",
   "execution_count": null,
   "metadata": {},
   "outputs": [],
   "source": []
  },
  {
   "cell_type": "code",
   "execution_count": null,
   "metadata": {},
   "outputs": [],
   "source": []
  },
  {
   "cell_type": "code",
   "execution_count": 65,
   "metadata": {},
   "outputs": [
    {
     "name": "stdout",
     "output_type": "stream",
     "text": [
      "129 ms ± 979 µs per loop (mean ± std. dev. of 7 runs, 10 loops each)\n"
     ]
    }
   ],
   "source": [
    "# Boucle for avec un tableau\n",
    "def carre_boucle(x):\n",
    "    out = np.zeros(len(x))\n",
    "    for i in range(len(x)):\n",
    "        out[i] = x[i]**2\n",
    "    return out\n",
    "\n",
    "%timeit carre_boucle(b)"
   ]
  },
  {
   "cell_type": "markdown",
   "metadata": {},
   "source": [
    "# Avantages (et inconvénients) des tableaux\n",
    "* La taille et le type de donnée est fixé à la création du tableau\n",
    "\n"
   ]
  },
  {
   "cell_type": "code",
   "execution_count": null,
   "metadata": {},
   "outputs": [],
   "source": [
    "a = np.array([1, 2, 4])\n",
    "a[1] = 3.14\n",
    "a"
   ]
  },
  {
   "cell_type": "code",
   "execution_count": null,
   "metadata": {},
   "outputs": [],
   "source": [
    "a = np.array([1, 2, 4], dtype='float')\n",
    "a[1] = 3.14\n",
    "\n",
    "a"
   ]
  },
  {
   "cell_type": "code",
   "execution_count": null,
   "metadata": {},
   "outputs": [],
   "source": [
    "np.arange(10, dtype='float')"
   ]
  },
  {
   "cell_type": "markdown",
   "metadata": {},
   "source": [
    "# Création d'un tableau\n",
    "Il existe plusieurs fonctions pour créer un tableau.\n",
    "\n",
    "* array :  partir d'une liste\n",
    "* zeros, ones, eye\n",
    "* arange\n",
    "* linspace, logspace\n",
    "* np.random.rand, ...\n",
    "* loadtxt\n",
    "* load/save\n",
    "\n",
    "Le type est déterminé automatiquement. On peut le forcer avec l'argument dtype"
   ]
  },
  {
   "cell_type": "code",
   "execution_count": 68,
   "metadata": {},
   "outputs": [
    {
     "data": {
      "text/plain": [
       "array([0. , 0.1, 0.2, 0.3, 0.4, 0.5, 0.6, 0.7, 0.8, 0.9])"
      ]
     },
     "execution_count": 68,
     "metadata": {},
     "output_type": "execute_result"
    }
   ],
   "source": [
    "np.linspace(start=0, stop=1, num=10, endpoint=False)"
   ]
  },
  {
   "cell_type": "code",
   "execution_count": 69,
   "metadata": {},
   "outputs": [],
   "source": [
    "# Intervalle entre 0 et 1 avec N points.\n",
    "# C'est inconsistant\n",
    "# ATTENTION ATTENTION ATTENTION\n",
    "a = 0\n",
    "b = 1\n",
    "N = 1000\n",
    "dx = (b-a)/N\n",
    "x = np.linspace(a, b, N)"
   ]
  },
  {
   "cell_type": "code",
   "execution_count": 70,
   "metadata": {},
   "outputs": [],
   "source": [
    "x = a + np.arange(N)*dx\n",
    "x = np.linspace(a, b, N, endpoint=False)"
   ]
  },
  {
   "cell_type": "code",
   "execution_count": null,
   "metadata": {},
   "outputs": [],
   "source": [
    "# logspace\n",
    "# rand"
   ]
  },
  {
   "cell_type": "code",
   "execution_count": null,
   "metadata": {},
   "outputs": [],
   "source": []
  },
  {
   "cell_type": "code",
   "execution_count": 71,
   "metadata": {},
   "outputs": [
    {
     "data": {
      "text/plain": [
       "array([1.06596375, 1.09458767, 1.03338832, 0.97360153, 1.06267259])"
      ]
     },
     "execution_count": 71,
     "metadata": {},
     "output_type": "execute_result"
    }
   ],
   "source": [
    "# Import / export\n",
    "a = np.random.normal(loc=1, scale=.1, size=5)\n",
    "np.savetxt('test.txt', a)\n",
    "\n",
    "b = np.loadtxt('test.txt')\n",
    "b"
   ]
  },
  {
   "cell_type": "code",
   "execution_count": 72,
   "metadata": {},
   "outputs": [],
   "source": [
    "a = np.random.normal(loc=1, scale=.1, size=1000000)\n",
    "np.savetxt('test_long.txt', a)\n"
   ]
  },
  {
   "cell_type": "code",
   "execution_count": 73,
   "metadata": {},
   "outputs": [
    {
     "name": "stdout",
     "output_type": "stream",
     "text": [
      "196 ms ± 7.18 ms per loop (mean ± std. dev. of 7 runs, 1 loop each)\n"
     ]
    }
   ],
   "source": [
    "%timeit np.loadtxt('test_long.txt')"
   ]
  },
  {
   "cell_type": "code",
   "execution_count": null,
   "metadata": {},
   "outputs": [],
   "source": [
    "np.loadtxt?"
   ]
  },
  {
   "cell_type": "code",
   "execution_count": 74,
   "metadata": {},
   "outputs": [],
   "source": [
    "a = np.random.normal(loc=1, scale=.1, size=1000000)\n",
    "np.save('test_long.npy', a)\n"
   ]
  },
  {
   "cell_type": "code",
   "execution_count": 75,
   "metadata": {},
   "outputs": [
    {
     "name": "stdout",
     "output_type": "stream",
     "text": [
      "1.05 ms ± 43.1 µs per loop (mean ± std. dev. of 7 runs, 1000 loops each)\n"
     ]
    }
   ],
   "source": [
    "%timeit np.load('test_long.npy')"
   ]
  },
  {
   "cell_type": "markdown",
   "metadata": {},
   "source": [
    "# Créer une fonction vectorisée\n",
    "\n",
    "C'est une fonction qui calcule sur un tableau élément par élément\n",
    "\n"
   ]
  },
  {
   "cell_type": "code",
   "execution_count": null,
   "metadata": {},
   "outputs": [],
   "source": [
    "x = np.linspace(-1, 1, 51, endpoint=False)*np.pi"
   ]
  },
  {
   "cell_type": "code",
   "execution_count": null,
   "metadata": {},
   "outputs": [],
   "source": [
    "# Souvent il n'y a rien a faire\n",
    "np.sin(x)\n",
    "\n",
    "def ma_fonction(x):\n",
    "    return np.sin(x)**2 + np.cos(x)**2\n",
    "ma_fonction(x)"
   ]
  },
  {
   "cell_type": "code",
   "execution_count": 78,
   "metadata": {},
   "outputs": [
    {
     "data": {
      "text/plain": [
       "array([1.        , 0.95918367, 0.91836735, 0.87755102, 0.83673469,\n",
       "       0.79591837, 0.75510204, 0.71428571, 0.67346939, 0.63265306,\n",
       "       0.59183673, 0.55102041, 0.51020408, 0.46938776, 0.42857143,\n",
       "       0.3877551 , 0.34693878, 0.30612245, 0.26530612, 0.2244898 ,\n",
       "       0.18367347, 0.14285714, 0.10204082, 0.06122449, 0.02040816,\n",
       "       0.02040816, 0.06122449, 0.10204082, 0.14285714, 0.18367347,\n",
       "       0.2244898 , 0.26530612, 0.30612245, 0.34693878, 0.3877551 ,\n",
       "       0.42857143, 0.46938776, 0.51020408, 0.55102041, 0.59183673,\n",
       "       0.63265306, 0.67346939, 0.71428571, 0.75510204, 0.79591837,\n",
       "       0.83673469, 0.87755102, 0.91836735, 0.95918367, 1.        ])"
      ]
     },
     "execution_count": 78,
     "metadata": {},
     "output_type": "execute_result"
    }
   ],
   "source": [
    "# Sinon, vectorize\n",
    "# Mais il existe des solutions pour éviter d'avoir à \n",
    "# l'utiliser (c.f. prochaine partie)\n",
    "def mafonction_simple(a):\n",
    "#    print('Bonjour')\n",
    "    if a>0:\n",
    "        return a\n",
    "    else:\n",
    "        return -a\n",
    "\n",
    "#mafonction_simple(np.linspace(-1, 1))\n",
    "mafonction = np.vectorize(mafonction_simple)\n",
    "mafonction(np.linspace(-1, 1))\n",
    "# On peut utiliser un décorateur"
   ]
  },
  {
   "cell_type": "code",
   "execution_count": 79,
   "metadata": {},
   "outputs": [
    {
     "ename": "ValueError",
     "evalue": "The truth value of an array with more than one element is ambiguous. Use a.any() or a.all()",
     "output_type": "error",
     "traceback": [
      "\u001b[0;31m---------------------------------------------------------------------------\u001b[0m",
      "\u001b[0;31mValueError\u001b[0m                                Traceback (most recent call last)",
      "\u001b[0;32m<ipython-input-79-f039710a8284>\u001b[0m in \u001b[0;36m<module>\u001b[0;34m\u001b[0m\n\u001b[1;32m      1\u001b[0m \u001b[0;31m# Il faut connaitre l'origine de cette erreur\u001b[0m\u001b[0;34m\u001b[0m\u001b[0;34m\u001b[0m\u001b[0;34m\u001b[0m\u001b[0m\n\u001b[0;32m----> 2\u001b[0;31m \u001b[0;32mif\u001b[0m \u001b[0mx\u001b[0m\u001b[0;34m>\u001b[0m\u001b[0;36m0\u001b[0m\u001b[0;34m:\u001b[0m\u001b[0;34m\u001b[0m\u001b[0;34m\u001b[0m\u001b[0m\n\u001b[0m\u001b[1;32m      3\u001b[0m     \u001b[0mprint\u001b[0m\u001b[0;34m(\u001b[0m\u001b[0;34m'Bonjour'\u001b[0m\u001b[0;34m)\u001b[0m\u001b[0;34m\u001b[0m\u001b[0;34m\u001b[0m\u001b[0m\n",
      "\u001b[0;31mValueError\u001b[0m: The truth value of an array with more than one element is ambiguous. Use a.any() or a.all()"
     ]
    }
   ],
   "source": [
    "# Il faut connaitre l'origine de cette erreur\n",
    "if x>0:\n",
    "    print('Bonjour')"
   ]
  },
  {
   "cell_type": "markdown",
   "metadata": {},
   "source": [
    "## Fonctions utiles de numpy\n",
    "\n",
    "* Fonction mathématique véctorisée: `sin`, `cos`, `tan`, `exp`, `log`, `arcsin`, `arccos`, `arctan`, `arctan2`, ...\n",
    "* Fonction sur les tableaux : `mean`, `min`, `max`, `sum`, `prod`, `std`, `var`\n",
    "* Tri : `sort`, `argsort`\n",
    "\n",
    "De façon générale, toutes les opérations usuelles existent, il faut juste trouver le bonne fonction !\n",
    "\n"
   ]
  },
  {
   "cell_type": "code",
   "execution_count": null,
   "metadata": {},
   "outputs": [],
   "source": [
    "a = np.random.rand(10)\n",
    "a.max() # method\n",
    "np.max(a) # fonction"
   ]
  },
  {
   "cell_type": "code",
   "execution_count": null,
   "metadata": {},
   "outputs": [],
   "source": [
    "np.arctan2(-1, -1) # arctan(arg1/arg2)"
   ]
  },
  {
   "cell_type": "markdown",
   "metadata": {},
   "source": [
    "# Indexer un tableau\n",
    "\n",
    "* Slices \n",
    "    * Tous les éléments sauf le premier\n",
    "    * Sauf le dernier\n",
    "    * Un élément sur deux\n",
    "* Indexer avec un tableau d'entier\n",
    "* Indexer avec un tableau de booléens\n"
   ]
  },
  {
   "cell_type": "code",
   "execution_count": null,
   "metadata": {},
   "outputs": [],
   "source": [
    "import numpy as np\n"
   ]
  },
  {
   "cell_type": "code",
   "execution_count": null,
   "metadata": {},
   "outputs": [],
   "source": [
    "x = np.linspace(-1, 1, 50, endpoint=False)\n",
    "x[2:9]\n",
    "x[9:12]"
   ]
  },
  {
   "cell_type": "code",
   "execution_count": null,
   "metadata": {},
   "outputs": [],
   "source": [
    "x[4:11:2]\n",
    "# x[start:stop:step], comme range ou arange"
   ]
  },
  {
   "cell_type": "code",
   "execution_count": null,
   "metadata": {},
   "outputs": [],
   "source": [
    "# tout sauf le dernier\n",
    "x[:-1]"
   ]
  },
  {
   "cell_type": "code",
   "execution_count": null,
   "metadata": {},
   "outputs": [],
   "source": [
    "# Les deux derniers\n",
    "x[-2:]"
   ]
  },
  {
   "cell_type": "code",
   "execution_count": null,
   "metadata": {},
   "outputs": [],
   "source": []
  },
  {
   "cell_type": "code",
   "execution_count": null,
   "metadata": {},
   "outputs": [],
   "source": [
    "# La différence entre deux éléments consécutifs (dérivée numérique)\n",
    "x[1:] - x[:-1]"
   ]
  },
  {
   "cell_type": "code",
   "execution_count": null,
   "metadata": {},
   "outputs": [],
   "source": []
  },
  {
   "cell_type": "code",
   "execution_count": null,
   "metadata": {},
   "outputs": [],
   "source": [
    "# Indexer avec un tableau d'entier\n",
    "indices = np.array([1, 5, 10])\n",
    "x[indices]"
   ]
  },
  {
   "cell_type": "code",
   "execution_count": null,
   "metadata": {},
   "outputs": [],
   "source": [
    "# Par exemple : argsort\n",
    "# Les trois éléments les plus petits\n",
    "x = np.random.rand(10)\n",
    "x"
   ]
  },
  {
   "cell_type": "code",
   "execution_count": null,
   "metadata": {},
   "outputs": [],
   "source": [
    "x.argsort()"
   ]
  },
  {
   "cell_type": "code",
   "execution_count": null,
   "metadata": {},
   "outputs": [],
   "source": [
    "indices =  x.argsort()[:3]"
   ]
  },
  {
   "cell_type": "code",
   "execution_count": null,
   "metadata": {},
   "outputs": [],
   "source": [
    "x[indices]"
   ]
  },
  {
   "cell_type": "code",
   "execution_count": null,
   "metadata": {},
   "outputs": [],
   "source": []
  },
  {
   "cell_type": "code",
   "execution_count": null,
   "metadata": {},
   "outputs": [],
   "source": []
  },
  {
   "cell_type": "code",
   "execution_count": null,
   "metadata": {},
   "outputs": [],
   "source": []
  },
  {
   "cell_type": "code",
   "execution_count": null,
   "metadata": {},
   "outputs": [],
   "source": [
    "# Avec un tableau de booléens\n",
    "x = np.random.rand(5)\n",
    "x"
   ]
  },
  {
   "cell_type": "code",
   "execution_count": null,
   "metadata": {},
   "outputs": [],
   "source": [
    "masque = np.array([True, False, False, True, True])\n",
    "x[masque] = [1, 2, 5]\n",
    "x"
   ]
  },
  {
   "cell_type": "code",
   "execution_count": null,
   "metadata": {},
   "outputs": [],
   "source": [
    "x>0.5"
   ]
  },
  {
   "cell_type": "code",
   "execution_count": null,
   "metadata": {},
   "outputs": [],
   "source": [
    "x[x>0.5]"
   ]
  },
  {
   "cell_type": "code",
   "execution_count": null,
   "metadata": {},
   "outputs": [],
   "source": [
    "~(x==3) ^ (x<0.5)"
   ]
  },
  {
   "cell_type": "code",
   "execution_count": null,
   "metadata": {},
   "outputs": [],
   "source": [
    "~False + 1"
   ]
  },
  {
   "cell_type": "code",
   "execution_count": null,
   "metadata": {},
   "outputs": [],
   "source": [
    "def val_abs(x):\n",
    "    res = np.zeros(len(x))\n",
    "    res[x>0] = x[x>0]\n",
    "    res[x<=0] = -x[x<=0]\n",
    "    return res"
   ]
  },
  {
   "cell_type": "code",
   "execution_count": null,
   "metadata": {},
   "outputs": [],
   "source": [
    "x[:, 1]"
   ]
  },
  {
   "cell_type": "markdown",
   "metadata": {
    "extensions": {
     "jupyter_dashboards": {
      "version": 1,
      "views": {
       "grid_default": {
        "col": 0,
        "height": 8,
        "hidden": false,
        "row": 112,
        "width": 12
       },
       "report_default": {}
      }
     }
    },
    "slideshow": {
     "slide_type": "slide"
    }
   },
   "source": [
    "# Tracer des graphs\n",
    "\n",
    "* Initialiser l'affichage\n",
    "    * c'est automatique dans spyder (à vérifier...)\n",
    "    * C'est automatique dans les jupyter. Il y a plusieurs modes\n",
    "    * Dans un script c'est plus compliqué (graph interactif ou pas, sortie pdf, ...)\n",
    "    \n",
    "\n",
    "* il faut importer les fonctions pour tracer."
   ]
  },
  {
   "cell_type": "code",
   "execution_count": 80,
   "metadata": {
    "extensions": {
     "jupyter_dashboards": {
      "version": 1,
      "views": {
       "grid_default": {
        "hidden": true
       },
       "report_default": {}
      }
     }
    }
   },
   "outputs": [],
   "source": [
    "# %matplotlib notebook\n",
    "import matplotlib.pyplot as plt\n",
    "from matplotlib.pyplot import *\n",
    "import numpy as np"
   ]
  },
  {
   "cell_type": "code",
   "execution_count": 81,
   "metadata": {
    "extensions": {
     "jupyter_dashboards": {
      "version": 1,
      "views": {
       "grid_default": {
        "col": 4,
        "height": 9,
        "hidden": false,
        "row": 120,
        "width": 4
       },
       "report_default": {}
      }
     }
    },
    "slideshow": {
     "slide_type": "slide"
    }
   },
   "outputs": [
    {
     "data": {
      "image/png": "[encoded data removed]",
      "text/plain": [
       "<Figure size 720x432 with 1 Axes>"
      ]
     },
     "metadata": {
      "needs_background": "light"
     },
     "output_type": "display_data"
    }
   ],
   "source": [
    "# Données\n",
    "X = np.linspace(-2,2, 100)\n",
    "Y = np.sin(X)**2*np.exp(-X**2)\n",
    "Y_noise = Y + .1*(np.random.rand(len(X))-0.5)\n",
    "\n",
    "# Graph\n",
    "plt.figure(figsize=(10, 6))\n",
    "plt.plot(X,Y, label=\"Theory\")\n",
    "plt.plot(X,Y_noise, 'o', label=\"Experiment\")\n",
    "plt.xlabel('Voltage [V]')\n",
    "plt.ylabel(r'$\\zeta$ [m]')\n",
    "plt.text(0, 0.15, r'$E = \\int_0^\\infty mc^2 dt$')\n",
    "\n",
    "plt.title(\"Nonsense graph\")\n",
    "plt.legend(loc='upper left')\n",
    "plt.grid(True)\n",
    "plt.savefig('ma_figure.pdf')\n",
    "plt.savefig('ma_figure.svg')"
   ]
  },
  {
   "cell_type": "code",
   "execution_count": null,
   "metadata": {},
   "outputs": [],
   "source": [
    "s = \"\"\"Bonjour\n",
    "Hello\n",
    "\"\"\"\n",
    "s = 'Bonjour\\nHello\\n'"
   ]
  },
  {
   "cell_type": "code",
   "execution_count": null,
   "metadata": {},
   "outputs": [],
   "source": [
    "r'$\\nu$'"
   ]
  },
  {
   "cell_type": "markdown",
   "metadata": {
    "extensions": {
     "jupyter_dashboards": {
      "version": 1,
      "views": {
       "grid_default": {
        "col": 0,
        "height": 9,
        "hidden": false,
        "row": 130,
        "width": 12
       },
       "report_default": {}
      }
     }
    },
    "slideshow": {
     "slide_type": "slide"
    }
   },
   "source": [
    "## Quelques commandes graphiques \n",
    "\n",
    "* ``plot(X,Y)``\n",
    "* ``loglog(X,Y)``, ``semilogx(X,Y)``, ``semilogy(X,Y)`` \n",
    "* ``errorbar(X,Y, xerr=sig_X, yerr=sig_Y, fmt='o')`` \n",
    "* ``xlabel('blabla')``, ``ylabel('blabla')``, ``title('blabla')``\n",
    "* ``xlim((x_inf, x_sup))``, ``ylim((y_inf, y_sup))`` pour zoomer sur une partie du graph\n",
    "* ``grid(True)`` pour tracer une grille\n",
    "* ``subplot(nx,ny,m)`` pour faires plusieurs plots\n",
    "* ``imshow(image)`` pour tracer une matrice en fausse couleur et ``colorbar()`` pour tracer l'échelle"
   ]
  },
  {
   "cell_type": "markdown",
   "metadata": {
    "extensions": {
     "jupyter_dashboards": {
      "version": 1,
      "views": {
       "grid_default": {
        "col": 0,
        "height": 4,
        "hidden": false,
        "row": 139,
        "width": 12
       },
       "report_default": {}
      }
     }
    },
    "slideshow": {
     "slide_type": "slide"
    }
   },
   "source": [
    "* ``text(x,y,s)``\n",
    "* ``savefig(nom_fichier)``. Pour sauver une figure. Le formet est déterminé par l'extension. Utiliser ``pdf`` ou `svg` si on veut modifier le fichier (avec Inkscape par exemple).\n",
    "\n",
    "Le site web de matplotlib regorge d'exemples avec tout type de graph."
   ]
  },
  {
   "cell_type": "code",
   "execution_count": null,
   "metadata": {},
   "outputs": [],
   "source": []
  }
 ],
 "metadata": {
  "kernelspec": {
   "display_name": "Python 3",
   "language": "python",
   "name": "python3"
  },
  "language_info": {
   "codemirror_mode": {
    "name": "ipython",
    "version": 3
   },
   "file_extension": ".py",
   "mimetype": "text/x-python",
   "name": "python",
   "nbconvert_exporter": "python",
   "pygments_lexer": "ipython3",
   "version": "3.8.8"
  },
  "varInspector": {
   "cols": {
    "lenName": 16,
    "lenType": 16,
    "lenVar": 40
   },
   "kernels_config": {
    "python": {
     "delete_cmd_postfix": "",
     "delete_cmd_prefix": "del ",
     "library": "var_list.py",
     "varRefreshCmd": "print(var_dic_list())"
    },
    "r": {
     "delete_cmd_postfix": ") ",
     "delete_cmd_prefix": "rm(",
     "library": "var_list.r",
     "varRefreshCmd": "cat(var_dic_list()) "
    }
   },
   "types_to_exclude": [
    "module",
    "function",
    "builtin_function_or_method",
    "instance",
    "_Feature"
   ],
   "window_display": false
  }
 },
 "nbformat": 4,
 "nbformat_minor": 4
}
