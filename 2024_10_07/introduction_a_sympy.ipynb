{
 "cells": [
  {
   "cell_type": "markdown",
   "metadata": {},
   "source": [
    "# Introduction à sympy"
   ]
  },
  {
   "cell_type": "code",
   "execution_count": 1,
   "metadata": {},
   "outputs": [],
   "source": [
    "# Attention : sympy import sin, cos, pi, ...\n",
    "# Ne pas faire un from numpy import * (ou from math import *)\n",
    "from sympy import *\n",
    "from IPython.display import display\n",
    "init_printing() # Permet d'afficher les équations"
   ]
  },
  {
   "cell_type": "code",
   "execution_count": 2,
   "metadata": {},
   "outputs": [
    {
     "data": {
      "image/png": "[encoded data removed]",
      "text/latex": [
       "$\\displaystyle \\frac{1}{x^{2} + 1}$"
      ],
      "text/plain": [
       "  1   \n",
       "──────\n",
       " 2    \n",
       "x  + 1"
      ]
     },
     "execution_count": 2,
     "metadata": {},
     "output_type": "execute_result"
    }
   ],
   "source": [
    "# Exemple\n",
    "x = Symbol('x')\n",
    "1/(1+x**2)"
   ]
  },
  {
   "cell_type": "code",
   "execution_count": 3,
   "metadata": {},
   "outputs": [
    {
     "data": {
      "image/png": "[encoded data removed]",
      "text/latex": [
       "$\\displaystyle \\pi$"
      ],
      "text/plain": [
       "π"
      ]
     },
     "execution_count": 3,
     "metadata": {},
     "output_type": "execute_result"
    }
   ],
   "source": [
    "pi"
   ]
  },
  {
   "cell_type": "code",
   "execution_count": 4,
   "metadata": {},
   "outputs": [
    {
     "data": {
      "image/png": "[encoded data removed]",
      "text/latex": [
       "$\\displaystyle \\int\\limits_{0}^{\\infty} \\frac{1}{x^{2} + 1}\\, dx$"
      ],
      "text/plain": [
       "∞          \n",
       "⌠          \n",
       "⎮   1      \n",
       "⎮ ────── dx\n",
       "⎮  2       \n",
       "⎮ x  + 1   \n",
       "⌡          \n",
       "0          "
      ]
     },
     "execution_count": 4,
     "metadata": {},
     "output_type": "execute_result"
    }
   ],
   "source": [
    "# Expression formelle\n",
    "mon_integrale = Integral(1/(1+x**2), (x, 0, oo))\n",
    "mon_integrale"
   ]
  },
  {
   "cell_type": "code",
   "execution_count": 5,
   "metadata": {},
   "outputs": [
    {
     "data": {
      "image/png": "[encoded data removed]",
      "text/latex": [
       "$\\displaystyle \\frac{\\pi}{2}$"
      ],
      "text/plain": [
       "π\n",
       "─\n",
       "2"
      ]
     },
     "execution_count": 5,
     "metadata": {},
     "output_type": "execute_result"
    }
   ],
   "source": [
    "# Calcul de l'intégrale\n",
    "mon_integrale.doit()"
   ]
  },
  {
   "cell_type": "code",
   "execution_count": 6,
   "metadata": {},
   "outputs": [
    {
     "name": "stdout",
     "output_type": "stream",
     "text": [
      "Integral(1/(x**2 + 1), (x, 0, oo))\n"
     ]
    },
    {
     "data": {
      "image/png": "[encoded data removed]",
      "text/latex": [
       "$\\displaystyle \\int\\limits_{0}^{\\infty} \\frac{1}{x^{2} + 1}\\, dx$"
      ],
      "text/plain": [
       "∞          \n",
       "⌠          \n",
       "⎮   1      \n",
       "⎮ ────── dx\n",
       "⎮  2       \n",
       "⎮ x  + 1   \n",
       "⌡          \n",
       "0          "
      ]
     },
     "metadata": {},
     "output_type": "display_data"
    },
    {
     "name": "stdout",
     "output_type": "stream",
     "text": [
      "\\int\\limits_{0}^{\\infty} \\frac{1}{x^{2} + 1}\\, dx\n"
     ]
    }
   ],
   "source": [
    "# Représenter une expression\n",
    "print(mon_integrale) # permet de faire une copier/coller\n",
    "display(mon_integrale) # Affiche joliment. \n",
    "print(latex(mon_integrale)) # Représentation pour latex"
   ]
  },
  {
   "cell_type": "code",
   "execution_count": 8,
   "metadata": {},
   "outputs": [
    {
     "data": {
      "image/png": "[encoded data removed]",
      "text/latex": [
       "$\\displaystyle \\frac{1}{1 + \\frac{1}{1 + \\frac{1}{x + 1}}}$"
      ],
      "text/plain": [
       "      1      \n",
       "─────────────\n",
       "        1    \n",
       "1 + ─────────\n",
       "          1  \n",
       "    1 + ─────\n",
       "        x + 1"
      ]
     },
     "metadata": {},
     "output_type": "display_data"
    },
    {
     "data": {
      "image/png": "[encoded data removed]",
      "text/latex": [
       "$\\displaystyle \\frac{x + 2}{2 x + 3}$"
      ],
      "text/plain": [
       " x + 2 \n",
       "───────\n",
       "2⋅x + 3"
      ]
     },
     "metadata": {},
     "output_type": "display_data"
    }
   ],
   "source": [
    "# Simplification\n",
    "# Fonction ou méthode simplify\n",
    "\n",
    "expr = 1/(1+1/(1+1/(1+x)))\n",
    "display(expr)\n",
    "display(simplify(expr))\n",
    "#expr.simplify()"
   ]
  },
  {
   "cell_type": "code",
   "execution_count": 9,
   "metadata": {},
   "outputs": [
    {
     "data": {
      "image/png": "[encoded data removed]",
      "text/latex": [
       "$\\displaystyle a^{15} + 15 a^{14} b + 105 a^{13} b^{2} + 455 a^{12} b^{3} + 1365 a^{11} b^{4} + 3003 a^{10} b^{5} + 5005 a^{9} b^{6} + 6435 a^{8} b^{7} + 6435 a^{7} b^{8} + 5005 a^{6} b^{9} + 3003 a^{5} b^{10} + 1365 a^{4} b^{11} + 455 a^{3} b^{12} + 105 a^{2} b^{13} + 15 a b^{14} + b^{15}$"
      ],
      "text/plain": [
       " 15       14          13  2        12  3         11  4         10  5         9\n",
       "a   + 15⋅a  ⋅b + 105⋅a  ⋅b  + 455⋅a  ⋅b  + 1365⋅a  ⋅b  + 3003⋅a  ⋅b  + 5005⋅a \n",
       "\n",
       "  6         8  7         7  8         6  9         5  10         4  11        \n",
       "⋅b  + 6435⋅a ⋅b  + 6435⋅a ⋅b  + 5005⋅a ⋅b  + 3003⋅a ⋅b   + 1365⋅a ⋅b   + 455⋅a\n",
       "\n",
       "3  12        2  13         14    15\n",
       " ⋅b   + 105⋅a ⋅b   + 15⋅a⋅b   + b  "
      ]
     },
     "execution_count": 9,
     "metadata": {},
     "output_type": "execute_result"
    }
   ],
   "source": [
    "# Expansion\n",
    "# Fonction ou méthode expand\n",
    "\n",
    "a = Symbol('a')\n",
    "b = Symbol('b')\n",
    "\n",
    "expr = (a+b)**15\n",
    "expr.expand()"
   ]
  },
  {
   "cell_type": "code",
   "execution_count": 10,
   "metadata": {},
   "outputs": [
    {
     "data": {
      "image/png": "[encoded data removed]",
      "text/latex": [
       "$\\displaystyle \\sum_{n=1}^{m} a^{n}$"
      ],
      "text/plain": [
       "  m     \n",
       " ___    \n",
       " ╲      \n",
       "  ╲    n\n",
       "  ╱   a \n",
       " ╱      \n",
       " ‾‾‾    \n",
       "n = 1   "
      ]
     },
     "execution_count": 10,
     "metadata": {},
     "output_type": "execute_result"
    }
   ],
   "source": [
    "n = Symbol('n', integer=True, positive=True)\n",
    "m = Symbol('m', integer=True, positive=True)\n",
    "Sum(a**n, (n, 1, m))"
   ]
  },
  {
   "cell_type": "code",
   "execution_count": 12,
   "metadata": {},
   "outputs": [
    {
     "data": {
      "image/png": "[encoded data removed]",
      "text/latex": [
       "$\\displaystyle \\sqrt{1 - y^{2}}$"
      ],
      "text/plain": [
       "   ________\n",
       "  ╱      2 \n",
       "╲╱  1 - y  "
      ]
     },
     "metadata": {},
     "output_type": "display_data"
    }
   ],
   "source": [
    "# Remplacer des valeurs\n",
    "expr = sin(x)\n",
    "expr\n",
    "y = Symbol('y')\n",
    "display(expr.subs(x, acos(y)))"
   ]
  },
  {
   "cell_type": "code",
   "execution_count": 13,
   "metadata": {},
   "outputs": [
    {
     "data": {
      "image/png": "[encoded data removed]",
      "text/latex": [
       "$\\displaystyle \\alpha$"
      ],
      "text/plain": [
       "α"
      ]
     },
     "metadata": {},
     "output_type": "display_data"
    }
   ],
   "source": [
    "alpha = Symbol('alpha')\n",
    "display(alpha) # Utilisation des lettres grec"
   ]
  },
  {
   "cell_type": "code",
   "execution_count": 15,
   "metadata": {},
   "outputs": [
    {
     "data": {
      "image/png": "[encoded data removed]",
      "text/latex": [
       "$\\displaystyle \\hbar$"
      ],
      "text/plain": [
       "h̅"
      ]
     },
     "execution_count": 15,
     "metadata": {},
     "output_type": "execute_result"
    }
   ],
   "source": [
    "e = Symbol('e')\n",
    "epsilon_0 = Symbol('epsilon_0') # Indices\n",
    "hbar = Symbol('hbar')\n",
    "c = Symbol('c')\n",
    "m_e = Symbol('m_e')\n",
    "epsilon_0\n",
    "hbar"
   ]
  },
  {
   "cell_type": "code",
   "execution_count": 16,
   "metadata": {},
   "outputs": [
    {
     "data": {
      "image/png": "[encoded data removed]",
      "text/latex": [
       "$\\displaystyle \\frac{e^{2}}{4 \\pi c \\epsilon_{0} \\hbar}$"
      ],
      "text/plain": [
       "     2    \n",
       "    e     \n",
       "──────────\n",
       "4⋅π⋅c⋅ε₀⋅h̅"
      ]
     },
     "metadata": {},
     "output_type": "display_data"
    }
   ],
   "source": [
    "fine_structure = e**2/(4*pi*epsilon_0*hbar*c)\n",
    "display(fine_structure)"
   ]
  },
  {
   "cell_type": "code",
   "execution_count": 17,
   "metadata": {},
   "outputs": [
    {
     "data": {
      "image/png": "[encoded data removed]",
      "text/latex": [
       "$\\displaystyle \\frac{\\alpha^{2} c^{2} m_{e}}{2 \\hbar}$"
      ],
      "text/plain": [
       " 2  2   \n",
       "α ⋅c ⋅mₑ\n",
       "────────\n",
       "  2⋅h̅  "
      ]
     },
     "metadata": {},
     "output_type": "display_data"
    },
    {
     "data": {
      "image/png": "[encoded data removed]",
      "text/latex": [
       "$\\displaystyle \\frac{e^{4} m_{e}}{32 \\pi^{2} \\epsilon_{0}^{2} \\hbar^{3}}$"
      ],
      "text/plain": [
       "    4       \n",
       "   e ⋅mₑ    \n",
       "────────────\n",
       "    2   2  3\n",
       "32⋅π ⋅ε₀ ⋅h̅ "
      ]
     },
     "metadata": {},
     "output_type": "display_data"
    }
   ],
   "source": [
    "rydberg = m_e *c**2*alpha**2/2/hbar\n",
    "display(rydberg)\n",
    "rydberg = simplify(rydberg.subs(alpha, fine_structure) )\n",
    "display(rydberg)"
   ]
  },
  {
   "cell_type": "code",
   "execution_count": 21,
   "metadata": {},
   "outputs": [
    {
     "data": {
      "image/png": "[encoded data removed]",
      "text/latex": [
       "$\\displaystyle 2.06706866614968 \\cdot 10^{16}$"
      ],
      "text/plain": [
       "2.06706866614968e+16"
      ]
     },
     "execution_count": 21,
     "metadata": {},
     "output_type": "execute_result"
    }
   ],
   "source": [
    "numerical_values = {\n",
    "    e : 1.60217662E-19,\n",
    "    epsilon_0 : 8.8541878128E-12,\n",
    "    hbar : 1.0545718E-34,\n",
    "    c : 299792458,\n",
    "    m_e : 9.10938356E-31\n",
    "}\n",
    "\n",
    "\n",
    "N(1/fine_structure.subs(numerical_values))\n",
    "N(rydberg.subs(numerical_values))"
   ]
  },
  {
   "cell_type": "code",
   "execution_count": 22,
   "metadata": {},
   "outputs": [
    {
     "data": {
      "image/png": "[encoded data removed]",
      "text/latex": [
       "$\\displaystyle \\theta - \\frac{\\theta^{3}}{6} + O\\left(\\theta^{4}\\right)$"
      ],
      "text/plain": [
       "     3        \n",
       "    θ     ⎛ 4⎞\n",
       "θ - ── + O⎝θ ⎠\n",
       "    6         "
      ]
     },
     "metadata": {},
     "output_type": "display_data"
    },
    {
     "data": {
      "image/png": "[encoded data removed]",
      "text/latex": [
       "$\\displaystyle - \\frac{\\theta^{3}}{6} + \\theta$"
      ],
      "text/plain": [
       "   3    \n",
       "  θ     \n",
       "- ── + θ\n",
       "  6     "
      ]
     },
     "metadata": {},
     "output_type": "display_data"
    }
   ],
   "source": [
    "# Devellopement limité\n",
    "theta = Symbol('theta')\n",
    "dev_sin = sin(theta).series(theta, 0, n=4)\n",
    "display(dev_sin)\n",
    "display(dev_sin.removeO())"
   ]
  },
  {
   "cell_type": "code",
   "execution_count": 23,
   "metadata": {},
   "outputs": [
    {
     "data": {
      "image/png": "[encoded data removed]",
      "text/latex": [
       "$\\displaystyle 1$"
      ],
      "text/plain": [
       "1"
      ]
     },
     "execution_count": 23,
     "metadata": {},
     "output_type": "execute_result"
    }
   ],
   "source": [
    "# Limite\n",
    "\n",
    "limit(sin(x)/x, x, 0)"
   ]
  },
  {
   "cell_type": "code",
   "execution_count": 24,
   "metadata": {},
   "outputs": [
    {
     "data": {
      "image/png": "[encoded data removed]",
      "text/latex": [
       "$\\displaystyle x \\left(\\sqrt{2} x \\cos{\\left(x + \\frac{\\pi}{4} \\right)} + 2 \\cos{\\left(x \\right)}\\right) e^{x}$"
      ],
      "text/plain": [
       "  ⎛        ⎛    π⎞           ⎞  x\n",
       "x⋅⎜√2⋅x⋅cos⎜x + ─⎟ + 2⋅cos(x)⎟⋅ℯ \n",
       "  ⎝        ⎝    4⎠           ⎠   "
      ]
     },
     "execution_count": 24,
     "metadata": {},
     "output_type": "execute_result"
    }
   ],
   "source": [
    "# Dérivées\n",
    "\n",
    "expr = x**2 * exp(x) * cos(x)\n",
    "simplify(expr.diff(x))"
   ]
  },
  {
   "cell_type": "code",
   "execution_count": 25,
   "metadata": {},
   "outputs": [
    {
     "data": {
      "image/png": "[encoded data removed]",
      "text/latex": [
       "$\\displaystyle \\frac{x^{2} e^{x} \\sin{\\left(x \\right)}}{2} + \\frac{x^{2} e^{x} \\cos{\\left(x \\right)}}{2} - x e^{x} \\sin{\\left(x \\right)} + \\frac{e^{x} \\sin{\\left(x \\right)}}{2} - \\frac{e^{x} \\cos{\\left(x \\right)}}{2}$"
      ],
      "text/plain": [
       " 2  x           2  x                         x           x       \n",
       "x ⋅ℯ ⋅sin(x)   x ⋅ℯ ⋅cos(x)      x          ℯ ⋅sin(x)   ℯ ⋅cos(x)\n",
       "──────────── + ──────────── - x⋅ℯ ⋅sin(x) + ───────── - ─────────\n",
       "     2              2                           2           2    "
      ]
     },
     "execution_count": 25,
     "metadata": {},
     "output_type": "execute_result"
    }
   ],
   "source": [
    "# Intégrales \n",
    "integrale_compliquee = integrate(x**2 * exp(x) * cos(x), x)\n",
    "integrale_compliquee"
   ]
  },
  {
   "cell_type": "code",
   "execution_count": 26,
   "metadata": {},
   "outputs": [
    {
     "data": {
      "text/plain": [
       "array([-5.00000000e-01, -4.99997123e-01, -4.99976640e-01, -4.99919992e-01,\n",
       "       -4.99807585e-01, -4.99618801e-01, -4.99332004e-01, -4.98924561e-01,\n",
       "       -4.98372855e-01, -4.97652312e-01, -4.96737424e-01, -4.95601786e-01,\n",
       "       -4.94218127e-01, -4.92558353e-01, -4.90593596e-01, -4.88294260e-01,\n",
       "       -4.85630082e-01, -4.82570196e-01, -4.79083200e-01, -4.75137231e-01,\n",
       "       -4.70700049e-01, -4.65739126e-01, -4.60221738e-01, -4.54115076e-01,\n",
       "       -4.47386351e-01, -4.40002914e-01, -4.31932386e-01, -4.23142791e-01,\n",
       "       -4.13602700e-01, -4.03281388e-01, -3.92148994e-01, -3.80176692e-01,\n",
       "       -3.67336879e-01, -3.53603358e-01, -3.38951552e-01, -3.23358708e-01,\n",
       "       -3.06804126e-01, -2.89269394e-01, -2.70738637e-01, -2.51198771e-01,\n",
       "       -2.30639781e-01, -2.09054999e-01, -1.86441402e-01, -1.62799924e-01,\n",
       "       -1.38135772e-01, -1.12458767e-01, -8.57836915e-02, -5.81306515e-02,\n",
       "       -2.95254543e-02, -1.11022302e-16])"
      ]
     },
     "execution_count": 26,
     "metadata": {},
     "output_type": "execute_result"
    }
   ],
   "source": [
    "# Conversion vers numpy\n",
    "import numpy as np\n",
    "\n",
    "resultat_numpy = lambdify(x, integrale_compliquee)\n",
    "\n",
    "resultat_numpy(np.linspace(0, 1))"
   ]
  },
  {
   "cell_type": "code",
   "execution_count": 27,
   "metadata": {},
   "outputs": [
    {
     "name": "stdout",
     "output_type": "stream",
     "text": [
      "x**2*exp(x)*sin(x)/2 + x**2*exp(x)*cos(x)/2 - x*exp(x)*sin(x) + exp(x)*sin(x)/2 - exp(x)*cos(x)/2\n"
     ]
    }
   ],
   "source": [
    "print(integrale_compliquee)"
   ]
  },
  {
   "cell_type": "code",
   "execution_count": 28,
   "metadata": {},
   "outputs": [
    {
     "data": {
      "image/png": "[encoded data removed]",
      "text/latex": [
       "$\\displaystyle \\left( \\left[ \\left( x_{0}, \\  \\sin{\\left(x \\right)}\\right), \\  \\left( x_{1}, \\  e^{x}\\right), \\  \\left( x_{2}, \\  \\frac{x_{1}}{2}\\right), \\  \\left( x_{3}, \\  x_{0} x_{2}\\right), \\  \\left( x_{4}, \\  x_{2} \\cos{\\left(x \\right)}\\right), \\  \\left( x_{5}, \\  x^{2}\\right)\\right], \\  \\left[ - x x_{0} x_{1} + x_{3} x_{5} + x_{3} + x_{4} x_{5} - x_{4}\\right]\\right)$"
      ],
      "text/plain": [
       "⎛⎡              ⎛     x⎞  ⎛    x₁⎞                                ⎛     2⎞⎤   \n",
       "⎜⎢(x₀, sin(x)), ⎝x₁, ℯ ⎠, ⎜x₂, ──⎟, (x₃, x₀⋅x₂), (x₄, x₂⋅cos(x)), ⎝x₅, x ⎠⎥, [\n",
       "⎝⎣                        ⎝    2 ⎠                                        ⎦   \n",
       "\n",
       "                                   ⎞\n",
       "-x⋅x₀⋅x₁ + x₃⋅x₅ + x₃ + x₄⋅x₅ - x₄]⎟\n",
       "                                   ⎠"
      ]
     },
     "execution_count": 28,
     "metadata": {},
     "output_type": "execute_result"
    }
   ],
   "source": [
    "# Possibilité de simplifier le calcul numérique\n",
    "# Common sub expression\n",
    "cse(integrale_compliquee)"
   ]
  },
  {
   "cell_type": "code",
   "execution_count": 29,
   "metadata": {},
   "outputs": [
    {
     "name": "stdout",
     "output_type": "stream",
     "text": [
      "x0 = sin(x)\n",
      "x1 = exp(x)\n",
      "x2 = x1/2\n",
      "x3 = x0*x2\n",
      "x4 = x2*cos(x)\n",
      "x5 = x**2\n",
      "-x*x0*x1 + x3*x5 + x3 + x4*x5 - x4\n"
     ]
    }
   ],
   "source": [
    "interm_expr, res = cse(integrale_compliquee)\n",
    "for inter_var, expr in interm_expr:\n",
    "    print(f'{inter_var} = {expr}')\n",
    "print(res[0])"
   ]
  },
  {
   "cell_type": "code",
   "execution_count": 33,
   "metadata": {},
   "outputs": [
    {
     "name": "stdout",
     "output_type": "stream",
     "text": [
      "96.4 ms ± 6.24 ms per loop (mean ± std. dev. of 7 runs, 10 loops each)\n"
     ]
    }
   ],
   "source": [
    "x = np.linspace(0, 1, 1_000_000)\n",
    "\n",
    "%timeit resultat_numpy(x)"
   ]
  },
  {
   "cell_type": "code",
   "execution_count": 31,
   "metadata": {},
   "outputs": [
    {
     "name": "stdout",
     "output_type": "stream",
     "text": [
      "107 ms ± 6.59 ms per loop (mean ± std. dev. of 7 runs, 10 loops each)\n"
     ]
    }
   ],
   "source": [
    "def ma_foncion(x):\n",
    "    x0=np.sin(x)\n",
    "    x1=np.exp(x)\n",
    "    x2=x1/2\n",
    "    x3=x0*x2\n",
    "    x4=x2*np.cos(x)\n",
    "    x5=x**2\n",
    "    return -x*x0*x1 + x3*x5 + x3 + x4*x5 - x4\n",
    "\n",
    "%timeit ma_foncion(x)"
   ]
  },
  {
   "cell_type": "code",
   "execution_count": 32,
   "metadata": {},
   "outputs": [
    {
     "name": "stdout",
     "output_type": "stream",
     "text": [
      "15.7 ms ± 181 µs per loop (mean ± std. dev. of 7 runs, 100 loops each)\n"
     ]
    }
   ],
   "source": [
    "import numba\n",
    "\n",
    "@numba.vectorize\n",
    "def ma_foncion(x):\n",
    "    x0=np.sin(x)\n",
    "    x1=np.exp(x)\n",
    "    x2=x1/2\n",
    "    x3=x0*x2\n",
    "    x4=x2*np.cos(x)\n",
    "    x5=x**2\n",
    "    return -x*x0*x1 + x3*x5 + x3 + x4*x5 - x4\n",
    "\n",
    "ma_foncion(x)\n",
    "%timeit ma_foncion(x)"
   ]
  },
  {
   "cell_type": "code",
   "execution_count": null,
   "metadata": {},
   "outputs": [],
   "source": []
  },
  {
   "cell_type": "code",
   "execution_count": null,
   "metadata": {},
   "outputs": [],
   "source": []
  },
  {
   "cell_type": "code",
   "execution_count": null,
   "metadata": {},
   "outputs": [],
   "source": [
    "# Vérifier des calculs manuels\n",
    "\n",
    "expr1 = (a + I*b)**2\n",
    "expr2 = a**2 - b**2  + 2*I*a*b\n",
    "display(expr1)\n",
    "display(expr2)\n",
    "assert simplify(expr1-expr2)==0"
   ]
  },
  {
   "cell_type": "code",
   "execution_count": null,
   "metadata": {},
   "outputs": [],
   "source": [
    "# Lettres grec, indices\n",
    "alpha = Symbol('alpha')\n",
    "x_0 = Symbol('x_0')\n",
    "display(alpha, x_0)"
   ]
  },
  {
   "cell_type": "code",
   "execution_count": null,
   "metadata": {},
   "outputs": [],
   "source": [
    "# Constantes\n",
    "display(pi, I)"
   ]
  },
  {
   "cell_type": "code",
   "execution_count": null,
   "metadata": {},
   "outputs": [],
   "source": [
    "# Attenion ne pas utiliser de float\n",
    "display(sqrt(pi/2))\n",
    "display(sqrt((1/2)*pi))"
   ]
  },
  {
   "cell_type": "code",
   "execution_count": null,
   "metadata": {},
   "outputs": [],
   "source": []
  },
  {
   "cell_type": "code",
   "execution_count": null,
   "metadata": {},
   "outputs": [],
   "source": [
    "# Assumption : permet de donner les conditions pour simplifier le calcul\n",
    "x = Symbol('x')\n",
    "a = Symbol('a')\n",
    "integrate(exp(-a*x**2), x)"
   ]
  },
  {
   "cell_type": "code",
   "execution_count": null,
   "metadata": {},
   "outputs": [],
   "source": [
    "a = Symbol('a', positive=True)\n",
    "integrate(exp(-a*x**2), x)"
   ]
  },
  {
   "cell_type": "code",
   "execution_count": null,
   "metadata": {},
   "outputs": [],
   "source": []
  },
  {
   "cell_type": "code",
   "execution_count": null,
   "metadata": {},
   "outputs": [],
   "source": [
    "# Ne pas oublier ce que l'on sait faire en python (boucle for, fonction!!!)\n",
    "\n",
    "out = 0\n",
    "for i, letter in enumerate('abcdefgh'):\n",
    "    out += Symbol(letter)*x**i\n",
    "display(out)"
   ]
  },
  {
   "cell_type": "code",
   "execution_count": null,
   "metadata": {},
   "outputs": [],
   "source": []
  },
  {
   "cell_type": "code",
   "execution_count": null,
   "metadata": {},
   "outputs": [],
   "source": [
    "\n",
    "theta = Symbol('theta')\n",
    "r = Symbol('r', positive=True)\n",
    "phi = Symbol('phi')\n",
    "\n",
    "def polar_gradient(u):\n",
    "    return u.diff(r), u.diff(theta)/r, u.diff(phi)/(r*sin(theta))\n",
    "\n",
    "def polar_divergence(u_r, u_theta, u_phi):\n",
    "    return (u_r.diff(r) + 2*u_r/r + \n",
    "            u_theta.diff(theta)/r + u_theta*cos(theta)/(r*sin(theta)) + \n",
    "            u_phi.diff(phi)/(r*sin(theta)))\n",
    "\n",
    "def polar_laplacien(u):\n",
    "    return polar_divergence(*polar_gradient(u))\n"
   ]
  },
  {
   "cell_type": "code",
   "execution_count": null,
   "metadata": {},
   "outputs": [],
   "source": [
    "polar_laplacien(1/r)"
   ]
  },
  {
   "cell_type": "code",
   "execution_count": null,
   "metadata": {},
   "outputs": [],
   "source": [
    "sigma = Symbol('sigma')\n",
    "simplify(polar_laplacien(exp(-r**2/(2*sigma**2))))"
   ]
  },
  {
   "cell_type": "code",
   "execution_count": null,
   "metadata": {},
   "outputs": [],
   "source": [
    "F = Function('F')\n",
    "polar_laplacien(F(r, theta, phi))"
   ]
  },
  {
   "cell_type": "code",
   "execution_count": null,
   "metadata": {},
   "outputs": [],
   "source": []
  },
  {
   "cell_type": "code",
   "execution_count": null,
   "metadata": {},
   "outputs": [],
   "source": []
  }
 ],
 "metadata": {
  "kernelspec": {
   "display_name": "Python 3",
   "language": "python",
   "name": "python3"
  },
  "language_info": {
   "codemirror_mode": {
    "name": "ipython",
    "version": 3
   },
   "file_extension": ".py",
   "mimetype": "text/x-python",
   "name": "python",
   "nbconvert_exporter": "python",
   "pygments_lexer": "ipython3",
   "version": "3.8.8"
  },
  "varInspector": {
   "cols": {
    "lenName": 16,
    "lenType": 16,
    "lenVar": 40
   },
   "kernels_config": {
    "python": {
     "delete_cmd_postfix": "",
     "delete_cmd_prefix": "del ",
     "library": "var_list.py",
     "varRefreshCmd": "print(var_dic_list())"
    },
    "r": {
     "delete_cmd_postfix": ") ",
     "delete_cmd_prefix": "rm(",
     "library": "var_list.r",
     "varRefreshCmd": "cat(var_dic_list()) "
    }
   },
   "types_to_exclude": [
    "module",
    "function",
    "builtin_function_or_method",
    "instance",
    "_Feature"
   ],
   "window_display": false
  }
 },
 "nbformat": 4,
 "nbformat_minor": 2
}
