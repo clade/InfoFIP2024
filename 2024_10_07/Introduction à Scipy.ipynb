{
 "cells": [
  {
   "cell_type": "code",
   "execution_count": 1,
   "metadata": {},
   "outputs": [],
   "source": [
    "%matplotlib inline\n",
    "import matplotlib.pyplot as plt"
   ]
  },
  {
   "cell_type": "markdown",
   "metadata": {},
   "source": [
    "# Introduction à Scipy\n",
    "\n",
    "Scipy contient des implémentations de plusieurs algorithmes numérique : \n",
    "* Fonctions spéciales\n",
    "* Intégrales\n",
    "* Equations différentielles\n",
    "* Optimisation\n",
    "* Algebre linéaires\n",
    "* Transformée de Fourier"
   ]
  },
  {
   "cell_type": "markdown",
   "metadata": {},
   "source": [
    "## Fonctions spéciales\n",
    "\n",
    "Fonctions qui ne sont pas dans numpy : Bessel, Airy, fonction d'erreur, ... (Ce sont des fonctions définies par des intégrales)\n",
    "\n",
    "Exemple : fonction erreur\n",
    "    $$ \\mathrm{erf}(x) = \\int_0^x \\frac{2}{\\sqrt{\\pi}} e^{-t^2} dt$$"
   ]
  },
  {
   "cell_type": "code",
   "execution_count": 2,
   "metadata": {},
   "outputs": [
    {
     "data": {
      "text/plain": [
       "0.8427007929497148"
      ]
     },
     "execution_count": 2,
     "metadata": {},
     "output_type": "execute_result"
    }
   ],
   "source": [
    "from scipy.special import erf\n",
    "\n",
    "erf(1)"
   ]
  },
  {
   "cell_type": "markdown",
   "metadata": {},
   "source": [
    "## Intégrales numériques\n",
    "\n",
    "### Intégrale d'une fonction : \n",
    "\n",
    "Il existe plusieurs algorithme. Le plus simple : ``quad``\n",
    "\n"
   ]
  },
  {
   "cell_type": "code",
   "execution_count": 3,
   "metadata": {},
   "outputs": [],
   "source": [
    "import numpy as np\n",
    "from scipy.integrate import quad"
   ]
  },
  {
   "cell_type": "code",
   "execution_count": 16,
   "metadata": {},
   "outputs": [],
   "source": [
    "quad?"
   ]
  },
  {
   "cell_type": "code",
   "execution_count": 7,
   "metadata": {},
   "outputs": [
    {
     "name": "stdout",
     "output_type": "stream",
     "text": [
      "0.8427007929497149\n",
      "1.1102230246251565e-16\n"
     ]
    }
   ],
   "source": [
    "def ma_fonction(t):\n",
    "    return 2/np.sqrt(np.pi)*np.exp(-t**2)\n",
    "\n",
    "# Renvoie la valeur et une estimation de l'incertitude\n",
    "res, err = quad(ma_fonction, 0, 1)\n",
    "print(res)\n",
    "print(res - erf(1))"
   ]
  },
  {
   "cell_type": "code",
   "execution_count": 6,
   "metadata": {},
   "outputs": [
    {
     "data": {
      "text/plain": [
       "9.355858232026503e-15"
      ]
     },
     "execution_count": 6,
     "metadata": {},
     "output_type": "execute_result"
    }
   ],
   "source": [
    "err"
   ]
  },
  {
   "cell_type": "code",
   "execution_count": 12,
   "metadata": {},
   "outputs": [
    {
     "data": {
      "text/plain": [
       "(0.5491762723634688, 6.09708142155739e-15)"
      ]
     },
     "execution_count": 12,
     "metadata": {},
     "output_type": "execute_result"
    }
   ],
   "source": [
    "def ma_fonction(t, sigma):\n",
    "    return np.exp(-t**2/(2*sigma**2))\n",
    "\n",
    "quad(ma_fonction, 0, 1, args=(0.45,))\n"
   ]
  },
  {
   "cell_type": "markdown",
   "metadata": {},
   "source": [
    "### Remarques\n",
    "\n",
    "**Si on connait la fonction, ne pas en faire un tableau**\n",
    "\n",
    "La fonction quad calcul automatiquement les points pour l'intégrale afin d'atteintre une erreur donnée\n",
    "\n",
    "La fonction quad peut intégrer sur des bornes infinies (``np.inf``)"
   ]
  },
  {
   "cell_type": "code",
   "execution_count": 15,
   "metadata": {},
   "outputs": [
    {
     "name": "stdout",
     "output_type": "stream",
     "text": [
      "1.0\n",
      "Nombre de points : 135\n",
      "[1.0, 233.0651686899483, 0.0042906454260024365, 38.29883980138545, 0.026110451522446055, 13.799951646519888, 0.07246402202084402, 6.737877409458626, 0.14841469193194298, 3.8319360294671116, 0.26096469051417465, 2.366125858665451, 0.42263178703605525, 1.5245670511343803, 0.655923922306948, 3.0, 467.1303373798966, 1.0085812908520049, 77.5976796027709, 1.0522209030448921, 28.59990329303978, 1.144928044041688, 14.475754818917252, 1.2968293838638858, 8.663872058934224, 1.5219293810283492, 5.732251717330902, 1.8452635740721104, 4.049134102268761, 2.311847844613896, 0.3333333333333333, 0.9914917211633424, 0.002140730155975198, 0.9503707796587423, 0.01288698328505552, 0.8734173341321257, 0.03496515319488383, 0.771111460337607, 0.06908102634435172, 0.6570607102179157, 0.11542183370180259, 0.5419280009918633, 0.17445151561935043, 0.4325544184621764, 0.24696638213085922, 7.0, 935.2606747597932, 3.0171625817040097, 156.1953592055418, 3.1044418060897843, 58.19980658607956, 3.289856088083376, 29.951509637834505, 3.5936587677277716, 18.327744117868445, 4.043858762056699, 12.464503434661804, 4.690527148144221, 9.09826820453752, 5.623695689227792, 1.6666666666666667, 2.982983442326685, 1.0042814603119503, 2.900741559317485, 1.025773966570111, 2.7468346682642513, 1.0699303063897676, 2.542222920675214, 1.1381620526887035, 2.314121420435831, 1.2308436674036054, 2.083856001983727, 1.348903031238701, 1.865108836924353, 1.4939327642617184, 15.0, 1871.5213495195865, 7.0343251634080195, 313.39071841108364, 7.2088836121795685, 117.3996131721591, 7.579712176166752, 60.903019275669, 8.187317535455545, 37.65548823573689, 9.087717524113398, 25.929006869323608, 10.381054296288442, 19.19653640907504, 12.247391378455584, 4.333333333333333, 6.96596688465337, 3.0085629206239006, 6.801483118634969, 3.051547933140222, 6.4936693365285025, 3.139860612779535, 6.084445841350428, 3.2763241053774066, 5.628242840871662, 3.4616873348072104, 5.167712003967454, 3.697806062477402, 4.730217673848705, 3.987865528523437, 2.2, 2.9914735848840213, 1.6704696954134042, 2.9497472788156407, 1.6894788656975634, 2.8692806326316127, 1.7281108044496238, 2.757219014001881, 1.786713070570853, 2.624901726324746, 1.8642588856134132, 2.4826862670501937, 1.9597592146943454, 2.3387483344930677, 2.0723234807562694, 1.2857142857142858, 1.6628744543393004, 1.002138441243147, 1.6442381996263316, 1.0128044777397527, 1.6079293277430784, 1.0343643753702503, 1.5565358675566676, 1.0667745974805094, 1.4945771149986462, 1.109124177374897, 1.4263913067407121, 1.1604556499570065, 1.3556380200000877, 1.2198220534983297]\n",
      "Erreur : 0.0\n"
     ]
    }
   ],
   "source": [
    "list_of_points = []\n",
    "def ma_fonction(t):\n",
    "    list_of_points.append(t)\n",
    "    return 2/np.sqrt(np.pi)*np.exp(-t**2)\n",
    "res, err = quad(ma_fonction, 0, np.inf)\n",
    "print(res)\n",
    "print(\"Nombre de points :\" , len(list_of_points))\n",
    "print(list_of_points)\n",
    "print(\"Erreur :\", np.abs(res - 1 ))"
   ]
  },
  {
   "cell_type": "code",
   "execution_count": null,
   "metadata": {},
   "outputs": [],
   "source": [
    "print(len(list_of_points))"
   ]
  },
  {
   "cell_type": "code",
   "execution_count": null,
   "metadata": {},
   "outputs": [],
   "source": []
  },
  {
   "cell_type": "markdown",
   "metadata": {},
   "source": [
    "### Intégrales d'un tableau de points\n",
    "\n",
    "Utiliser la fonction trapz ou simps"
   ]
  },
  {
   "cell_type": "code",
   "execution_count": 17,
   "metadata": {},
   "outputs": [
    {
     "data": {
      "text/plain": [
       "11.5"
      ]
     },
     "execution_count": 17,
     "metadata": {},
     "output_type": "execute_result"
    },
    {
     "data": {
      "image/png": "[encoded data removed]",
      "text/plain": [
       "<Figure size 432x288 with 1 Axes>"
      ]
     },
     "metadata": {
      "needs_background": "light"
     },
     "output_type": "display_data"
    }
   ],
   "source": [
    "from scipy.integrate import trapz\n",
    "\n",
    "data_y = [0, 1, 2, 4, 8]\n",
    "data_x = [0, 2, 3, 4, 5]\n",
    "\n",
    "plt.plot(data_x, data_y)\n",
    "plt.fill_between(data_x, data_y, alpha=.5)\n",
    "\n",
    "trapz(data_y, data_x)"
   ]
  },
  {
   "cell_type": "markdown",
   "metadata": {},
   "source": [
    "## Equations différentielles\n",
    "\n",
    "La librairie ``scipy.integrate`` contient des fonctions pour résoudre les équations différentielles ordinaires, c'est à dire des équations de la forme:\n",
    "\n",
    "$$\\frac{dy}{dt} = f(t, y)$$\n",
    "    \n",
    "avec conditions initiales (on connait $y$ à l'instant $t_0$). La variable $y$ peut être un tableau numpy.\n",
    "\n",
    "On utilise la fonction ``solve_ivp`` (remplace ``ode`` ou ``odeint``): \n",
    "\n",
    "    def solve_ivp(fun, t_span, y0, method='RK45', t_eval=None, ...)\n",
    "    \n",
    "Il existe plusieurs méthodes d'intégration (par défaut Runge-Kutta d'ordre 5(4) qui adapte la taille des pas)\n",
    "\n",
    "La fonction ``solve_ivp`` renvoie un objet (dictionnaire) qui le résultat (res.y) mais aussi d'autres informations sur la convergence de l'algorithme.\n",
    "\n",
    "Exemple : \n",
    "$$\\frac{dy}{dt} = -y$$    \n",
    "\n"
   ]
  },
  {
   "cell_type": "code",
   "execution_count": 30,
   "metadata": {},
   "outputs": [
    {
     "data": {
      "text/plain": [
       "  message: The solver successfully reached the end of the integration interval.\n",
       "  success: True\n",
       "   status: 0\n",
       "        t: [ 0.000e+00  4.000e-01  8.000e-01  1.200e+00  1.600e+00\n",
       "             2.000e+00  2.400e+00  2.800e+00  3.200e+00  3.600e+00\n",
       "             4.000e+00]\n",
       "        y: [[ 1.000e+00  6.703e-01  4.493e-01  3.012e-01  2.019e-01\n",
       "              1.353e-01  9.072e-02  6.081e-02  4.076e-02  2.732e-02\n",
       "              1.832e-02]]\n",
       "      sol: None\n",
       " t_events: None\n",
       " y_events: None\n",
       "     nfev: 122\n",
       "     njev: 0\n",
       "      nlu: 0"
      ]
     },
     "execution_count": 30,
     "metadata": {},
     "output_type": "execute_result"
    }
   ],
   "source": [
    "from scipy.integrate import solve_ivp\n",
    "# Solve initial value problem\n",
    "\n",
    "def f(t, y):\n",
    "    return -y\n",
    "\n",
    "res = solve_ivp(f, t_span=[0, 4], y0=[1], t_eval=np.linspace(0, 4, 11),\n",
    "                rtol=1E-7, atol=1E-7)\n",
    "res"
   ]
  },
  {
   "cell_type": "code",
   "execution_count": 31,
   "metadata": {},
   "outputs": [
    {
     "data": {
      "text/plain": [
       "[<matplotlib.lines.Line2D at 0x76b9501a4880>]"
      ]
     },
     "execution_count": 31,
     "metadata": {},
     "output_type": "execute_result"
    },
    {
     "data": {
      "image/png": "[encoded data removed]",
      "text/plain": [
       "<Figure size 432x288 with 1 Axes>"
      ]
     },
     "metadata": {
      "needs_background": "light"
     },
     "output_type": "display_data"
    }
   ],
   "source": [
    "plt.plot(res.t, res.y[0], 'o')"
   ]
  },
  {
   "cell_type": "code",
   "execution_count": 32,
   "metadata": {},
   "outputs": [
    {
     "data": {
      "text/plain": [
       "1.7731305576584866e-08"
      ]
     },
     "execution_count": 32,
     "metadata": {},
     "output_type": "execute_result"
    }
   ],
   "source": [
    "res.y[0, -1] - np.exp(-4)"
   ]
  },
  {
   "cell_type": "code",
   "execution_count": 33,
   "metadata": {},
   "outputs": [
    {
     "data": {
      "text/plain": [
       "11"
      ]
     },
     "execution_count": 33,
     "metadata": {},
     "output_type": "execute_result"
    }
   ],
   "source": [
    "len(res.t)"
   ]
  },
  {
   "cell_type": "code",
   "execution_count": 34,
   "metadata": {},
   "outputs": [],
   "source": [
    "solve_ivp?"
   ]
  },
  {
   "cell_type": "code",
   "execution_count": 36,
   "metadata": {},
   "outputs": [
    {
     "data": {
      "text/plain": [
       "  message: The solver successfully reached the end of the integration interval.\n",
       "  success: True\n",
       "   status: 0\n",
       "        t: [ 0.000e+00  4.000e-01  8.000e-01  1.200e+00  1.600e+00\n",
       "             2.000e+00  2.400e+00  2.800e+00  3.200e+00  3.600e+00\n",
       "             4.000e+00]\n",
       "        y: [[ 1.000e+00  1.835e-02  3.366e-04  6.255e-06  1.605e-07\n",
       "              1.440e-07  9.504e-07  7.836e-09 -2.641e-07 -4.419e-07\n",
       "              2.538e-07]]\n",
       "      sol: None\n",
       " t_events: None\n",
       " y_events: None\n",
       "     nfev: 140\n",
       "     njev: 0\n",
       "      nlu: 0"
      ]
     },
     "execution_count": 36,
     "metadata": {},
     "output_type": "execute_result"
    }
   ],
   "source": [
    "# Utilisation d'un paramètre \n",
    "def f(t, y, tau):\n",
    "    return -y/tau\n",
    "\n",
    "#res = solve_ivp(lambda t, y:f(t, y, tau=0.1), t_span=[0, 4], y0=[1], t_eval=np.linspace(0, 4, 11))\n",
    "res = solve_ivp(f, t_span=[0, 4], y0=[1], t_eval=np.linspace(0, 4, 11), args=(0.1,))\n",
    "res"
   ]
  },
  {
   "cell_type": "markdown",
   "metadata": {},
   "source": [
    "## Equations différentielles d'ordre élevé\n",
    "\n",
    "L'astuce consiste à augmenter la dimension de $y$ en rajoutant des fonctions intermédiaires qui sont les dérivées de la fonction initiale.\n",
    "\n",
    "Par exemple l'équation \n",
    "\n",
    "$$\\frac{d^2y}{dt^2} = \\frac{f(y)}{m}$$\n",
    "\n",
    "devient \n",
    "\n",
    "$$\\frac d{dt} \\begin{pmatrix}\n",
    "y \\\\ \n",
    "y ^\\prime\n",
    "\\end{pmatrix} = \\begin{pmatrix}\n",
    "y ^\\prime \\\\\n",
    "f(y)/m\n",
    "\\end{pmatrix} = F(y, y^\\prime)$$\n",
    "\n",
    "\n",
    "Voir le TD"
   ]
  },
  {
   "cell_type": "markdown",
   "metadata": {},
   "source": [
    "# Optimisation\n",
    "* Zeros d'une fonction\n",
    "* Minimum\n",
    "* Ajustement d'une courbe\n",
    "\n",
    "Exemple : \n",
    "* première solution $>0$ de $\\tan(x)=x$\n",
    "* Premier minimum de $sinc(x)$"
   ]
  },
  {
   "cell_type": "code",
   "execution_count": 37,
   "metadata": {},
   "outputs": [
    {
     "data": {
      "text/plain": [
       "(-10.0, 10.0)"
      ]
     },
     "execution_count": 37,
     "metadata": {},
     "output_type": "execute_result"
    },
    {
     "data": {
      "image/png": "[encoded data removed]",
      "text/plain": [
       "<Figure size 432x288 with 1 Axes>"
      ]
     },
     "metadata": {
      "needs_background": "light"
     },
     "output_type": "display_data"
    }
   ],
   "source": [
    "x = np.linspace(0, 10, 2001)\n",
    "plt.plot(x, x)\n",
    "plt.plot(x, np.tan(x))\n",
    "plt.ylim(-10, 10)"
   ]
  },
  {
   "cell_type": "code",
   "execution_count": 39,
   "metadata": {},
   "outputs": [
    {
     "data": {
      "text/plain": [
       "      converged: True\n",
       "           flag: 'converged'\n",
       " function_calls: 12\n",
       "     iterations: 11\n",
       "           root: 4.493409457909064"
      ]
     },
     "execution_count": 39,
     "metadata": {},
     "output_type": "execute_result"
    }
   ],
   "source": [
    "from scipy.optimize import root_scalar\n",
    "\n",
    "def f(x):\n",
    "    return np.tan(x) - x\n",
    "\n",
    "res = root_scalar(f, bracket=[4, 4.7], method='brentq')\n",
    "res"
   ]
  },
  {
   "cell_type": "code",
   "execution_count": 40,
   "metadata": {},
   "outputs": [
    {
     "data": {
      "text/plain": [
       "4.493409457909064"
      ]
     },
     "execution_count": 40,
     "metadata": {},
     "output_type": "execute_result"
    },
    {
     "data": {
      "image/png": "[encoded data removed]",
      "text/plain": [
       "<Figure size 432x288 with 1 Axes>"
      ]
     },
     "metadata": {
      "needs_background": "light"
     },
     "output_type": "display_data"
    }
   ],
   "source": [
    "x = np.linspace(0, 10, 2001)\n",
    "plt.plot(x, x)\n",
    "plt.plot(x, np.tan(x))\n",
    "plt.ylim(-10, 10)\n",
    "plt.plot(res.root, [f(res.root)+res.root], 'o')\n",
    "\n",
    "res.root"
   ]
  },
  {
   "cell_type": "markdown",
   "metadata": {},
   "source": [
    "### Minimisation"
   ]
  },
  {
   "cell_type": "code",
   "execution_count": 41,
   "metadata": {},
   "outputs": [],
   "source": [
    "def french_sinc(x):\n",
    "    return np.sinc(x/np.pi)"
   ]
  },
  {
   "cell_type": "code",
   "execution_count": 42,
   "metadata": {
    "scrolled": true
   },
   "outputs": [
    {
     "data": {
      "image/png": "[encoded data removed]",
      "text/plain": [
       "<Figure size 432x288 with 1 Axes>"
      ]
     },
     "metadata": {
      "needs_background": "light"
     },
     "output_type": "display_data"
    }
   ],
   "source": [
    "plt.plot(x, french_sinc(x))\n",
    "plt.grid()"
   ]
  },
  {
   "cell_type": "code",
   "execution_count": 43,
   "metadata": {},
   "outputs": [],
   "source": [
    "from scipy.optimize import minimize_scalar\n",
    "minimize_scalar?"
   ]
  },
  {
   "cell_type": "code",
   "execution_count": 45,
   "metadata": {},
   "outputs": [
    {
     "data": {
      "text/plain": [
       " message: \n",
       "          Optimization terminated successfully;\n",
       "          The returned value satisfies the termination criteria\n",
       "          (using xtol = 1.48e-08 )\n",
       " success: True\n",
       "     fun: -0.21723362821122166\n",
       "       x: 4.4934094607238\n",
       "     nit: 9\n",
       "    nfev: 12"
      ]
     },
     "execution_count": 45,
     "metadata": {},
     "output_type": "execute_result"
    }
   ],
   "source": [
    "res = minimize_scalar(french_sinc, [4, 4.71])\n",
    "res"
   ]
  },
  {
   "cell_type": "code",
   "execution_count": 46,
   "metadata": {},
   "outputs": [
    {
     "data": {
      "text/plain": [
       "[<matplotlib.lines.Line2D at 0x76b93f948700>]"
      ]
     },
     "execution_count": 46,
     "metadata": {},
     "output_type": "execute_result"
    },
    {
     "data": {
      "image/png": "[encoded data removed]",
      "text/plain": [
       "<Figure size 432x288 with 1 Axes>"
      ]
     },
     "metadata": {
      "needs_background": "light"
     },
     "output_type": "display_data"
    }
   ],
   "source": [
    "plt.plot(x, french_sinc(x))\n",
    "plt.grid()\n",
    "plt.plot(res.x, res.fun, 'ko')"
   ]
  },
  {
   "cell_type": "code",
   "execution_count": 47,
   "metadata": {},
   "outputs": [
    {
     "data": {
      "text/plain": [
       "[<matplotlib.lines.Line2D at 0x76b93fc883a0>]"
      ]
     },
     "execution_count": 47,
     "metadata": {},
     "output_type": "execute_result"
    },
    {
     "data": {
      "image/png": "[encoded data removed]",
      "text/plain": [
       "<Figure size 432x288 with 1 Axes>"
      ]
     },
     "metadata": {
      "needs_background": "light"
     },
     "output_type": "display_data"
    }
   ],
   "source": [
    "x = np.linspace(0, 30, 2001)\n",
    "plt.plot(x, french_sinc(x))\n",
    "plt.grid()\n",
    "res = minimize_scalar(french_sinc, [10, 205])\n",
    "plt.plot(res.x, res.fun, 'ko')"
   ]
  },
  {
   "cell_type": "markdown",
   "metadata": {},
   "source": [
    "# Algèbre linéaire\n",
    "\n",
    "numpy.linalg et scipy.linalg (plus de fonction dans scipy)\n",
    "\n",
    "* Matrice : np.matrix (produit matriciel)\n",
    "* Inverse de matrice\n",
    "* Diagonalisation/valeurs propres/vecteurs propres\n",
    "\n",
    "Exemple: valeurs propres de \n",
    "$$\\begin{bmatrix}\n",
    "1 & 1 & 0\\\\\n",
    "1 & 0 & 1 \\\\\n",
    "0  & 1 & -1\\\\\n",
    "\\end{bmatrix}$$\n",
    "\n",
    "Tracer les vp en fonction de $\\delta$ pour $\\Omega=1$\n",
    "$$\\begin{bmatrix}\n",
    "\\delta & \\frac\\Omega2 & 0\\\\\n",
    "\\frac\\Omega2 & 0 & \\frac\\Omega2 \\\\\n",
    "0  & \\frac\\Omega2 & -\\delta\\\\\n",
    "\\end{bmatrix}$$"
   ]
  },
  {
   "cell_type": "code",
   "execution_count": 55,
   "metadata": {},
   "outputs": [
    {
     "name": "stdout",
     "output_type": "stream",
     "text": [
      "(2, 2)\n",
      "(2, 3)\n"
     ]
    },
    {
     "data": {
      "text/plain": [
       "array([[1, 1],\n",
       "       [1, 2],\n",
       "       [2, 2]])"
      ]
     },
     "execution_count": 55,
     "metadata": {},
     "output_type": "execute_result"
    }
   ],
   "source": [
    "import numpy as np\n",
    "\n",
    "a = np.array([[0, 1], [1, 1]])\n",
    "b = np.array([[0, 1, 0], [1, 1, 2]])\n",
    "print(a.shape)\n",
    "print(b.shape)#a = np.matrix([[0, 1], [1, 1]])\n",
    "#a*a\n",
    "b.T @ a"
   ]
  },
  {
   "cell_type": "code",
   "execution_count": 56,
   "metadata": {},
   "outputs": [
    {
     "data": {
      "text/plain": [
       "matrix([[ 1,  1,  0],\n",
       "        [ 1,  0,  1],\n",
       "        [ 0,  1, -1]])"
      ]
     },
     "execution_count": 56,
     "metadata": {},
     "output_type": "execute_result"
    }
   ],
   "source": [
    "H = np.matrix([[1, 1, 0], [1, 0, 1], [0, 1, -1]])\n",
    "H"
   ]
  },
  {
   "cell_type": "code",
   "execution_count": 57,
   "metadata": {},
   "outputs": [
    {
     "data": {
      "text/plain": [
       "(array([-1.73205081,  0.        ,  1.73205081]),\n",
       " array([[-0.21132487, -0.57735027,  0.78867513],\n",
       "        [ 0.57735027,  0.57735027,  0.57735027],\n",
       "        [-0.78867513,  0.57735027,  0.21132487]]))"
      ]
     },
     "execution_count": 57,
     "metadata": {},
     "output_type": "execute_result"
    }
   ],
   "source": [
    "from scipy.linalg import eigh # Matrice hermicienne\n",
    "\n",
    "eigh(H) # Renvoie les valeurs propres et vecteurs propres"
   ]
  },
  {
   "cell_type": "code",
   "execution_count": 58,
   "metadata": {},
   "outputs": [],
   "source": [
    "def trois_niveaux(delta, omega):\n",
    "    H = np.matrix([[delta, omega/2, 0], [omega/2, 0, omega/2], [0, omega/2, -delta]])\n",
    "    return eigh(H)[0]\n",
    "    \n",
    "all_delta = np.linspace(-5, 5)\n",
    "sans_couplage = np.array([trois_niveaux(delta, omega=0) for delta in all_delta])\n",
    "avec_couplage = np.array([trois_niveaux(delta, omega=1) for delta in all_delta])"
   ]
  },
  {
   "cell_type": "code",
   "execution_count": 59,
   "metadata": {},
   "outputs": [
    {
     "data": {
      "text/plain": [
       "[<matplotlib.lines.Line2D at 0x76b93f7c42b0>,\n",
       " <matplotlib.lines.Line2D at 0x76b93f7c43a0>,\n",
       " <matplotlib.lines.Line2D at 0x76b93f7c4490>]"
      ]
     },
     "execution_count": 59,
     "metadata": {},
     "output_type": "execute_result"
    },
    {
     "data": {
      "image/png": "[encoded data removed]",
      "text/plain": [
       "<Figure size 432x288 with 1 Axes>"
      ]
     },
     "metadata": {
      "needs_background": "light"
     },
     "output_type": "display_data"
    }
   ],
   "source": [
    "plt.plot(all_delta, sans_couplage, 'k:')\n",
    "plt.plot(all_delta, avec_couplage, 'k-')"
   ]
  },
  {
   "cell_type": "code",
   "execution_count": null,
   "metadata": {},
   "outputs": [],
   "source": []
  }
 ],
 "metadata": {
  "kernelspec": {
   "display_name": "Python 3",
   "language": "python",
   "name": "python3"
  },
  "language_info": {
   "codemirror_mode": {
    "name": "ipython",
    "version": 3
   },
   "file_extension": ".py",
   "mimetype": "text/x-python",
   "name": "python",
   "nbconvert_exporter": "python",
   "pygments_lexer": "ipython3",
   "version": "3.8.8"
  },
  "varInspector": {
   "cols": {
    "lenName": 16,
    "lenType": 16,
    "lenVar": 40
   },
   "kernels_config": {
    "python": {
     "delete_cmd_postfix": "",
     "delete_cmd_prefix": "del ",
     "library": "var_list.py",
     "varRefreshCmd": "print(var_dic_list())"
    },
    "r": {
     "delete_cmd_postfix": ") ",
     "delete_cmd_prefix": "rm(",
     "library": "var_list.r",
     "varRefreshCmd": "cat(var_dic_list()) "
    }
   },
   "types_to_exclude": [
    "module",
    "function",
    "builtin_function_or_method",
    "instance",
    "_Feature"
   ],
   "window_display": false
  }
 },
 "nbformat": 4,
 "nbformat_minor": 2
}
