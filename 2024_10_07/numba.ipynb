{
 "cells": [
  {
   "cell_type": "markdown",
   "id": "b9176f1c",
   "metadata": {},
   "source": [
    "# Au delà de numpy : numba\n",
    "* Calculer $\\pi$ (avec une formule très très lente!!!)\n",
    "$$ \\frac\\pi4 = \\sum_i \\frac{(-1)^i}{2i+1} = 1 - \\frac13 + \\frac 15 - \\frac17 + \\ldots $$\n",
    "\n",
    "* numba.vectorize\n"
   ]
  },
  {
   "cell_type": "code",
   "execution_count": 1,
   "id": "c3846b5f",
   "metadata": {},
   "outputs": [],
   "source": [
    "def pi_python(N):\n",
    "    res = 0\n",
    "    coef = 1\n",
    "    for i in range(N):\n",
    "        res += coef/(2*i+1)\n",
    "        coef = -coef\n",
    "    return 4*res\n",
    "\n",
    "#%timeit pi_python(1000000) # 77 ms"
   ]
  },
  {
   "cell_type": "code",
   "execution_count": 5,
   "id": "373a3e5b",
   "metadata": {},
   "outputs": [
    {
     "name": "stdout",
     "output_type": "stream",
     "text": [
      "30.1 ms ± 4.7 ms per loop (mean ± std. dev. of 7 runs, 10 loops each)\n"
     ]
    }
   ],
   "source": [
    "import numpy as np\n",
    "def pi_np(N):\n",
    "    Ti = np.arange(N)\n",
    "    moins_un_puissance_i = ( 1-2*(Ti%2) )\n",
    "    return 4*np.sum( moins_un_puissance_i/(2*Ti+1))\n",
    "\n",
    "%timeit pi_np(1000000) # 11.5ms"
   ]
  },
  {
   "cell_type": "code",
   "execution_count": 3,
   "id": "3c3cb53b",
   "metadata": {},
   "outputs": [
    {
     "name": "stdout",
     "output_type": "stream",
     "text": [
      "909 µs ± 42.4 µs per loop (mean ± std. dev. of 7 runs, 1000 loops each)\n"
     ]
    }
   ],
   "source": [
    "from numba import jit, int64, float64\n",
    "import numba\n",
    "# Just in time complier\n",
    "\n",
    "numba_pi = jit( float64(int64) )(pi_python)\n",
    "\n",
    "%timeit numba_pi(1000000)"
   ]
  },
  {
   "cell_type": "code",
   "execution_count": 4,
   "id": "64ae3ca5",
   "metadata": {},
   "outputs": [
    {
     "data": {
      "text/plain": [
       "3.1415916535897743"
      ]
     },
     "execution_count": 4,
     "metadata": {},
     "output_type": "execute_result"
    }
   ],
   "source": [
    "numba_pi(1000000)"
   ]
  },
  {
   "cell_type": "code",
   "execution_count": 5,
   "id": "aa9609bc",
   "metadata": {},
   "outputs": [],
   "source": [
    "# Décorateur @\n",
    "@jit( float64(int64) )\n",
    "def numba_pi(N):\n",
    "    res = 0\n",
    "    coef = 1\n",
    "    for i in range(N):\n",
    "        res += coef/(2*i+1)\n",
    "        coef = -coef\n",
    "    return 4*res\n"
   ]
  },
  {
   "cell_type": "code",
   "execution_count": 10,
   "id": "962dade0",
   "metadata": {},
   "outputs": [
    {
     "name": "stdout",
     "output_type": "stream",
     "text": [
      "2.33 ms ± 225 µs per loop (mean ± std. dev. of 7 runs, 100 loops each)\n"
     ]
    }
   ],
   "source": [
    "#@jit(float64[:](float64[:], float64[:]), parallel=True)\n",
    "@jit(parallel=True)\n",
    "def somme(a, b):\n",
    "    N = len(a)\n",
    "    c = np.zeros(N)\n",
    "    for i in numba.prange(N):\n",
    "        c[i] = (a[i] + b[i])**2 + np.sin(a[i])\n",
    "    return c\n",
    "\n",
    "\n",
    "a = np.linspace(1, 2, 1000000)\n",
    "b = np.logspace(1, 2, 1000000)\n",
    "\n",
    "somme(a, b)\n",
    "\n",
    "%timeit somme(a, b)"
   ]
  },
  {
   "cell_type": "code",
   "execution_count": 11,
   "id": "e404916e",
   "metadata": {},
   "outputs": [
    {
     "name": "stdout",
     "output_type": "stream",
     "text": [
      "3.9 ms ± 331 µs per loop (mean ± std. dev. of 7 runs, 100 loops each)\n"
     ]
    }
   ],
   "source": [
    "%timeit (a + b)**2 + np.sin(a)"
   ]
  },
  {
   "cell_type": "code",
   "execution_count": null,
   "id": "992068e4",
   "metadata": {},
   "outputs": [],
   "source": [
    "# Numpy utilise des variables intermédiaires -> vitesse limitée par la mémoire\n",
    "#(a + b)*c + a\n",
    "#tmp1 = a + b\n",
    "#tmp2 = tmp1*c\n",
    "#res = tmp2 + a"
   ]
  },
  {
   "cell_type": "code",
   "execution_count": null,
   "id": "94d92f4b",
   "metadata": {},
   "outputs": [],
   "source": []
  },
  {
   "cell_type": "code",
   "execution_count": 12,
   "id": "75beca6f",
   "metadata": {},
   "outputs": [
    {
     "data": {
      "text/plain": [
       "5.269632"
      ]
     },
     "execution_count": 12,
     "metadata": {},
     "output_type": "execute_result"
    }
   ],
   "source": [
    "def volume(dimension, M):\n",
    "    pts = np.random.rand(M, dimension)*2 - 1\n",
    "    carre_norme = np.sum(pts**2, axis=1)\n",
    "    return np.mean(carre_norme<1) * 2**dimension\n",
    "\n",
    "volume(5, 1000000)"
   ]
  },
  {
   "cell_type": "code",
   "execution_count": 13,
   "id": "347f1498",
   "metadata": {},
   "outputs": [
    {
     "name": "stdout",
     "output_type": "stream",
     "text": [
      "2.79 s ± 144 ms per loop (mean ± std. dev. of 7 runs, 1 loop each)\n"
     ]
    }
   ],
   "source": [
    "%timeit volume(10, 10000000)"
   ]
  },
  {
   "cell_type": "code",
   "execution_count": 14,
   "id": "d2132361",
   "metadata": {},
   "outputs": [
    {
     "data": {
      "text/plain": [
       "5.281152"
      ]
     },
     "execution_count": 14,
     "metadata": {},
     "output_type": "execute_result"
    }
   ],
   "source": [
    "@jit(float64(float64, int64))\n",
    "def volume_numba(dimension, M):\n",
    "    output = 0\n",
    "    for i in range(M):\n",
    "        point = np.random.rand(dimension)*2 -1 \n",
    "        carre_norme = np.sum(point**2)\n",
    "        if carre_norme<1:\n",
    "            output += 1\n",
    "    return output/M * 2**dimension\n",
    "\n",
    "\n",
    "volume_numba(5, 1000000)\n"
   ]
  },
  {
   "cell_type": "code",
   "execution_count": 15,
   "id": "d7021020",
   "metadata": {},
   "outputs": [
    {
     "name": "stdout",
     "output_type": "stream",
     "text": [
      "1.71 s ± 6.54 ms per loop (mean ± std. dev. of 7 runs, 1 loop each)\n"
     ]
    }
   ],
   "source": [
    "%timeit volume_numba(10, 10000000)"
   ]
  },
  {
   "cell_type": "code",
   "execution_count": null,
   "id": "2a2f6509",
   "metadata": {},
   "outputs": [],
   "source": []
  }
 ],
 "metadata": {
  "kernelspec": {
   "display_name": "Python 3",
   "language": "python",
   "name": "python3"
  },
  "language_info": {
   "codemirror_mode": {
    "name": "ipython",
    "version": 3
   },
   "file_extension": ".py",
   "mimetype": "text/x-python",
   "name": "python",
   "nbconvert_exporter": "python",
   "pygments_lexer": "ipython3",
   "version": "3.8.8"
  },
  "varInspector": {
   "cols": {
    "lenName": 16,
    "lenType": 16,
    "lenVar": 40
   },
   "kernels_config": {
    "python": {
     "delete_cmd_postfix": "",
     "delete_cmd_prefix": "del ",
     "library": "var_list.py",
     "varRefreshCmd": "print(var_dic_list())"
    },
    "r": {
     "delete_cmd_postfix": ") ",
     "delete_cmd_prefix": "rm(",
     "library": "var_list.r",
     "varRefreshCmd": "cat(var_dic_list()) "
    }
   },
   "types_to_exclude": [
    "module",
    "function",
    "builtin_function_or_method",
    "instance",
    "_Feature"
   ],
   "window_display": false
  }
 },
 "nbformat": 4,
 "nbformat_minor": 5
}
