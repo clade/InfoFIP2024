{
 "cells": [
  {
   "cell_type": "markdown",
   "metadata": {},
   "source": [
    "# Introduction à sympy"
   ]
  },
  {
   "cell_type": "code",
   "execution_count": null,
   "metadata": {},
   "outputs": [],
   "source": [
    "# Attention : sympy import sin, cos, pi, ...\n",
    "# Ne pas faire un from numpy import * (ou from math import *)\n",
    "from sympy import *\n",
    "from IPython.display import display\n",
    "init_printing() # Permet d'afficher les équations"
   ]
  },
  {
   "cell_type": "code",
   "execution_count": null,
   "metadata": {},
   "outputs": [],
   "source": [
    "# Exemple\n",
    "x = Symbol('x')\n",
    "1/(1+x**2)"
   ]
  },
  {
   "cell_type": "code",
   "execution_count": null,
   "metadata": {},
   "outputs": [],
   "source": [
    "pi"
   ]
  },
  {
   "cell_type": "code",
   "execution_count": null,
   "metadata": {},
   "outputs": [],
   "source": [
    "# Expression formelle\n",
    "mon_integrale = Integral(1/(1+x**2), (x, 0, oo))\n",
    "mon_integrale"
   ]
  },
  {
   "cell_type": "code",
   "execution_count": null,
   "metadata": {},
   "outputs": [],
   "source": [
    "# Calcul de l'intégrale\n",
    "mon_integrale.doit()"
   ]
  },
  {
   "cell_type": "code",
   "execution_count": null,
   "metadata": {},
   "outputs": [],
   "source": [
    "# Représenter une expression\n",
    "print(mon_integrale) # permet de faire une copier/coller\n",
    "display(mon_integrale) # Affiche joliment. \n",
    "print(latex(mon_integrale)) # Représentation pour latex"
   ]
  },
  {
   "cell_type": "code",
   "execution_count": null,
   "metadata": {},
   "outputs": [],
   "source": [
    "# Simplification\n",
    "# Fonction ou méthode simplify\n",
    "\n",
    "expr = 1/(1+1/(1+1/(1+x)))\n",
    "display(expr)\n",
    "display(simplify(expr))\n",
    "#expr.simplify()"
   ]
  },
  {
   "cell_type": "code",
   "execution_count": null,
   "metadata": {},
   "outputs": [],
   "source": [
    "# Expansion\n",
    "# Fonction ou méthode expand\n",
    "\n",
    "a = Symbol('a')\n",
    "b = Symbol('b')\n",
    "\n",
    "expr = (a+b)**15\n",
    "expr.expand()"
   ]
  },
  {
   "cell_type": "code",
   "execution_count": null,
   "metadata": {},
   "outputs": [],
   "source": [
    "n = Symbol('n', integer=True, positive=True)\n",
    "m = Symbol('m', integer=True, positive=True)\n",
    "Sum(a**n, (n, 1, m))"
   ]
  },
  {
   "cell_type": "code",
   "execution_count": null,
   "metadata": {},
   "outputs": [],
   "source": [
    "# Remplacer des valeurs\n",
    "expr = sin(x)\n",
    "\n",
    "y = Symbol('y')\n",
    "display(expr.subs(x, acos(y)))"
   ]
  },
  {
   "cell_type": "code",
   "execution_count": null,
   "metadata": {},
   "outputs": [],
   "source": [
    "alpha = Symbol('alpha')\n",
    "display(alpha) # Utilisation des lettres grec"
   ]
  },
  {
   "cell_type": "code",
   "execution_count": null,
   "metadata": {},
   "outputs": [],
   "source": [
    "e = Symbol('e')\n",
    "epsilon_0 = Symbol('epsilon_0') # Indices\n",
    "hbar = Symbol('hbar')\n",
    "c = Symbol('c')\n",
    "m_e = Symbol('m_e')\n",
    "epsilon_0"
   ]
  },
  {
   "cell_type": "code",
   "execution_count": null,
   "metadata": {},
   "outputs": [],
   "source": [
    "fine_structure = e**2/(4*pi*epsilon_0*hbar*c)\n",
    "display(fine_structure)\n",
    "\n",
    "rydberg = m_e *c**2*alpha**2/2/hbar\n",
    "display(rydberg)\n",
    "rydberg = simplify(rydberg.subs(alpha, fine_structure) )\n",
    "display(rydberg)\n",
    "\n",
    "numerical_values = {\n",
    "    e : 1.60217662E-19,\n",
    "    epsilon_0 : 8.8541878128E-12,\n",
    "    hbar : 1.0545718E-34,\n",
    "    c : 299792458,\n",
    "    m_e : 9.10938356E-31\n",
    "}\n",
    "\n",
    "\n",
    "print(N(1/fine_structure.subs(numerical_values)))\n",
    "N(rydberg.subs(numerical_values))"
   ]
  },
  {
   "cell_type": "code",
   "execution_count": null,
   "metadata": {},
   "outputs": [],
   "source": [
    "# Devellopement limité\n",
    "theta = Symbol('theta')\n",
    "dev_sin = sin(theta).series(theta, 0, n=4)\n",
    "display(dev_sin)\n",
    "display(dev_sin.removeO())"
   ]
  },
  {
   "cell_type": "code",
   "execution_count": null,
   "metadata": {},
   "outputs": [],
   "source": [
    "# Limite\n",
    "\n",
    "limit(sin(x)/x, x, 0)"
   ]
  },
  {
   "cell_type": "code",
   "execution_count": null,
   "metadata": {},
   "outputs": [],
   "source": [
    "# Dérivées\n",
    "\n",
    "expr = x**2 * exp(x) * cos(x)\n",
    "simplify(expr.diff(x))"
   ]
  },
  {
   "cell_type": "code",
   "execution_count": null,
   "metadata": {},
   "outputs": [],
   "source": [
    "# Intégrales \n",
    "integrale_compliquee = integrate(x**2 * exp(x) * cos(x), x)\n",
    "integrale_compliquee"
   ]
  },
  {
   "cell_type": "code",
   "execution_count": null,
   "metadata": {},
   "outputs": [],
   "source": [
    "# Conversion vers numpy\n",
    "import numpy as np\n",
    "\n",
    "resultat_numpy = lambdify(x, integrale_compliquee)\n",
    "\n",
    "resultat_numpy(np.linspace(0, 1))"
   ]
  },
  {
   "cell_type": "code",
   "execution_count": null,
   "metadata": {},
   "outputs": [],
   "source": [
    "print(integrale_compliquee)"
   ]
  },
  {
   "cell_type": "code",
   "execution_count": null,
   "metadata": {},
   "outputs": [],
   "source": [
    "# Possibilité de simplifier le calcul numérique\n",
    "# Common sub expression\n",
    "cse(integrale_compliquee)"
   ]
  },
  {
   "cell_type": "code",
   "execution_count": null,
   "metadata": {},
   "outputs": [],
   "source": [
    "interm_expr, res = cse(integrale_compliquee)\n",
    "for inter_var, expr in interm_expr:\n",
    "    print(f'{inter_var} = {expr}')\n",
    "print(res[0])"
   ]
  },
  {
   "cell_type": "code",
   "execution_count": null,
   "metadata": {},
   "outputs": [],
   "source": [
    "x = np.linspace(0, 1, 1000000)\n",
    "\n",
    "%timeit resultat_numpy(x)"
   ]
  },
  {
   "cell_type": "code",
   "execution_count": null,
   "metadata": {},
   "outputs": [],
   "source": [
    "def ma_foncion(x):\n",
    "    x0=np.sin(x)\n",
    "    x1=np.exp(x)\n",
    "    x2=x1/2\n",
    "    x3=x0*x2\n",
    "    x4=x2*np.cos(x)\n",
    "    x5=x**2\n",
    "    return -x*x0*x1 + x3*x5 + x3 + x4*x5 - x4\n",
    "\n",
    "%timeit ma_foncion(x)"
   ]
  },
  {
   "cell_type": "code",
   "execution_count": null,
   "metadata": {},
   "outputs": [],
   "source": [
    "import numba\n",
    "\n",
    "@numba.vectorize\n",
    "def ma_foncion(x):\n",
    "    x0=np.sin(x)\n",
    "    x1=np.exp(x)\n",
    "    x2=x1/2\n",
    "    x3=x0*x2\n",
    "    x4=x2*np.cos(x)\n",
    "    x5=x**2\n",
    "    return -x*x0*x1 + x3*x5 + x3 + x4*x5 - x4\n",
    "\n",
    "ma_foncion(x)\n",
    "%timeit ma_foncion(x)"
   ]
  },
  {
   "cell_type": "code",
   "execution_count": null,
   "metadata": {},
   "outputs": [],
   "source": []
  },
  {
   "cell_type": "code",
   "execution_count": null,
   "metadata": {},
   "outputs": [],
   "source": []
  },
  {
   "cell_type": "code",
   "execution_count": null,
   "metadata": {},
   "outputs": [],
   "source": [
    "# Vérifier des calculs manuels\n",
    "\n",
    "expr1 = (a + I*b)**2\n",
    "expr2 = a**2 - b**2  + 2*I*a*b\n",
    "display(expr1)\n",
    "display(expr2)\n",
    "assert simplify(expr1-expr2)==0"
   ]
  },
  {
   "cell_type": "code",
   "execution_count": null,
   "metadata": {},
   "outputs": [],
   "source": [
    "# Lettres grec, indices\n",
    "alpha = Symbol('alpha')\n",
    "x_0 = Symbol('x_0')\n",
    "display(alpha, x_0)"
   ]
  },
  {
   "cell_type": "code",
   "execution_count": null,
   "metadata": {},
   "outputs": [],
   "source": [
    "# Constantes\n",
    "display(pi, I)"
   ]
  },
  {
   "cell_type": "code",
   "execution_count": null,
   "metadata": {},
   "outputs": [],
   "source": [
    "# Attenion ne pas utiliser de float\n",
    "display(sqrt(pi/2))\n",
    "display(sqrt((1/2)*pi))"
   ]
  },
  {
   "cell_type": "code",
   "execution_count": null,
   "metadata": {},
   "outputs": [],
   "source": []
  },
  {
   "cell_type": "code",
   "execution_count": null,
   "metadata": {},
   "outputs": [],
   "source": [
    "# Assumption : permet de donner les conditions pour simplifier le calcul\n",
    "x = Symbol('x')\n",
    "a = Symbol('a')\n",
    "integrate(exp(-a*x**2), x)"
   ]
  },
  {
   "cell_type": "code",
   "execution_count": null,
   "metadata": {},
   "outputs": [],
   "source": [
    "a = Symbol('a', positive=True)\n",
    "integrate(exp(-a*x**2), x)"
   ]
  },
  {
   "cell_type": "code",
   "execution_count": null,
   "metadata": {},
   "outputs": [],
   "source": []
  },
  {
   "cell_type": "code",
   "execution_count": null,
   "metadata": {},
   "outputs": [],
   "source": [
    "# Ne pas oublier ce que l'on sait faire en python (boucle for, fonction!!!)\n",
    "\n",
    "out = 0\n",
    "for i, letter in enumerate('abcdefgh'):\n",
    "    out += Symbol(letter)*x**i\n",
    "display(out)"
   ]
  },
  {
   "cell_type": "code",
   "execution_count": null,
   "metadata": {},
   "outputs": [],
   "source": []
  },
  {
   "cell_type": "code",
   "execution_count": null,
   "metadata": {},
   "outputs": [],
   "source": [
    "\n",
    "theta = Symbol('theta')\n",
    "r = Symbol('r', positive=True)\n",
    "phi = Symbol('phi')\n",
    "\n",
    "def polar_gradient(u):\n",
    "    return u.diff(r), u.diff(theta)/r, u.diff(phi)/(r*sin(theta))\n",
    "\n",
    "def polar_divergence(u_r, u_theta, u_phi):\n",
    "    return (u_r.diff(r) + 2*u_r/r + \n",
    "            u_theta.diff(theta)/r + u_theta*cos(theta)/(r*sin(theta)) + \n",
    "            u_phi.diff(phi)/(r*sin(theta)))\n",
    "\n",
    "def polar_laplacien(u):\n",
    "    return polar_divergence(*polar_gradient(u))\n"
   ]
  },
  {
   "cell_type": "code",
   "execution_count": null,
   "metadata": {},
   "outputs": [],
   "source": [
    "polar_laplacien(1/r)"
   ]
  },
  {
   "cell_type": "code",
   "execution_count": null,
   "metadata": {},
   "outputs": [],
   "source": [
    "sigma = Symbol('sigma')\n",
    "simplify(polar_laplacien(exp(-r**2/(2*sigma**2))))"
   ]
  },
  {
   "cell_type": "code",
   "execution_count": null,
   "metadata": {},
   "outputs": [],
   "source": [
    "F = Function('F')\n",
    "polar_laplacien(F(r, theta, phi))"
   ]
  },
  {
   "cell_type": "code",
   "execution_count": null,
   "metadata": {},
   "outputs": [],
   "source": []
  },
  {
   "cell_type": "code",
   "execution_count": null,
   "metadata": {},
   "outputs": [],
   "source": []
  }
 ],
 "metadata": {
  "kernelspec": {
   "display_name": "Python 3",
   "language": "python",
   "name": "python3"
  },
  "language_info": {
   "codemirror_mode": {
    "name": "ipython",
    "version": 3
   },
   "file_extension": ".py",
   "mimetype": "text/x-python",
   "name": "python",
   "nbconvert_exporter": "python",
   "pygments_lexer": "ipython3",
   "version": "3.8.8"
  },
  "varInspector": {
   "cols": {
    "lenName": 16,
    "lenType": 16,
    "lenVar": 40
   },
   "kernels_config": {
    "python": {
     "delete_cmd_postfix": "",
     "delete_cmd_prefix": "del ",
     "library": "var_list.py",
     "varRefreshCmd": "print(var_dic_list())"
    },
    "r": {
     "delete_cmd_postfix": ") ",
     "delete_cmd_prefix": "rm(",
     "library": "var_list.r",
     "varRefreshCmd": "cat(var_dic_list()) "
    }
   },
   "types_to_exclude": [
    "module",
    "function",
    "builtin_function_or_method",
    "instance",
    "_Feature"
   ],
   "window_display": false
  }
 },
 "nbformat": 4,
 "nbformat_minor": 2
}
