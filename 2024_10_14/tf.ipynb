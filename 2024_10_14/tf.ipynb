{
 "cells": [
  {
   "cell_type": "markdown",
   "id": "ad833a2c",
   "metadata": {},
   "source": [
    "# Transformée de Fourier numérique\n",
    "\n",
    "## Principe\n",
    "\n",
    "C'est la \"digital Fourier Transform\" (DFT). La fast Fourier Tranform est un algorithm permettant de calculer la DFT. \n",
    "\n",
    "On définit la transformée de Fourrier numérique de la façon suivante : \n",
    "\n",
    "\\begin{equation}\n",
    "    \\tilde{s}_k = \\sum_{j=0}^{N} s_j \\mathrm e^{-{\\rm i}2\\pi \\frac{k}{N}j}\n",
    "    \\label{eq:DFT}\n",
    "\\end{equation}\n",
    "\n",
    "Cette formule établit une bijection entre $\\mathbb{C}^N$ vers $\\mathbb{C}^N$. \n",
    "\n",
    "Lorsque l'on échantillone un signal, on définit : \n",
    "* $f_s$ le taux d'échantillonage\n",
    "* $\\delta t= 1/f_s$\n",
    "* $N$ le nombre d'échantillons\n",
    "* $t_j = t_0 + j\\delta t$\n",
    " \n",
    "Dans le cas où $s_j$ représente le signal s(t_j), on a le lien suivant avec la TF usuelle :\n",
    "\\begin{equation}\n",
    "    \\tilde{s}_k = \\sum s_j \\mathrm e^{{\\rm i}2\\pi \\frac{k}{N\\delta t}(j\\delta t)} = \\frac{1}{\\delta t} \\sum f(t_j) \\mathrm e^{{\\rm i}2\\pi t_j \\frac{k}{T}} \\delta t = \\frac{1}{\\delta t} \\tilde{s}\\left(\\frac{k}{T}\\right)\n",
    "\\end{equation}\n",
    "où la transformée de Fourier usuelle est définie par : \n",
    "\\begin{equation}\n",
    "\\tilde{s}(f) = \\int_{-\\infty}^{+\\infty} s(t)\\, \\mathrm e^{-2{\\rm i}\\pi t}\\,\\mathrm dt\n",
    "\\end{equation}\n",
    "\n",
    "Dans cette formule, le coefficient $\\tilde{s}_k$ est de période $N$. Il serait naturel de le restreindre entre $-N/2$ et $N/2$ pour les fréquences $-f_e/2$ et $f_e/2$. Cependant, numériquement, on utilise toujours des tableaux d'indice positif ! Les fréquences associées à $s_k$ pour $k>N/2$ correspondent à des fréquences négatives données par $(k-N)/T$. \n",
    "\n",
    "## FFT avec numpy\n",
    "\n",
    "On utilise le package `numpy.fft` lequel contient plusieurs fonctions utiles : \n",
    "\n",
    "* `fft` et `ifft`, la DFT et son inverse\n",
    "* `fftfreq` qui permet de calculer la fréquence associée au point $\\tilde{s}_k$\n",
    "* `fftshift` change l'ordre du tableau pour que la fréquence nulle soit au centre. A utiliser ne général sur la `fft` et sur `fftfreq` en même temps.\n",
    "* `rfft` et `irfft` : lorsque le tableau est réel, on peut ne garder que les fréquences positives avec des coeficients complexes (bijection de $\\mathbb{R}^N$ vers $\\mathbb{C}^{N/2}$. \n",
    "\n",
    "## Densité spectrale de puissance"
   ]
  },
  {
   "cell_type": "code",
   "execution_count": 5,
   "id": "0bac838b",
   "metadata": {},
   "outputs": [],
   "source": [
    "import numpy as np\n",
    "import matplotlib.pyplot as plt\n",
    "\n",
    "delta_t = 0.01\n",
    "N = 1000\n",
    "\n",
    "T = N*delta_t"
   ]
  },
  {
   "cell_type": "code",
   "execution_count": 8,
   "id": "f3e1c1c0",
   "metadata": {},
   "outputs": [
    {
     "data": {
      "text/plain": [
       "[<matplotlib.lines.Line2D at 0x7a01176914f0>]"
      ]
     },
     "execution_count": 8,
     "metadata": {},
     "output_type": "execute_result"
    },
    {
     "data": {
      "image/png": "[encoded data removed]",
      "text/plain": [
       "<Figure size 432x288 with 1 Axes>"
      ]
     },
     "metadata": {
      "needs_background": "light"
     },
     "output_type": "display_data"
    }
   ],
   "source": [
    "liste_t = np.arange(N)*delta_t\n",
    "\n",
    "freq_1 = 2/T\n",
    "y_1 = np.sin(2*np.pi*freq_1*liste_t)\n",
    "\n",
    "freq_2 = (N-1)/T\n",
    "y_2 = np.sin(2*np.pi*freq_2*liste_t)\n",
    "\n",
    "\n",
    "plt.plot(liste_t, y_2)"
   ]
  },
  {
   "cell_type": "code",
   "execution_count": null,
   "id": "83f2e37e",
   "metadata": {},
   "outputs": [],
   "source": []
  }
 ],
 "metadata": {
  "celltoolbar": "Tags",
  "kernelspec": {
   "display_name": "Python 3",
   "language": "python",
   "name": "python3"
  },
  "language_info": {
   "codemirror_mode": {
    "name": "ipython",
    "version": 3
   },
   "file_extension": ".py",
   "mimetype": "text/x-python",
   "name": "python",
   "nbconvert_exporter": "python",
   "pygments_lexer": "ipython3",
   "version": "3.8.8"
  },
  "varInspector": {
   "cols": {
    "lenName": 16,
    "lenType": 16,
    "lenVar": 40
   },
   "kernels_config": {
    "python": {
     "delete_cmd_postfix": "",
     "delete_cmd_prefix": "del ",
     "library": "var_list.py",
     "varRefreshCmd": "print(var_dic_list())"
    },
    "r": {
     "delete_cmd_postfix": ") ",
     "delete_cmd_prefix": "rm(",
     "library": "var_list.r",
     "varRefreshCmd": "cat(var_dic_list()) "
    }
   },
   "types_to_exclude": [
    "module",
    "function",
    "builtin_function_or_method",
    "instance",
    "_Feature"
   ],
   "window_display": false
  }
 },
 "nbformat": 4,
 "nbformat_minor": 5
}
