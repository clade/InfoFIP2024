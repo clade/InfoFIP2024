{
 "cells": [
  {
   "cell_type": "markdown",
   "metadata": {},
   "source": [
    "# Programmation orientée objet\n",
    "\n",
    "Comment créer se propres objets en Python. \n",
    "\n",
    "## Vocabulaire\n",
    "\n",
    "En python tout ce que l'on manipule est un objet : \n",
    "\n",
    "* Nombre, liste, dictionnaire, ...\n",
    "* Tableau numpy\n",
    "* Fonction, module, ....\n",
    "\n",
    "Un objet possède des **attributs**. Exemple : \n",
    "\n",
    "    z = 1.1J\n",
    "    z.real\n",
    "    a = np.array([1, 2, 4])\n",
    "    a.shape\n",
    "    \n",
    "Un objet possède des **méthodes**. Exemple :\n",
    "\n",
    "    a.mean()\n",
    "    a.conjugate()\n",
    "    z.conjugate()\n",
    "    \n",
    "Les méthodes sont des fonctions attachées à l'objet. La méthode conjugate d'un tableau n'est pas la même que la méthode conjugate d'un complexe\n",
    "\n",
    "## Comment créer un objet\n",
    "\n",
    "### Créer un nombre complexe\n"
   ]
  },
  {
   "cell_type": "code",
   "execution_count": 2,
   "metadata": {},
   "outputs": [
    {
     "data": {
      "text/plain": [
       "1.0"
      ]
     },
     "execution_count": 2,
     "metadata": {},
     "output_type": "execute_result"
    }
   ],
   "source": [
    "z = 1.1J\n",
    "(1 + 3*z).real"
   ]
  },
  {
   "cell_type": "code",
   "execution_count": 144,
   "metadata": {},
   "outputs": [],
   "source": [
    "class Complex:\n",
    "    def __init__(self, partie_reelle, partie_imaginaire):\n",
    "        self.re = partie_reelle\n",
    "        self.im = partie_imaginaire\n",
    "    \n",
    "    def __repr__(self):\n",
    "        return f'Complex({self.re}, {self.im})'\n",
    "\n",
    "    def conjugate(self):\n",
    "        zconj = Complex(self.re, -self.im)\n",
    "        return zconj\n",
    "\n",
    "    def __str__(self):\n",
    "        if self.im>0:\n",
    "            return f'{self.re} + {self.im}i'\n",
    "        elif z.im==0:\n",
    "            return f'{self.re}'\n",
    "        else:\n",
    "            return f'{self.re} - {-self.im}i'\n",
    "        \n",
    "    def __add__(self, other):\n",
    "        if isinstance(other, int) or isinstance(other, float):\n",
    "            return Complex(self.re + other, self.im)\n",
    "        if isinstance(other, Complex):\n",
    "            return Complex(self.re + other.re, self.im + other.im)\n",
    "        return NotImplemented\n",
    "        \n",
    "    def __radd__(self, other):\n",
    "        return self + other\n",
    "    \n",
    "    def affiche_miroir(self):\n",
    "        print(self.__str__()[::-1])\n",
    "        \n",
    "    def __neg__(self):\n",
    "        return Complex(-self.re, -self.im)\n",
    "    \n",
    "    def __sub__(self, other):\n",
    "        return self + (-other)\n",
    "    \n",
    "    def __getitem__(self, key):\n",
    "        if key==0:\n",
    "            return self.re\n",
    "        if key==1:\n",
    "            return self.im\n",
    "        raise Exception()\n",
    "            \n",
    "class GPS:\n",
    "    def __str__(coord):\n",
    "        return f'{coord.lat}° {coord.long}°'\n"
   ]
  },
  {
   "cell_type": "code",
   "execution_count": null,
   "metadata": {},
   "outputs": [],
   "source": []
  },
  {
   "cell_type": "code",
   "execution_count": 145,
   "metadata": {},
   "outputs": [
    {
     "name": "stdout",
     "output_type": "stream",
     "text": [
      "1 - 3i\n"
     ]
    },
    {
     "data": {
      "text/plain": [
       "Complex(-1, -3)"
      ]
     },
     "execution_count": 145,
     "metadata": {},
     "output_type": "execute_result"
    }
   ],
   "source": [
    "z = Complex(1, 3)\n",
    "print(z.conjugate())\n",
    "-z"
   ]
  },
  {
   "cell_type": "code",
   "execution_count": 148,
   "metadata": {},
   "outputs": [
    {
     "data": {
      "text/plain": [
       "3"
      ]
     },
     "execution_count": 148,
     "metadata": {},
     "output_type": "execute_result"
    }
   ],
   "source": [
    "z[1]"
   ]
  },
  {
   "cell_type": "code",
   "execution_count": 129,
   "metadata": {},
   "outputs": [],
   "source": [
    "def tnirp(obj):\n",
    "    obj.affiche_miroir()\n",
    "    \n"
   ]
  },
  {
   "cell_type": "code",
   "execution_count": 130,
   "metadata": {},
   "outputs": [
    {
     "name": "stdout",
     "output_type": "stream",
     "text": [
      "i3 + 1\n"
     ]
    }
   ],
   "source": [
    "tnirp(z)"
   ]
  },
  {
   "cell_type": "code",
   "execution_count": 125,
   "metadata": {},
   "outputs": [
    {
     "data": {
      "text/plain": [
       "Complex(4.1, 9.3)"
      ]
     },
     "execution_count": 125,
     "metadata": {},
     "output_type": "execute_result"
    }
   ],
   "source": [
    "z1 = Complex(1, 3)\n",
    "z2 = Complex(3.1, 6.3)\n",
    "\n",
    "z1 + z2"
   ]
  },
  {
   "cell_type": "code",
   "execution_count": 131,
   "metadata": {},
   "outputs": [
    {
     "data": {
      "text/plain": [
       "Complex(4, 3)"
      ]
     },
     "execution_count": 131,
     "metadata": {},
     "output_type": "execute_result"
    }
   ],
   "source": [
    "def ajouter(obj1, obj2):\n",
    "    resultat = obj1.__add__(obj2)\n",
    "    if resultat==NotImplemented:\n",
    "        resultat = obj2.__radd__(obj1)\n",
    "    if resultat==NotImplemented:\n",
    "        raise Exception(f'Je ne peux pas ajoute {obj1} à {obj2}')\n",
    "    return resultat\n",
    "\n",
    "add(3, z1)"
   ]
  },
  {
   "cell_type": "code",
   "execution_count": null,
   "metadata": {},
   "outputs": [],
   "source": [
    "x = (1 + 3) * 6\n",
    "prod(sum(1, 3), 6)"
   ]
  },
  {
   "cell_type": "code",
   "execution_count": 126,
   "metadata": {},
   "outputs": [
    {
     "data": {
      "text/plain": [
       "Complex(4, 3)"
      ]
     },
     "execution_count": 126,
     "metadata": {},
     "output_type": "execute_result"
    }
   ],
   "source": [
    "z1 + 3"
   ]
  },
  {
   "cell_type": "code",
   "execution_count": 127,
   "metadata": {},
   "outputs": [
    {
     "data": {
      "text/plain": [
       "Complex(4, 3)"
      ]
     },
     "execution_count": 127,
     "metadata": {},
     "output_type": "execute_result"
    }
   ],
   "source": [
    "3 + z1"
   ]
  },
  {
   "cell_type": "code",
   "execution_count": 122,
   "metadata": {},
   "outputs": [
    {
     "name": "stdout",
     "output_type": "stream",
     "text": [
      "1 + 3i\n"
     ]
    }
   ],
   "source": [
    "print(z)"
   ]
  },
  {
   "cell_type": "code",
   "execution_count": 96,
   "metadata": {},
   "outputs": [
    {
     "name": "stdout",
     "output_type": "stream",
     "text": [
      "1 + 3i\n"
     ]
    }
   ],
   "source": [
    "def mon_print(obj):\n",
    "    print(obj.__str__())\n",
    "    \n",
    "mon_print(z)"
   ]
  },
  {
   "cell_type": "code",
   "execution_count": 97,
   "metadata": {},
   "outputs": [
    {
     "name": "stdout",
     "output_type": "stream",
     "text": [
      "1 + 3i\n"
     ]
    }
   ],
   "source": [
    "print(z)"
   ]
  },
  {
   "cell_type": "code",
   "execution_count": 91,
   "metadata": {},
   "outputs": [
    {
     "data": {
      "text/plain": [
       "Complex(1, 3)"
      ]
     },
     "execution_count": 91,
     "metadata": {},
     "output_type": "execute_result"
    }
   ],
   "source": [
    "z"
   ]
  },
  {
   "cell_type": "code",
   "execution_count": 83,
   "metadata": {},
   "outputs": [
    {
     "data": {
      "text/plain": [
       "'Bonjour\\nHello'"
      ]
     },
     "execution_count": 83,
     "metadata": {},
     "output_type": "execute_result"
    }
   ],
   "source": [
    "s = \"Bonjour\\nHello\"\n",
    "s"
   ]
  },
  {
   "cell_type": "code",
   "execution_count": 84,
   "metadata": {},
   "outputs": [
    {
     "name": "stdout",
     "output_type": "stream",
     "text": [
      "Bonjour\n",
      "Hello\n"
     ]
    }
   ],
   "source": [
    "print(s)"
   ]
  },
  {
   "cell_type": "code",
   "execution_count": 80,
   "metadata": {},
   "outputs": [
    {
     "name": "stdout",
     "output_type": "stream",
     "text": [
      "[0.40930193 0.14921632 0.22132264]\n"
     ]
    },
    {
     "data": {
      "text/plain": [
       "array([0.40930193, 0.14921632, 0.22132264])"
      ]
     },
     "execution_count": 80,
     "metadata": {},
     "output_type": "execute_result"
    }
   ],
   "source": [
    "import numpy as np\n",
    "\n",
    "a = np.random.rand(3)\n",
    "print(a)\n",
    "a"
   ]
  },
  {
   "cell_type": "code",
   "execution_count": 82,
   "metadata": {},
   "outputs": [
    {
     "data": {
      "text/plain": [
       "array([0.40930193, 0.14921632, 0.22132264])"
      ]
     },
     "execution_count": 82,
     "metadata": {},
     "output_type": "execute_result"
    }
   ],
   "source": [
    "np.array([0.40930193, 0.14921632, 0.22132264])"
   ]
  },
  {
   "cell_type": "code",
   "execution_count": null,
   "metadata": {},
   "outputs": [],
   "source": []
  },
  {
   "cell_type": "markdown",
   "metadata": {},
   "source": [
    "### Dataclass"
   ]
  },
  {
   "cell_type": "code",
   "execution_count": 149,
   "metadata": {},
   "outputs": [
    {
     "data": {
      "text/plain": [
       "Book(titre='A very nice book', auteur='F. Dupont', annee=2014)"
      ]
     },
     "execution_count": 149,
     "metadata": {},
     "output_type": "execute_result"
    }
   ],
   "source": [
    "import dataclasses\n",
    "\n",
    "@dataclasses.dataclass\n",
    "class Book():\n",
    "    titre : str\n",
    "    auteur : str\n",
    "    annee : int\n",
    "        \n",
    "book1 = Book(\"A very nice book\", \"F. Dupont\", 2014)\n",
    "book1"
   ]
  },
  {
   "cell_type": "code",
   "execution_count": 151,
   "metadata": {},
   "outputs": [
    {
     "data": {
      "text/plain": [
       "'A very nice book'"
      ]
     },
     "execution_count": 151,
     "metadata": {},
     "output_type": "execute_result"
    }
   ],
   "source": [
    "book1.titre"
   ]
  },
  {
   "cell_type": "code",
   "execution_count": null,
   "metadata": {},
   "outputs": [],
   "source": []
  },
  {
   "cell_type": "markdown",
   "metadata": {},
   "source": [
    "### Instrumentation\n",
    "\n",
    "Exemple : oscilloscope (c.f. TP)\n",
    "\n",
    "Inconvénients de la méthode fonctionnelle : \n",
    "\n",
    "* L'utilisateur doit importer beaucoup de fonction\n",
    "* Les fonctions dépendent de l'instrument, il faut donc connaitre l'instrument pour savoir quelle fonction utiliser\n",
    "* Il faut gérer les arguments des fonctions."
   ]
  },
  {
   "cell_type": "code",
   "execution_count": 33,
   "metadata": {},
   "outputs": [
    {
     "data": {
      "text/plain": [
       "{'compagnie': 'TEKTRONIX', 'model': 'DPO3014', 'serial': 'C012048'}"
      ]
     },
     "execution_count": 33,
     "metadata": {},
     "output_type": "execute_result"
    }
   ],
   "source": [
    "from fake_scpi import FakeSCPI\n",
    "inst = FakeSCPI()\n",
    "\n",
    "def set_frequency(inst, freq=1000):\n",
    "    command = f'FREQ {freq:.3f}'\n",
    "    inst.write(command)\n",
    "\n",
    "def get_frequency(inst):\n",
    "    command = f'FREQ?'\n",
    "    return float(inst.query(command))\n",
    "\n",
    "def get_model_identification(inst):\n",
    "    res = inst.query(\"*IDN?\")\n",
    "    comp, model, serial, _ = res.split(',') \n",
    "    dic = {'compagnie':comp,\n",
    "          'model':model,\n",
    "          'serial':serial}\n",
    "    return dic\n",
    "\n",
    "set_frequency(inst, 100)\n",
    "get_frequency(inst)\n",
    "get_model_identification(inst)"
   ]
  },
  {
   "cell_type": "code",
   "execution_count": 46,
   "metadata": {},
   "outputs": [],
   "source": [
    "class Instrument():\n",
    "    def __init__(self, conn):\n",
    "        self._conn = conn\n",
    "        \n",
    "    def get_model_identification(self):\n",
    "        res = self._conn.query(\"*IDN?\")\n",
    "        comp, model, serial, _ = res.split(',') \n",
    "        dic = {'compagnie':comp,\n",
    "              'model':model,\n",
    "              'serial':serial}\n",
    "        return dic\n",
    "    \n",
    "    @property\n",
    "    def idn(self):\n",
    "        return self.get_model_identification()\n",
    "\n",
    "class GBF(Instrument):\n",
    "    frequency = property(lambda self:self.get_frequency(), lambda self, val:self.set_frequency(val))\n",
    "    \n",
    "    def get_frequency(self):\n",
    "        raise Exception()\n",
    "    \n",
    "class TektronixGBF(GBF):\n",
    "    def set_frequency(self, freq=1000):\n",
    "        command = f'FREQ {freq:.3f}'\n",
    "        self._conn.write(command)\n",
    "\n",
    "    def get_frequency(self):\n",
    "        command = f'FREQ?'\n",
    "        return float(self._conn.query(command))\n",
    "    \n",
    "        \n",
    "class AgilentGBF(GBF):\n",
    "    def set_frequency(self, freq=1000):\n",
    "        command = f'FRE {freq:.3f}'\n",
    "        self._conn.write(command)\n",
    "\n",
    "    def get_frequency(self):\n",
    "        command = f'FRE?'\n",
    "        return float(self._conn.query(command))\n",
    "\n",
    "\n",
    "    \n",
    "gbf = TektronixGBF(FakeSCPI())"
   ]
  },
  {
   "cell_type": "code",
   "execution_count": 47,
   "metadata": {},
   "outputs": [
    {
     "data": {
      "text/plain": [
       "True"
      ]
     },
     "execution_count": 47,
     "metadata": {},
     "output_type": "execute_result"
    }
   ],
   "source": [
    "isinstance(gbf, GBF)"
   ]
  },
  {
   "cell_type": "code",
   "execution_count": 48,
   "metadata": {},
   "outputs": [
    {
     "data": {
      "text/plain": [
       "10.0"
      ]
     },
     "execution_count": 48,
     "metadata": {},
     "output_type": "execute_result"
    }
   ],
   "source": [
    "gbf.frequency = 10\n",
    "gbf.frequency"
   ]
  },
  {
   "cell_type": "code",
   "execution_count": null,
   "metadata": {},
   "outputs": [],
   "source": []
  },
  {
   "cell_type": "code",
   "execution_count": null,
   "metadata": {},
   "outputs": [],
   "source": []
  },
  {
   "cell_type": "code",
   "execution_count": null,
   "metadata": {},
   "outputs": [],
   "source": []
  },
  {
   "cell_type": "code",
   "execution_count": null,
   "metadata": {},
   "outputs": [],
   "source": []
  },
  {
   "cell_type": "code",
   "execution_count": null,
   "metadata": {},
   "outputs": [],
   "source": []
  },
  {
   "cell_type": "code",
   "execution_count": null,
   "metadata": {},
   "outputs": [],
   "source": []
  },
  {
   "cell_type": "markdown",
   "metadata": {},
   "source": [
    "## Nouveaux concepts\n",
    "\n",
    "\n",
    "\n",
    "### Méthodes spéciales\n",
    "\n",
    "- `__init__`\n",
    "- `__repr__`, `__str__`\n",
    "\n",
    "Lorsque c'est possible, `__repr__` doit représenté au mieux l'objet. Souvent il s'agit d'une chaine de caractère qui en étant évaluée renvoie un objet similaire. La méthode `__str__` renvoie `__repr__` par défaut. Sinon, elle doit être plus simple.\n",
    "\n",
    "Opérateur unaire et binaire\n",
    "\n",
    "- `__neg__`\n",
    "- `__add__`, `__sub__`, `__mul__`, `__truediv__`, `__mod__`, `__pow__`\n",
    "- `__radd__`, ...\n",
    "- `__eq__` (==), `__ne__` (!=), `__lt__` (<), `__le__` (<=), `__gt__`, `__ge__`\n",
    "- `__or__` (|), `__and__` (&), `__xor__`(^)\n",
    "- `__matmul__` (@)\n",
    "\n",
    "\n",
    "Emulateur de contenu\n",
    "\n",
    "- a[key] => `a.__getitem__(key)`\n",
    "- a[key] = val => `a.__setitem__(key, val)`\n",
    "- del a[key] => `a.__delitem__(key)`\n",
    "- len(a) => `a.__len__()`\n",
    "- for elm in a => `for elm in a.__iter__()`\n",
    "\n",
    "Emulateur de fonction \n",
    "\n",
    "- obj(a, b) => `obj.__call__(a, b)`\n",
    "\n",
    "### Attributs et property\n",
    "\n",
    "- Attributs de class vs attributs d'objets\n",
    "- property\n",
    "\n",
    "### Héritage\n",
    "\n",
    "- isinstance permet de tester si un objet est une instance d'une classe. "
   ]
  },
  {
   "cell_type": "code",
   "execution_count": null,
   "metadata": {},
   "outputs": [],
   "source": []
  },
  {
   "cell_type": "code",
   "execution_count": 5,
   "metadata": {},
   "outputs": [
    {
     "data": {
      "text/plain": [
       "2"
      ]
     },
     "execution_count": 5,
     "metadata": {},
     "output_type": "execute_result"
    }
   ],
   "source": []
  },
  {
   "cell_type": "markdown",
   "metadata": {},
   "source": [
    "## Descripteur\n",
    "\n",
    "Mieux comprendre les méthodes et les property...\n",
    "\n",
    "<code>\n",
    "    descr.__get__(self, obj, type=None) -> value\n",
    "    descr.__set__(self, obj, value) -> None\n",
    "    descr.__delete__(self, obj) -> None\n",
    "</code>\n",
    "\n",
    "Si un atribut de la classe défini la méthode `__get__` alors il devient un descripteur. Cette méthode est appelé à la place de l'attribut. "
   ]
  },
  {
   "cell_type": "code",
   "execution_count": 111,
   "metadata": {},
   "outputs": [
    {
     "name": "stdout",
     "output_type": "stream",
     "text": [
      "12.0\n"
     ]
    }
   ],
   "source": [
    "#    def set_frequency(self, freq=1000):\n",
    "#        command = f'FREQ {freq:.3f}'\n",
    "#        self._conn.write(command)\n",
    "\n",
    "#    def get_frequency(self):\n",
    "#        command = f'FREQ?'\n",
    "#        return float(self._conn.query(command))\n",
    "\n",
    "\n",
    "\n",
    "class Descripteur:\n",
    "    def __init__(self, param):\n",
    "        self.param = param\n",
    "    \n",
    "    def __get__(self, obj, type=None):\n",
    "        command = f'{self.param}?'\n",
    "        return float(obj._conn.query(command))\n",
    "\n",
    "    def __set__(self, obj, val):\n",
    "        command = f'{self.param} {val:.3f}'\n",
    "        obj._conn.write(command)\n",
    "\n",
    "    \n",
    "    \n",
    "class Instrument():\n",
    "    def __init__(self, conn):\n",
    "        self._conn = conn\n",
    "        \n",
    "    frequency = Descripteur('FREQ')\n",
    "    amplitude = Descripteur('AMP')\n",
    "\n",
    "    \n",
    "gbf = Instrument(FakeSCPI())\n",
    "gbf.frequency = 12\n",
    "print(gbf.frequency)"
   ]
  },
  {
   "cell_type": "code",
   "execution_count": null,
   "metadata": {},
   "outputs": [],
   "source": []
  },
  {
   "cell_type": "markdown",
   "metadata": {},
   "source": [
    "## Créer une class directement / metaclass\n",
    "\n",
    "* On peut créer une classe avec la fonction type : `type(name, bases, namespace)`\n",
    "\n",
    "* On peut remplacer cette fonction avec l'argument optionnel metaclass : \n",
    "\n",
    "<code>\n",
    "    class MyClass(metaclass=type):\n",
    "        pass\n",
    "</code>"
   ]
  },
  {
   "cell_type": "code",
   "execution_count": 29,
   "metadata": {},
   "outputs": [],
   "source": [
    "t = Test()"
   ]
  },
  {
   "cell_type": "code",
   "execution_count": 32,
   "metadata": {},
   "outputs": [
    {
     "data": {
      "text/plain": [
       "10"
      ]
     },
     "execution_count": 32,
     "metadata": {},
     "output_type": "execute_result"
    }
   ],
   "source": [
    "t.get_a()"
   ]
  },
  {
   "cell_type": "code",
   "execution_count": 31,
   "metadata": {},
   "outputs": [],
   "source": [
    "t._a = 10"
   ]
  },
  {
   "cell_type": "code",
   "execution_count": null,
   "metadata": {},
   "outputs": [],
   "source": []
  }
 ],
 "metadata": {
  "kernelspec": {
   "display_name": "Python 3",
   "language": "python",
   "name": "python3"
  },
  "language_info": {
   "codemirror_mode": {
    "name": "ipython",
    "version": 3
   },
   "file_extension": ".py",
   "mimetype": "text/x-python",
   "name": "python",
   "nbconvert_exporter": "python",
   "pygments_lexer": "ipython3",
   "version": "3.8.8"
  },
  "varInspector": {
   "cols": {
    "lenName": 16,
    "lenType": 16,
    "lenVar": 40
   },
   "kernels_config": {
    "python": {
     "delete_cmd_postfix": "",
     "delete_cmd_prefix": "del ",
     "library": "var_list.py",
     "varRefreshCmd": "print(var_dic_list())"
    },
    "r": {
     "delete_cmd_postfix": ") ",
     "delete_cmd_prefix": "rm(",
     "library": "var_list.r",
     "varRefreshCmd": "cat(var_dic_list()) "
    }
   },
   "types_to_exclude": [
    "module",
    "function",
    "builtin_function_or_method",
    "instance",
    "_Feature"
   ],
   "window_display": false
  }
 },
 "nbformat": 4,
 "nbformat_minor": 2
}
