{
 "cells": [
  {
   "cell_type": "markdown",
   "id": "44cd8983",
   "metadata": {},
   "source": [
    "# Les fichiers\n",
    "* Répertoire absolu et relatif\n",
    "* Chemin d'accès\n",
    "* Fichier texte (c'est une chaine de caractère)\n",
    "* Lecture/écriture\n",
    "* Format JSON"
   ]
  },
  {
   "cell_type": "code",
   "execution_count": 1,
   "id": "c34a3919",
   "metadata": {},
   "outputs": [
    {
     "name": "stdout",
     "output_type": "stream",
     "text": [
      "/home/pierre/Enseignement/2024/Python1/cours/cours3\r\n"
     ]
    }
   ],
   "source": [
    "!pwd\n",
    "# Sous windows !cd => c:\\Users\\login\\"
   ]
  },
  {
   "cell_type": "code",
   "execution_count": null,
   "id": "767d33d9",
   "metadata": {},
   "outputs": [],
   "source": [
    "filename = \"/home/pierre/Enseignement/2024/Python1/cours/cours3/Fichiers.ipynb\"\n",
    "filename = \"Fichiers.ipynb\""
   ]
  },
  {
   "cell_type": "code",
   "execution_count": 3,
   "id": "79aa78bc",
   "metadata": {},
   "outputs": [],
   "source": [
    "current_dir = \"/home/pierre/Enseignement/2024/Python1/cours/cours3\""
   ]
  },
  {
   "cell_type": "code",
   "execution_count": 7,
   "id": "385eea65",
   "metadata": {},
   "outputs": [
    {
     "name": "stdout",
     "output_type": "stream",
     "text": [
      "['tableaux nD.ipynb', 'data.txt', 'erreurs.ipynb', 'Fichiers.ipynb', 'data', 'Ajustement (fit).ipynb']\n",
      "['data.txt']\n",
      "['Bases de python et utilisation de numpy.ipynb', 'test_long.txt', 'test.txt', 'ma_figure.pdf', 'ma_figure.svg', 'test_long.npy']\n"
     ]
    }
   ],
   "source": [
    "# Chemin relatif\n",
    "import os\n",
    "print(os.listdir('.'))\n",
    "print(os.listdir('data/'))\n",
    "print(os.listdir('../cours1'))"
   ]
  },
  {
   "cell_type": "code",
   "execution_count": null,
   "id": "60883829",
   "metadata": {},
   "outputs": [],
   "source": []
  },
  {
   "cell_type": "code",
   "execution_count": null,
   "id": "afc97d02",
   "metadata": {},
   "outputs": [],
   "source": []
  },
  {
   "cell_type": "code",
   "execution_count": 8,
   "id": "eaf0604a",
   "metadata": {},
   "outputs": [],
   "source": [
    "file = 'data/test_python.txt'\n",
    "fd = open(file, 'w')\n",
    "fd.write('Bonjour\\n')\n",
    "fd.close()"
   ]
  },
  {
   "cell_type": "code",
   "execution_count": 9,
   "id": "a1a4112d",
   "metadata": {},
   "outputs": [],
   "source": [
    "with open(file, 'a') as fd:\n",
    "    fd.write('Au revoir')"
   ]
  },
  {
   "cell_type": "code",
   "execution_count": 10,
   "id": "91872afa",
   "metadata": {},
   "outputs": [
    {
     "name": "stdout",
     "output_type": "stream",
     "text": [
      "Bonjour\n",
      "Au revoir\n"
     ]
    }
   ],
   "source": [
    "with open(file) as fd:\n",
    "    print(fd.read())"
   ]
  },
  {
   "cell_type": "code",
   "execution_count": 11,
   "id": "88d41d7c",
   "metadata": {},
   "outputs": [
    {
     "name": "stdout",
     "output_type": "stream",
     "text": [
      "Bonjour\n",
      "Au revoir\n"
     ]
    }
   ],
   "source": [
    "with open(file) as fd:\n",
    "    lines = fd.readlines()\n",
    "    \n",
    "for line in lines:\n",
    "    print(line.strip()) # strip pour enlever le \\n"
   ]
  },
  {
   "cell_type": "code",
   "execution_count": null,
   "id": "57513371",
   "metadata": {},
   "outputs": [],
   "source": []
  },
  {
   "cell_type": "markdown",
   "id": "62c2a012",
   "metadata": {},
   "source": [
    "## JSON\n",
    "* Permet d'enregistrer une liste ou un dictionnaire\n",
    "* Fichier lisible par un humain"
   ]
  },
  {
   "cell_type": "code",
   "execution_count": 12,
   "id": "82a3b4f0",
   "metadata": {},
   "outputs": [],
   "source": [
    "import json\n",
    "\n",
    "personne_1 = {\"nom\":\"Dupont\", \"age\":13}\n",
    "personne_2 = {\"nom\":\"Dubois\", \"age\":34}\n",
    "\n",
    "annuaire = [personne_1, personne_2]\n",
    "\n",
    "file = 'test.json'\n",
    "with open(file, \"w\") as f:\n",
    "    json.dump(annuaire, f, indent=2)\n",
    "    "
   ]
  },
  {
   "cell_type": "code",
   "execution_count": 13,
   "id": "21a83f3c",
   "metadata": {},
   "outputs": [
    {
     "name": "stdout",
     "output_type": "stream",
     "text": [
      "[{'nom': 'Dupont', 'age': 13}, {'nom': 'Dubois', 'age': 34}]\n"
     ]
    }
   ],
   "source": [
    "with open(file) as f:\n",
    "    annuaire = json.load(f)\n",
    "print(annuaire)    \n",
    "    \n"
   ]
  },
  {
   "cell_type": "code",
   "execution_count": null,
   "id": "d0077ecd",
   "metadata": {},
   "outputs": [],
   "source": []
  },
  {
   "cell_type": "markdown",
   "id": "2d28c9ab",
   "metadata": {},
   "source": [
    "# Numpy"
   ]
  },
  {
   "cell_type": "code",
   "execution_count": 14,
   "id": "72993e9e",
   "metadata": {},
   "outputs": [],
   "source": [
    "import numpy as np\n",
    "import matplotlib.pyplot as plt"
   ]
  },
  {
   "cell_type": "code",
   "execution_count": null,
   "id": "8c9e7e61",
   "metadata": {},
   "outputs": [],
   "source": [
    "# save et savetxt"
   ]
  },
  {
   "cell_type": "code",
   "execution_count": 25,
   "id": "fa3c41bc",
   "metadata": {},
   "outputs": [],
   "source": [
    "x = np.random.rand(100000, 5)\n",
    "#x"
   ]
  },
  {
   "cell_type": "code",
   "execution_count": 26,
   "id": "1266702c",
   "metadata": {},
   "outputs": [],
   "source": [
    "np.save('test.npy', x)"
   ]
  },
  {
   "cell_type": "code",
   "execution_count": 27,
   "id": "d9c9f2ad",
   "metadata": {},
   "outputs": [],
   "source": [
    "np.savetxt('test.txt', x)"
   ]
  },
  {
   "cell_type": "code",
   "execution_count": 28,
   "id": "785f835b",
   "metadata": {},
   "outputs": [
    {
     "name": "stdout",
     "output_type": "stream",
     "text": [
      "CPU times: user 1.27 ms, sys: 4.48 ms, total: 5.75 ms\n",
      "Wall time: 5 ms\n"
     ]
    },
    {
     "data": {
      "text/plain": [
       "array([[0.67569117, 0.81770461, 0.15917832, 0.96429851, 0.13139772],\n",
       "       [0.08773025, 0.06251673, 0.11822542, 0.69139755, 0.15471339],\n",
       "       [0.60033843, 0.16296808, 0.10338403, 0.22638167, 0.79134292],\n",
       "       ...,\n",
       "       [0.30445556, 0.90195789, 0.84638789, 0.94748221, 0.13345051],\n",
       "       [0.84046908, 0.30917057, 0.71176153, 0.50192863, 0.30832341],\n",
       "       [0.02515209, 0.63825433, 0.62988103, 0.16696348, 0.45145068]])"
      ]
     },
     "execution_count": 28,
     "metadata": {},
     "output_type": "execute_result"
    }
   ],
   "source": [
    "%%time \n",
    "np.load('test.npy')"
   ]
  },
  {
   "cell_type": "code",
   "execution_count": 29,
   "id": "897ab68c",
   "metadata": {},
   "outputs": [
    {
     "name": "stdout",
     "output_type": "stream",
     "text": [
      "CPU times: user 313 ms, sys: 13 ms, total: 326 ms\n",
      "Wall time: 323 ms\n"
     ]
    },
    {
     "data": {
      "text/plain": [
       "array([[0.67569117, 0.81770461, 0.15917832, 0.96429851, 0.13139772],\n",
       "       [0.08773025, 0.06251673, 0.11822542, 0.69139755, 0.15471339],\n",
       "       [0.60033843, 0.16296808, 0.10338403, 0.22638167, 0.79134292],\n",
       "       ...,\n",
       "       [0.30445556, 0.90195789, 0.84638789, 0.94748221, 0.13345051],\n",
       "       [0.84046908, 0.30917057, 0.71176153, 0.50192863, 0.30832341],\n",
       "       [0.02515209, 0.63825433, 0.62988103, 0.16696348, 0.45145068]])"
      ]
     },
     "execution_count": 29,
     "metadata": {},
     "output_type": "execute_result"
    }
   ],
   "source": [
    "%%time \n",
    "np.loadtxt('test.txt')"
   ]
  },
  {
   "cell_type": "code",
   "execution_count": 30,
   "id": "5604fb61",
   "metadata": {},
   "outputs": [],
   "source": [
    "np.loadtxt?"
   ]
  },
  {
   "cell_type": "code",
   "execution_count": 32,
   "id": "fe76dfd8",
   "metadata": {},
   "outputs": [],
   "source": [
    "l = [[1, 2], [2, 5], [5, 6]]\n",
    "\n",
    "a, b, c = l"
   ]
  },
  {
   "cell_type": "code",
   "execution_count": 34,
   "id": "6372330e",
   "metadata": {},
   "outputs": [],
   "source": [
    "a, b, c, d, e = np.loadtxt('test.txt', unpack=True)"
   ]
  },
  {
   "cell_type": "code",
   "execution_count": 35,
   "id": "09a196ed",
   "metadata": {},
   "outputs": [
    {
     "data": {
      "text/plain": [
       "array([0.67569117, 0.08773025, 0.60033843, ..., 0.30445556, 0.84046908,\n",
       "       0.02515209])"
      ]
     },
     "execution_count": 35,
     "metadata": {},
     "output_type": "execute_result"
    }
   ],
   "source": [
    "a"
   ]
  },
  {
   "cell_type": "code",
   "execution_count": null,
   "id": "fd77c9c1",
   "metadata": {},
   "outputs": [],
   "source": []
  }
 ],
 "metadata": {
  "kernelspec": {
   "display_name": "Python 3",
   "language": "python",
   "name": "python3"
  },
  "language_info": {
   "codemirror_mode": {
    "name": "ipython",
    "version": 3
   },
   "file_extension": ".py",
   "mimetype": "text/x-python",
   "name": "python",
   "nbconvert_exporter": "python",
   "pygments_lexer": "ipython3",
   "version": "3.8.8"
  },
  "varInspector": {
   "cols": {
    "lenName": 16,
    "lenType": 16,
    "lenVar": 40
   },
   "kernels_config": {
    "python": {
     "delete_cmd_postfix": "",
     "delete_cmd_prefix": "del ",
     "library": "var_list.py",
     "varRefreshCmd": "print(var_dic_list())"
    },
    "r": {
     "delete_cmd_postfix": ") ",
     "delete_cmd_prefix": "rm(",
     "library": "var_list.r",
     "varRefreshCmd": "cat(var_dic_list()) "
    }
   },
   "types_to_exclude": [
    "module",
    "function",
    "builtin_function_or_method",
    "instance",
    "_Feature"
   ],
   "window_display": false
  }
 },
 "nbformat": 4,
 "nbformat_minor": 5
}
