{
 "cells": [
  {
   "cell_type": "markdown",
   "id": "2fb4c594",
   "metadata": {},
   "source": [
    "# Fit\n",
    "\n",
    "## Fonction de fit\n",
    "\n",
    "* Paramètres $p$ (il peux y avoir plusieurs paramètres\n",
    "* Fonction de fit qui dépend de des paramètres $p$ et d'une variable $x$ ($x$ n'est pas forcement un nombre)\n",
    "\n",
    "##  Mesure\n",
    "\n",
    "On effectue un ensemble de mesure $y_i$ ($y_i$ est un nombre) correspondant à un ensemble de variables $x_i$. La mesure est entachée de bruit. Pour chaque mesure, on note $\\epsilon_i$ l'écart par rapport à la mesure.\n",
    "\n",
    "$$ \n",
    "y_i = f(x_i, p) + \\epsilon_i\n",
    "$$\n",
    "\n",
    "On suppose qu'il n'y a pas de biais ($<\\epsilon_i>=0$) et que pour chaque point, le bruit est distribué de façon gaussienne (ecart type $\\sigma_i$)\n",
    "\n",
    "## Vraissemblance\n",
    "\n",
    "On note $\\mathcal L (p)$ la fonction de vraissemblance définie par :\n",
    "\n",
    "$$\\mathcal L(p) = e^{-\\chi^2(p, \\{x_i\\})}$$ \n",
    "\n",
    "où \n",
    "\n",
    "$$\\chi^2(p, \\{x_i\\}) = \\sum_i \\frac{(f(x_i, p) - y_i)^2}{\\sigma_i^2}$$\n",
    "\n",
    "Un estimateur de $p$ est donné par le maximum de la vraissemblance (i.e. le minimum du $\\chi^2$). Cet estimateur dépend des $\\epsilon_i$, c'est donc une variable aléatoire. Si on réalise un grand nombre de fois l'expérience, les points $p$ vont former une distribution. Si la fonction $f$ est suffisament régulière et qu'il y a suffisament de mesures $y_i$, alors on peut montrer que cette distribution est proportionnelle à la fonction $\\mathcal{L}$. \n",
    "\n",
    "## Fit en Python\n",
    "\n",
    "```\n",
    "from scipy.optimize import curfe_fit\n",
    "\n",
    "def f(x, p_1, p_2, ...):\n",
    "    ...\n",
    "    return y\n",
    "    \n",
    "popt, pcov = curve_fit(f, xdata, ydata, p_0)\n",
    "```\n",
    "\n",
    "Les variable `xdata` et `ydata` sont des tableaux/listes de tailles $N$. La paramètre $p_0$ est un tableau/list correspondant aux paramètres initiaux du fit. Il est indispendable (sauf pour les fits linéaires). \n",
    "\n",
    "La variable `popt` correspond aux paramètres optimaux et la variable `pcov` à la matrice de covariance.\n"
   ]
  },
  {
   "cell_type": "code",
   "execution_count": 10,
   "id": "2f887b4e",
   "metadata": {},
   "outputs": [],
   "source": [
    "import numpy as np\n",
    "import matplotlib.pyplot as plt\n",
    "from scipy.optimize import curve_fit"
   ]
  },
  {
   "cell_type": "code",
   "execution_count": 11,
   "id": "1d88cc74",
   "metadata": {},
   "outputs": [
    {
     "data": {
      "text/plain": [
       "[<matplotlib.lines.Line2D at 0x735df01041f0>]"
      ]
     },
     "execution_count": 11,
     "metadata": {},
     "output_type": "execute_result"
    },
    {
     "data": {
      "image/png": "[encoded data removed]",
      "text/plain": [
       "<Figure size 432x288 with 1 Axes>"
      ]
     },
     "metadata": {
      "needs_background": "light"
     },
     "output_type": "display_data"
    }
   ],
   "source": [
    "x, data = np.loadtxt('data.txt', unpack=True)\n",
    "plt.plot(X, data, 'o')"
   ]
  },
  {
   "cell_type": "code",
   "execution_count": 19,
   "id": "93b7527e",
   "metadata": {},
   "outputs": [
    {
     "data": {
      "image/png": "[encoded data removed]",
      "text/plain": [
       "<Figure size 432x288 with 1 Axes>"
      ]
     },
     "metadata": {
      "needs_background": "light"
     },
     "output_type": "display_data"
    }
   ],
   "source": [
    "def fit_function(x, amplitude, largeur, centre):\n",
    "    return amplitude*np.exp(-(x-centre)**2/(2*largeur**2))\n",
    "\n",
    "\n",
    "plt.plot(X, data, 'o')\n",
    "x_plot = np.linspace(-2.5, 2.5)\n",
    "# Uncomment to see the curve with inital parameters\n",
    "#plt.plot(x_plot, fit_function(x_plot, amplitude=1,\n",
    "#                         largeur=.5, \n",
    "#                         centre=0))\n",
    "init_param = [1, .5, 0]\n",
    "#plt.plot(x_plot, fit_function(x_plot, *init_param))\n",
    "\n",
    "popt, pcov = curve_fit(fit_function, X, data, init_param)\n",
    "plt.plot(x_plot, fit_function(x_plot, *popt))\n",
    "plt.grid()"
   ]
  },
  {
   "cell_type": "code",
   "execution_count": 15,
   "id": "c1d5c710",
   "metadata": {},
   "outputs": [
    {
     "data": {
      "text/plain": [
       "array([1.07550429, 0.56628413, 0.08353584])"
      ]
     },
     "execution_count": 15,
     "metadata": {},
     "output_type": "execute_result"
    }
   ],
   "source": [
    "popt"
   ]
  },
  {
   "cell_type": "code",
   "execution_count": 20,
   "id": "9e55a86e",
   "metadata": {},
   "outputs": [
    {
     "data": {
      "text/plain": [
       "array([[ 5.42596005e-04, -1.90482807e-04, -5.90509736e-09],\n",
       "       [-1.90482807e-04,  2.00594006e-04,  6.76028019e-09],\n",
       "       [-5.90509736e-09,  6.76028019e-09,  2.00565049e-04]])"
      ]
     },
     "execution_count": 20,
     "metadata": {},
     "output_type": "execute_result"
    }
   ],
   "source": [
    "pcov"
   ]
  },
  {
   "cell_type": "code",
   "execution_count": 18,
   "id": "1834d328",
   "metadata": {},
   "outputs": [],
   "source": [
    "def fit_function(x, y, p1, p2):\n",
    "    z = ...\n",
    "    return z"
   ]
  },
  {
   "cell_type": "code",
   "execution_count": null,
   "id": "d4d6089b",
   "metadata": {},
   "outputs": [],
   "source": [
    "def autre_fonction(X, p1, p2):\n",
    "    x = X[0]\n",
    "    y = X[1]\n",
    "    return fit_function(x, y, p1, p2)"
   ]
  }
 ],
 "metadata": {
  "kernelspec": {
   "display_name": "Python 3",
   "language": "python",
   "name": "python3"
  },
  "language_info": {
   "codemirror_mode": {
    "name": "ipython",
    "version": 3
   },
   "file_extension": ".py",
   "mimetype": "text/x-python",
   "name": "python",
   "nbconvert_exporter": "python",
   "pygments_lexer": "ipython3",
   "version": "3.8.8"
  },
  "varInspector": {
   "cols": {
    "lenName": 16,
    "lenType": 16,
    "lenVar": 40
   },
   "kernels_config": {
    "python": {
     "delete_cmd_postfix": "",
     "delete_cmd_prefix": "del ",
     "library": "var_list.py",
     "varRefreshCmd": "print(var_dic_list())"
    },
    "r": {
     "delete_cmd_postfix": ") ",
     "delete_cmd_prefix": "rm(",
     "library": "var_list.r",
     "varRefreshCmd": "cat(var_dic_list()) "
    }
   },
   "types_to_exclude": [
    "module",
    "function",
    "builtin_function_or_method",
    "instance",
    "_Feature"
   ],
   "window_display": false
  }
 },
 "nbformat": 4,
 "nbformat_minor": 5
}
