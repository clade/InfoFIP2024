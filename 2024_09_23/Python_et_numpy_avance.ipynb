{
 "cells": [
  {
   "cell_type": "markdown",
   "id": "b2be5176",
   "metadata": {},
   "source": [
    "# Python"
   ]
  },
  {
   "cell_type": "markdown",
   "id": "081b8a2b",
   "metadata": {
    "extensions": {
     "jupyter_dashboards": {
      "version": 1,
      "views": {
       "grid_default": {
        "col": 4,
        "height": 4,
        "hidden": false,
        "row": 51,
        "width": 4
       },
       "report_default": {}
      }
     }
    },
    "slideshow": {
     "slide_type": "slide"
    }
   },
   "source": [
    "## Chaînes de caractères (str)\n",
    "* Plusieurs façon d'écrire une chaine : \", ', \"\"\", ''' .\n",
    "* Caractère spéciaux : \\\\n (retour à la ligne), \\\\t (tabulation)\n",
    "* Unicode\n",
    "* Concaténation \n",
    "* Quelques méthodes sur les chaînes\n",
    "* Formatage de chaîne de caractère"
   ]
  },
  {
   "cell_type": "code",
   "execution_count": 1,
   "id": "c4036435",
   "metadata": {
    "extensions": {
     "jupyter_dashboards": {
      "version": 1,
      "views": {
       "grid_default": {
        "col": 0,
        "height": 4,
        "hidden": false,
        "row": 60,
        "width": 4
       },
       "report_default": {}
      }
     }
    }
   },
   "outputs": [],
   "source": [
    "s0 = 'Bonjour'\n",
    "s1 = \"Pierre\"\n",
    "s2 = \"Aujourd'hui\""
   ]
  },
  {
   "cell_type": "code",
   "execution_count": 2,
   "id": "84dd8c42",
   "metadata": {},
   "outputs": [
    {
     "name": "stdout",
     "output_type": "stream",
     "text": [
      "Une chaine\n",
      "sur plusieurs \n",
      "lignes\n"
     ]
    }
   ],
   "source": [
    "s3 = \"\"\"Une chaine\n",
    "sur plusieurs \n",
    "lignes\"\"\"\n",
    "\n",
    "print(s3)"
   ]
  },
  {
   "cell_type": "code",
   "execution_count": null,
   "id": "b6649879",
   "metadata": {},
   "outputs": [],
   "source": []
  },
  {
   "cell_type": "code",
   "execution_count": 5,
   "id": "bf0db9ac",
   "metadata": {},
   "outputs": [
    {
     "name": "stdout",
     "output_type": "stream",
     "text": [
      "Rayon γ\n",
      "Rayon γ\n"
     ]
    }
   ],
   "source": [
    "print(\"Rayon \\u03B3\")\n",
    "print(\"Rayon γ\")"
   ]
  },
  {
   "cell_type": "code",
   "execution_count": 6,
   "id": "aa089db1",
   "metadata": {},
   "outputs": [
    {
     "data": {
      "text/plain": [
       "'ℏ'"
      ]
     },
     "execution_count": 6,
     "metadata": {},
     "output_type": "execute_result"
    }
   ],
   "source": [
    "'\\u210F'\n"
   ]
  },
  {
   "cell_type": "code",
   "execution_count": 8,
   "id": "67cac093",
   "metadata": {},
   "outputs": [
    {
     "data": {
      "text/plain": [
       "'Constante de Planck réduite : ℏ'"
      ]
     },
     "execution_count": 8,
     "metadata": {},
     "output_type": "execute_result"
    }
   ],
   "source": [
    "'Constante de Planck réduite : ℏ'"
   ]
  },
  {
   "cell_type": "code",
   "execution_count": 9,
   "id": "651b6e0d",
   "metadata": {},
   "outputs": [],
   "source": [
    "ℏ = 1E-34"
   ]
  },
  {
   "cell_type": "code",
   "execution_count": 10,
   "id": "e78ca54c",
   "metadata": {},
   "outputs": [
    {
     "name": "stdout",
     "output_type": "stream",
     "text": [
      "1\n"
     ]
    }
   ],
   "source": [
    "# Que va-t-il s'afficher ??????\n",
    "Α = 1\n",
    "A = 2\n",
    "print(Α)"
   ]
  },
  {
   "cell_type": "code",
   "execution_count": null,
   "id": "df8f1fb0",
   "metadata": {},
   "outputs": [],
   "source": []
  },
  {
   "cell_type": "code",
   "execution_count": 11,
   "id": "878e1070",
   "metadata": {},
   "outputs": [
    {
     "data": {
      "text/plain": [
       "'PIERRE'"
      ]
     },
     "execution_count": 11,
     "metadata": {},
     "output_type": "execute_result"
    }
   ],
   "source": [
    "s1 = 'pierre'\n",
    "s1.upper()"
   ]
  },
  {
   "cell_type": "code",
   "execution_count": 13,
   "id": "0fd8b5cc",
   "metadata": {},
   "outputs": [
    {
     "data": {
      "text/plain": [
       "2"
      ]
     },
     "execution_count": 13,
     "metadata": {},
     "output_type": "execute_result"
    }
   ],
   "source": [
    "s1.find('e')"
   ]
  },
  {
   "cell_type": "code",
   "execution_count": 14,
   "id": "2999018c",
   "metadata": {},
   "outputs": [
    {
     "name": "stdout",
     "output_type": "stream",
     "text": [
      "Brnjrur\n"
     ]
    }
   ],
   "source": [
    "# Quelques méthodes \n",
    "s = 'Bonjour'\n",
    "print(s.replace('o', 'r'))"
   ]
  },
  {
   "cell_type": "code",
   "execution_count": null,
   "id": "1fcdcdd0",
   "metadata": {},
   "outputs": [],
   "source": []
  },
  {
   "cell_type": "code",
   "execution_count": 16,
   "id": "3fac0af4",
   "metadata": {},
   "outputs": [
    {
     "name": "stdout",
     "output_type": "stream",
     "text": [
      "['1', '2', '4', '3']\n",
      "1, 45\n"
     ]
    }
   ],
   "source": [
    "s = \"1;2;4;3\"\n",
    "print(s.split(';'))\n",
    "print(', '.join(['1', '45']))"
   ]
  },
  {
   "cell_type": "code",
   "execution_count": null,
   "id": "94db941e",
   "metadata": {},
   "outputs": [],
   "source": [
    "s = 'monfichier.txt'\n",
    "print(s.endswith('.txt'))"
   ]
  },
  {
   "cell_type": "markdown",
   "id": "ddfcf065",
   "metadata": {},
   "source": [
    "### Formatage\n",
    "Mettre une variable dans une chaîne de caractère\n",
    "\n",
    "On utilise la méthode .format (ancienne syntaxe avec le %). On utilise des accolades. \n",
    "\n",
    "On peut préciser: \n",
    "* le nom de l'argument (keyword argument)\n",
    "* le type d'écriture : entier (d), virgule fixe (f), notation scientifique\n",
    "* la précision\n",
    "\n",
    "Exemple {name:8.3f} : \n",
    "* argument : name\n",
    "* virgule fixe\n",
    "* taille totale 8\n",
    "* 3 chiffres après la virgule\n",
    "\n"
   ]
  },
  {
   "cell_type": "code",
   "execution_count": 28,
   "id": "ac03a95c",
   "metadata": {},
   "outputs": [],
   "source": [
    "a = 1.3445450934802943892384E-3\n",
    "# A ne pas utiliser....\n",
    "# print('a = ' + str(a) + ' m/s')"
   ]
  },
  {
   "cell_type": "code",
   "execution_count": 30,
   "id": "05617618",
   "metadata": {},
   "outputs": [
    {
     "data": {
      "text/plain": [
       "'a = +0000.0013 m/s'"
      ]
     },
     "execution_count": 30,
     "metadata": {},
     "output_type": "execute_result"
    }
   ],
   "source": [
    "\"a = {a:+010.4f} m/s\".format(a=a)"
   ]
  },
  {
   "cell_type": "code",
   "execution_count": null,
   "id": "0130a0e1",
   "metadata": {},
   "outputs": [],
   "source": []
  },
  {
   "cell_type": "code",
   "execution_count": 23,
   "id": "fe8949f6",
   "metadata": {},
   "outputs": [
    {
     "data": {
      "text/plain": [
       "'a = 1.345e-03 m/s et b = 23.4 m'"
      ]
     },
     "execution_count": 23,
     "metadata": {},
     "output_type": "execute_result"
    }
   ],
   "source": [
    "'a = {a:.3e} m/s et b = {b} m'.format(a=a, b=23.4)"
   ]
  },
  {
   "cell_type": "code",
   "execution_count": 33,
   "id": "fa8dc530",
   "metadata": {},
   "outputs": [
    {
     "name": "stdout",
     "output_type": "stream",
     "text": [
      "La valeur de pi est 3.1416;\n",
      "La vitesse de la lumière est c=299792458.000 m/s\n",
      "La valeur de pi est 3.142\n"
     ]
    }
   ],
   "source": [
    "# Formatage \n",
    "from math import pi\n",
    "print('La valeur de pi est {:.4f};'.format(pi))\n",
    "\n",
    "c = 299792458\n",
    "print('La vitesse de la lumière est c={c:.3f} m/s'.format(c=c))\n",
    "\n",
    "# Format string\n",
    "print(f'La valeur de pi est {pi:.3f}')"
   ]
  },
  {
   "cell_type": "code",
   "execution_count": null,
   "id": "6d110f94",
   "metadata": {},
   "outputs": [],
   "source": []
  },
  {
   "cell_type": "markdown",
   "id": "29b996fa",
   "metadata": {},
   "source": [
    "## Les ensembles\n",
    "* Comme en mathématiques : un ensemble ne contient pas deux fois le même élément\n",
    "* Union |, intersection &\n",
    "* Avec les tableaux numpy, il existe le fonction np.unique "
   ]
  },
  {
   "cell_type": "code",
   "execution_count": 34,
   "id": "68e407b1",
   "metadata": {},
   "outputs": [
    {
     "name": "stdout",
     "output_type": "stream",
     "text": [
      "{1, 3, 4, 6, 8}\n",
      "{1}\n"
     ]
    }
   ],
   "source": [
    "s1 = {1, 3, 4}\n",
    "s2 = {1, 6, 8}\n",
    "print(s1|s2)\n",
    "print(s1&s2)"
   ]
  },
  {
   "cell_type": "code",
   "execution_count": 35,
   "id": "b2195bdf",
   "metadata": {},
   "outputs": [
    {
     "data": {
      "text/plain": [
       "{1, 2, 3, 4}"
      ]
     },
     "execution_count": 35,
     "metadata": {},
     "output_type": "execute_result"
    }
   ],
   "source": [
    "set([1, 2, 3, 4, 3, 2, 1])"
   ]
  },
  {
   "cell_type": "code",
   "execution_count": 36,
   "id": "8adc37da",
   "metadata": {},
   "outputs": [
    {
     "data": {
      "text/plain": [
       "{' ',\n",
       " ':',\n",
       " 'C',\n",
       " 'a',\n",
       " 'b',\n",
       " 'c',\n",
       " 'd',\n",
       " 'e',\n",
       " 'f',\n",
       " 'h',\n",
       " 'i',\n",
       " 'l',\n",
       " 'm',\n",
       " 'n',\n",
       " 'o',\n",
       " 'p',\n",
       " 'q',\n",
       " 's',\n",
       " 't',\n",
       " 'u',\n",
       " 'x',\n",
       " 'é',\n",
       " 'ê'}"
      ]
     },
     "execution_count": 36,
     "metadata": {},
     "output_type": "execute_result"
    }
   ],
   "source": [
    "data = \"Comme en mathématiques : un ensemble ne contient pas deux fois le même élément\"\n",
    "\n",
    "s = set(data)\n",
    "s"
   ]
  },
  {
   "cell_type": "code",
   "execution_count": 37,
   "id": "957a56a3",
   "metadata": {},
   "outputs": [
    {
     "data": {
      "text/plain": [
       "array([1, 2, 3, 4, 5])"
      ]
     },
     "execution_count": 37,
     "metadata": {},
     "output_type": "execute_result"
    }
   ],
   "source": [
    "a = np.array([2, 1, 3, 3, 4, 5, 2, 3])\n",
    "np.unique(a)"
   ]
  },
  {
   "cell_type": "code",
   "execution_count": null,
   "id": "ee8459c8",
   "metadata": {},
   "outputs": [],
   "source": []
  },
  {
   "cell_type": "markdown",
   "id": "4c0f2623",
   "metadata": {},
   "source": [
    "## Les n-uplets (tuples)\n",
    "* Comme les listes sauf que l'on ne peut pas les modifier\n",
    "* Défini avec des ()\n",
    "* Utilisé pour regrouper un nombre connu de données : (x, y, z)\n",
    "* Utilisé lorsqu'une fonction renvoie plusieurs valeurs"
   ]
  },
  {
   "cell_type": "code",
   "execution_count": 38,
   "id": "14e5493e",
   "metadata": {},
   "outputs": [
    {
     "name": "stdout",
     "output_type": "stream",
     "text": [
      "2\n"
     ]
    }
   ],
   "source": [
    "a = (1, 2, 3)\n",
    "print(a[1])"
   ]
  },
  {
   "cell_type": "code",
   "execution_count": 41,
   "id": "2c1dd03d",
   "metadata": {},
   "outputs": [],
   "source": [
    "def ma_fonction():\n",
    "    return 1, 2, 3\n",
    "\n",
    "\n",
    "a, b, c = ma_fonction()"
   ]
  },
  {
   "cell_type": "code",
   "execution_count": 42,
   "id": "85e7a1e5",
   "metadata": {
    "scrolled": true
   },
   "outputs": [
    {
     "name": "stdout",
     "output_type": "stream",
     "text": [
      "<class 'tuple'>\n",
      "2\n"
     ]
    }
   ],
   "source": [
    "a = ma_fonction()\n",
    "print(type(a))\n",
    "print(a[1])"
   ]
  },
  {
   "cell_type": "code",
   "execution_count": 44,
   "id": "0c817e8d",
   "metadata": {},
   "outputs": [
    {
     "data": {
      "text/plain": [
       "1"
      ]
     },
     "execution_count": 44,
     "metadata": {},
     "output_type": "execute_result"
    }
   ],
   "source": [
    "a, = (1, )\n",
    "a"
   ]
  },
  {
   "cell_type": "code",
   "execution_count": 43,
   "id": "3815250e",
   "metadata": {},
   "outputs": [
    {
     "name": "stdout",
     "output_type": "stream",
     "text": [
      "2\n"
     ]
    }
   ],
   "source": [
    "a, b, c = (1, 2, 5)\n",
    "print(b)"
   ]
  },
  {
   "cell_type": "code",
   "execution_count": null,
   "id": "a556e9a1",
   "metadata": {},
   "outputs": [],
   "source": [
    "# Tuple de taille 0\n",
    "()\n",
    "# Tuple de taille 1\n",
    "(1,)"
   ]
  },
  {
   "cell_type": "markdown",
   "id": "36664b30",
   "metadata": {},
   "source": [
    "## Les dictionnaires\n",
    "* Conteneur (comme les listes ou tuple)\n",
    "* Le contenu est indéxé par une clé qui est en général un nombre ou une chaine de caractère\n",
    "* Explicit is better than implicit (paramètre ou résultat d'une expérience)\n",
    "* Utilisation dans les fonctions"
   ]
  },
  {
   "cell_type": "code",
   "execution_count": 45,
   "id": "9c819e09",
   "metadata": {},
   "outputs": [
    {
     "name": "stdout",
     "output_type": "stream",
     "text": [
      "100\n"
     ]
    }
   ],
   "source": [
    "parametres = {\"N\":100, 'l':30, \"h\":50, \"g\":9.81, 'm':0.1}\n",
    "print(parametres['N'])"
   ]
  },
  {
   "cell_type": "code",
   "execution_count": 46,
   "id": "18c0a395",
   "metadata": {},
   "outputs": [
    {
     "name": "stdout",
     "output_type": "stream",
     "text": [
      "La valeur de N est 100\n",
      "La valeur de l est 30\n",
      "La valeur de h est 50\n",
      "La valeur de g est 9.81\n",
      "La valeur de m est 0.1\n"
     ]
    }
   ],
   "source": [
    "# Boucle for sur un dictionnaire\n",
    "for key, val in parametres.items():\n",
    "    print(f'La valeur de {key} est {val}')"
   ]
  },
  {
   "cell_type": "code",
   "execution_count": 47,
   "id": "800349b4",
   "metadata": {},
   "outputs": [
    {
     "name": "stdout",
     "output_type": "stream",
     "text": [
      "Dupont a 13 ans.\n",
      "Dubois a 34 ans.\n"
     ]
    }
   ],
   "source": [
    "# Liste de dictionnaire\n",
    "personne_1 = {\"nom\":\"Dupont\", \"age\":13}\n",
    "personne_2 = {\"nom\":\"Dubois\", \"age\":34}\n",
    "\n",
    "annuaire = [personne_1, personne_2]\n",
    "\n",
    "for personne in annuaire : \n",
    "    print(f\"{personne['nom']} a {personne['age']} ans.\")\n",
    "    #print('{} a {} ans'.format(personne['nom'], personne['age']))"
   ]
  },
  {
   "cell_type": "code",
   "execution_count": null,
   "id": "c90badd6",
   "metadata": {},
   "outputs": [],
   "source": []
  },
  {
   "cell_type": "markdown",
   "id": "1725612f",
   "metadata": {},
   "source": [
    "## Les fonctions\n",
    "\n",
    "Nombre arbitraire d'arguments (tuple et dictionnaire)"
   ]
  },
  {
   "cell_type": "code",
   "execution_count": 48,
   "id": "b82c77ce",
   "metadata": {},
   "outputs": [
    {
     "name": "stdout",
     "output_type": "stream",
     "text": [
      "1 3 2\n"
     ]
    }
   ],
   "source": [
    "def f(a, b, c):\n",
    "    print(a, b, c)\n",
    "    \n",
    "f(1, c=2, b=3)"
   ]
  },
  {
   "cell_type": "code",
   "execution_count": null,
   "id": "b8c08c25",
   "metadata": {},
   "outputs": [],
   "source": []
  },
  {
   "cell_type": "code",
   "execution_count": null,
   "id": "d55d7783",
   "metadata": {},
   "outputs": [],
   "source": []
  },
  {
   "cell_type": "code",
   "execution_count": 49,
   "id": "c5e350a4",
   "metadata": {},
   "outputs": [
    {
     "name": "stdout",
     "output_type": "stream",
     "text": [
      "1 2 3\n"
     ]
    }
   ],
   "source": [
    "p = (2, 3)\n",
    "f(1, *p)"
   ]
  },
  {
   "cell_type": "code",
   "execution_count": 50,
   "id": "9427ee34",
   "metadata": {},
   "outputs": [
    {
     "name": "stdout",
     "output_type": "stream",
     "text": [
      "1 3 2\n"
     ]
    }
   ],
   "source": [
    "d = {'a':1, 'c':2}\n",
    "f(b=3, **d)"
   ]
  },
  {
   "cell_type": "code",
   "execution_count": 52,
   "id": "f0dcf595",
   "metadata": {},
   "outputs": [
    {
     "name": "stdout",
     "output_type": "stream",
     "text": [
      "1 3 bonjou\n"
     ]
    }
   ],
   "source": [
    "print(1, 3, 'bonjou')"
   ]
  },
  {
   "cell_type": "code",
   "execution_count": 53,
   "id": "8e995e3b",
   "metadata": {},
   "outputs": [
    {
     "name": "stdout",
     "output_type": "stream",
     "text": [
      "1 (2, 3, 4) {}\n",
      "1 (2, 3) {'m': 4, 'l': 5}\n",
      "3 () {'m': 4, 'l': 5}\n"
     ]
    }
   ],
   "source": [
    "def f(a, *args, **kwd):\n",
    "    print(a, args, kwd)\n",
    "\n",
    "f(1, 2, 3, 4)\n",
    "f(1, 2, 3, m=4, l=5)\n",
    "f(a=3, m=4, l=5)"
   ]
  },
  {
   "cell_type": "code",
   "execution_count": null,
   "id": "4c7d157e",
   "metadata": {},
   "outputs": [],
   "source": []
  },
  {
   "cell_type": "code",
   "execution_count": null,
   "id": "3e576f53",
   "metadata": {},
   "outputs": [],
   "source": []
  },
  {
   "cell_type": "code",
   "execution_count": 54,
   "id": "7ef200d5",
   "metadata": {},
   "outputs": [
    {
     "name": "stdout",
     "output_type": "stream",
     "text": [
      "1 () {'c': 2}\n"
     ]
    }
   ],
   "source": [
    "parametres = {'a':1, 'c':2}\n",
    "f(**parametres)"
   ]
  },
  {
   "cell_type": "code",
   "execution_count": 58,
   "id": "88eca7eb",
   "metadata": {},
   "outputs": [
    {
     "data": {
      "text/plain": [
       "10.987679728847352"
      ]
     },
     "execution_count": 58,
     "metadata": {},
     "output_type": "execute_result"
    }
   ],
   "source": [
    "import numpy as np\n",
    "\n",
    "parametres_pendule = {\"m\":100, 'l':30, \"g\":9.81}    \n",
    "def periode(l, g, **kwd):\n",
    "    return 2*np.pi*np.sqrt(l/g)\n",
    "\n",
    "periode(**parametres_pendule)"
   ]
  },
  {
   "cell_type": "code",
   "execution_count": null,
   "id": "c9ec0cc6",
   "metadata": {},
   "outputs": [],
   "source": []
  },
  {
   "cell_type": "markdown",
   "id": "cd577b64",
   "metadata": {},
   "source": [
    "### Fonctions anonymes \n",
    "` lambda arg1, arg2 : expr`"
   ]
  },
  {
   "cell_type": "code",
   "execution_count": 61,
   "id": "572fa3cd",
   "metadata": {},
   "outputs": [
    {
     "data": {
      "text/plain": [
       "'f'"
      ]
     },
     "execution_count": 61,
     "metadata": {},
     "output_type": "execute_result"
    }
   ],
   "source": [
    "def f(x):\n",
    "    return x\n",
    "\n",
    "f.__name__\n",
    "g = f\n",
    "g.__name__"
   ]
  },
  {
   "cell_type": "code",
   "execution_count": 62,
   "id": "38ac1abb",
   "metadata": {},
   "outputs": [
    {
     "data": {
      "text/plain": [
       "6"
      ]
     },
     "execution_count": 62,
     "metadata": {},
     "output_type": "execute_result"
    }
   ],
   "source": [
    "f = lambda a, b, c:a+b+c\n",
    "f(1, 2, 3)"
   ]
  },
  {
   "cell_type": "code",
   "execution_count": 63,
   "id": "5383f281",
   "metadata": {},
   "outputs": [
    {
     "data": {
      "text/plain": [
       "6"
      ]
     },
     "execution_count": 63,
     "metadata": {},
     "output_type": "execute_result"
    }
   ],
   "source": [
    "(lambda a, b, c:a+b+c)(1, 2, 3)"
   ]
  },
  {
   "cell_type": "code",
   "execution_count": null,
   "id": "54281409",
   "metadata": {},
   "outputs": [],
   "source": [
    "# integrale(f, a, b, N_step)\n",
    "# integrale(lambda x: exp(-x**2), 0, 1, 100)"
   ]
  },
  {
   "cell_type": "markdown",
   "id": "48ed3f8f",
   "metadata": {
    "extensions": {
     "jupyter_dashboards": {
      "version": 1,
      "views": {
       "grid_default": {
        "col": 0,
        "height": 5,
        "hidden": false,
        "row": 79,
        "width": 12
       },
       "report_default": {}
      }
     }
    },
    "slideshow": {
     "slide_type": "slide"
    }
   },
   "source": [
    "# Modules en Python\n",
    "\n",
    "* Les modules sont des fichiers dont on peut importer les objets (en général des fonctions) qui y sont définis. \n",
    "* Un module peut contenir d'autre modules\n",
    "* Modules standards (ex: math)"
   ]
  },
  {
   "cell_type": "code",
   "execution_count": 65,
   "id": "00ce8a84",
   "metadata": {
    "extensions": {
     "jupyter_dashboards": {
      "version": 1,
      "views": {
       "grid_default": {
        "col": 4,
        "height": 4,
        "hidden": false,
        "row": 75,
        "width": 4
       },
       "report_default": {}
      }
     }
    }
   },
   "outputs": [
    {
     "data": {
      "text/plain": [
       "8.166169912567652"
      ]
     },
     "execution_count": 65,
     "metadata": {},
     "output_type": "execute_result"
    }
   ],
   "source": [
    "from math import exp, pi\n",
    "exp(2.1)"
   ]
  },
  {
   "cell_type": "code",
   "execution_count": 66,
   "id": "3fcc3e56",
   "metadata": {
    "extensions": {
     "jupyter_dashboards": {
      "version": 1,
      "views": {
       "grid_default": {
        "col": 8,
        "height": 4,
        "hidden": false,
        "row": 75,
        "width": 4
       },
       "report_default": {}
      }
     }
    }
   },
   "outputs": [
    {
     "data": {
      "text/plain": [
       "2.718281828459045"
      ]
     },
     "execution_count": 66,
     "metadata": {},
     "output_type": "execute_result"
    }
   ],
   "source": [
    "import math\n",
    "math.exp(1)"
   ]
  },
  {
   "cell_type": "code",
   "execution_count": 71,
   "id": "716b212a",
   "metadata": {
    "extensions": {
     "jupyter_dashboards": {
      "version": 1,
      "views": {
       "grid_default": {
        "col": 0,
        "height": 4,
        "hidden": false,
        "row": 84,
        "width": 4
       },
       "report_default": {}
      }
     }
    }
   },
   "outputs": [
    {
     "data": {
      "text/plain": [
       "0.6674572160283838"
      ]
     },
     "execution_count": 71,
     "metadata": {},
     "output_type": "execute_result"
    }
   ],
   "source": [
    "# Syntaxe à éviter\n",
    "from math import *\n",
    "from numpy import *\n",
    "acos(pi/4)"
   ]
  },
  {
   "cell_type": "code",
   "execution_count": 74,
   "id": "7a04f0fa",
   "metadata": {},
   "outputs": [
    {
     "ename": "TypeError",
     "evalue": "only size-1 arrays can be converted to Python scalars",
     "output_type": "error",
     "traceback": [
      "\u001b[0;31m---------------------------------------------------------------------------\u001b[0m",
      "\u001b[0;31mTypeError\u001b[0m                                 Traceback (most recent call last)",
      "\u001b[0;32m<ipython-input-74-10af7163d2b9>\u001b[0m in \u001b[0;36m<module>\u001b[0;34m\u001b[0m\n\u001b[0;32m----> 1\u001b[0;31m \u001b[0macos\u001b[0m\u001b[0;34m(\u001b[0m\u001b[0mnp\u001b[0m\u001b[0;34m.\u001b[0m\u001b[0marray\u001b[0m\u001b[0;34m(\u001b[0m\u001b[0;34m[\u001b[0m\u001b[0;36m1\u001b[0m\u001b[0;34m,\u001b[0m \u001b[0;36m2\u001b[0m\u001b[0;34m]\u001b[0m\u001b[0;34m)\u001b[0m\u001b[0;34m)\u001b[0m\u001b[0;34m\u001b[0m\u001b[0;34m\u001b[0m\u001b[0m\n\u001b[0m",
      "\u001b[0;31mTypeError\u001b[0m: only size-1 arrays can be converted to Python scalars"
     ]
    }
   ],
   "source": [
    "acos(np.array([1, 2]))"
   ]
  },
  {
   "cell_type": "code",
   "execution_count": null,
   "id": "b9262b9c",
   "metadata": {},
   "outputs": [],
   "source": [
    "# Donner un nom plus simple\n",
    "# Eviter sauf si tout le monde le fait\n",
    "import numpy as np"
   ]
  },
  {
   "cell_type": "markdown",
   "id": "e52bd691",
   "metadata": {
    "extensions": {
     "jupyter_dashboards": {
      "version": 1,
      "views": {
       "grid_default": {
        "col": 0,
        "height": 6,
        "hidden": false,
        "row": 88,
        "width": 12
       },
       "report_default": {}
      }
     }
    },
    "slideshow": {
     "slide_type": "slide"
    }
   },
   "source": [
    "# Langage orienté objet\n",
    "\n",
    "* Tout en Python est object\n",
    "* Un objet contient des données \n",
    "* La classe d'un objet défini ce qu'est l'objet\n",
    "* La classe défini des fonctions qui permettent d'utiliser les données de l'objet ou de le modifier. Ce sont des méthodes\n",
    "\n",
    "Exemples : \n",
    "* liste, nombre complexe\n",
    "* Tableaux numpy\n",
    "* Oscilloscope"
   ]
  },
  {
   "cell_type": "code",
   "execution_count": null,
   "id": "1dafc99c",
   "metadata": {
    "extensions": {
     "jupyter_dashboards": {
      "version": 1,
      "views": {
       "grid_default": {
        "col": 4,
        "height": 4,
        "hidden": false,
        "row": 84,
        "width": 4
       },
       "report_default": {}
      }
     }
    }
   },
   "outputs": [],
   "source": [
    "l = [5, 4, 1, 2]\n",
    "l.insert(1, 'coucou') # modification de l'objet\n",
    "print(l)\n",
    "# l.index('coucou')"
   ]
  },
  {
   "cell_type": "code",
   "execution_count": null,
   "id": "aa591bf9",
   "metadata": {
    "extensions": {
     "jupyter_dashboards": {
      "version": 1,
      "views": {
       "grid_default": {
        "col": 4,
        "height": 4,
        "hidden": false,
        "row": 84,
        "width": 4
       },
       "report_default": {}
      }
     }
    }
   },
   "outputs": [],
   "source": [
    "z = 1 + 2J\n",
    "z.real # attribut de l'objet\n",
    "z.conjugate() # methode qui renvoie un nouvel objet"
   ]
  },
  {
   "cell_type": "code",
   "execution_count": null,
   "id": "9908981c",
   "metadata": {},
   "outputs": [],
   "source": [
    "z"
   ]
  },
  {
   "cell_type": "code",
   "execution_count": null,
   "id": "98682dca",
   "metadata": {},
   "outputs": [],
   "source": [
    "print(l.insert(2, 'bonjour'))"
   ]
  },
  {
   "cell_type": "code",
   "execution_count": null,
   "id": "52a838d5",
   "metadata": {},
   "outputs": [],
   "source": [
    "a = [1, 2, 3]\n",
    "b = a\n",
    "a.insert(0, 45)\n",
    "print(a[0])\n",
    "print(b[0])"
   ]
  },
  {
   "cell_type": "code",
   "execution_count": null,
   "id": "c308a697",
   "metadata": {},
   "outputs": [],
   "source": [
    "a = [1, 2, 4]\n",
    "b = a\n",
    "a = 'Bonjour'\n",
    "print(a[0])\n",
    "print(b[0])"
   ]
  },
  {
   "cell_type": "code",
   "execution_count": null,
   "id": "e91b7aa0",
   "metadata": {},
   "outputs": [],
   "source": [
    "from math import pi\n",
    "def f(la_liste):\n",
    "    la_liste[0] = 13 + pi\n",
    "    \n",
    "l = [1, 2]\n",
    "f(l)\n",
    "l"
   ]
  },
  {
   "cell_type": "markdown",
   "id": "6654de49",
   "metadata": {},
   "source": [
    "## Variables globales/locales\n",
    "* Dans une fonction, une variable est soit globale soit locale\n",
    "* Si on assigne un objet à une variable dans une fonction, elle est automatiquement locale\n",
    "* Modifier une liste ne rend pas la liste locale\n",
    "* L'instrution `global` ne doit **jamais** être utilisée (sauf cas exceptionels)"
   ]
  },
  {
   "cell_type": "code",
   "execution_count": null,
   "id": "1127a97f",
   "metadata": {},
   "outputs": [],
   "source": [
    "x = 1\n",
    "\n",
    "def f1():\n",
    "    print(x)\n",
    "    \n",
    "f1()\n",
    "x = 3\n",
    "f1()\n",
    "#def print(x):\n",
    "#    None\n"
   ]
  },
  {
   "cell_type": "code",
   "execution_count": null,
   "id": "c196abb5",
   "metadata": {},
   "outputs": [],
   "source": [
    "from math import sin, cos\n",
    "def f(x):\n",
    "    print(sin(x))\n",
    "f(1)\n",
    "sin = cos\n",
    "f(1)"
   ]
  },
  {
   "cell_type": "code",
   "execution_count": null,
   "id": "34041fef",
   "metadata": {},
   "outputs": [],
   "source": [
    "def f2(x):\n",
    "    print(x)\n",
    "print(x)\n",
    "f2(4)"
   ]
  },
  {
   "cell_type": "code",
   "execution_count": null,
   "id": "53f96e04",
   "metadata": {},
   "outputs": [],
   "source": [
    "x = 3   \n",
    "def f3():\n",
    "    x = 4\n",
    "    print(x)\n",
    "f3()\n",
    "print(x)"
   ]
  },
  {
   "cell_type": "code",
   "execution_count": null,
   "id": "02e34cf8",
   "metadata": {},
   "outputs": [],
   "source": [
    "x = 2   \n",
    "def f4():\n",
    "    print(x)\n",
    "    x = 4\n",
    "    print(x)\n",
    "f4()"
   ]
  },
  {
   "cell_type": "markdown",
   "id": "d1603a5f",
   "metadata": {},
   "source": [
    "Les variables globales doivent être constantes : \n",
    "* Constantes numériques\n",
    "* Autres objets : fonctions, modules, ..."
   ]
  },
  {
   "cell_type": "code",
   "execution_count": null,
   "id": "0972d220",
   "metadata": {},
   "outputs": [],
   "source": [
    "from math import sin, pi\n",
    "\n",
    "def ma_fonction(x):\n",
    "    if x==0:\n",
    "        return 1\n",
    "    return sin(pi*x)/(pi*x)\n"
   ]
  },
  {
   "cell_type": "code",
   "execution_count": null,
   "id": "59ba8b5b",
   "metadata": {},
   "outputs": [],
   "source": []
  },
  {
   "cell_type": "markdown",
   "id": "c9414074",
   "metadata": {},
   "source": [
    "# Les exceptions (erreurs)\n",
    "* Il faut toujours lire et comprendre les erreurs\n",
    "* En général python indique toujours l'endroit où se trouve l'erreur\n",
    "* Sauf pour les \"syntax error\""
   ]
  },
  {
   "cell_type": "code",
   "execution_count": null,
   "id": "63b7c061",
   "metadata": {},
   "outputs": [],
   "source": [
    "from math import sqrt\n",
    "\n",
    "sqrt(-1)"
   ]
  },
  {
   "cell_type": "code",
   "execution_count": null,
   "id": "93214dab",
   "metadata": {},
   "outputs": [],
   "source": [
    "l = [1, 2, 4]\n",
    "l(1)"
   ]
  },
  {
   "cell_type": "code",
   "execution_count": null,
   "id": "bbce9efe",
   "metadata": {},
   "outputs": [],
   "source": [
    "def f(x):\n",
    "    print(x)\n",
    "    \n",
    "f[1]"
   ]
  },
  {
   "cell_type": "code",
   "execution_count": null,
   "id": "4ad65285",
   "metadata": {},
   "outputs": [],
   "source": [
    "def f(x):\n",
    "    y = 2*x\n",
    "     print(x)"
   ]
  },
  {
   "cell_type": "code",
   "execution_count": null,
   "id": "3fc578e8",
   "metadata": {},
   "outputs": [],
   "source": [
    "def f(x, y, z):\n",
    "    return (x + y*(sin(x+z))*34\n",
    "\n",
    "#            + 45 )\n",
    "            \n",
    "b = 2\n"
   ]
  },
  {
   "cell_type": "markdown",
   "id": "df8ae03c",
   "metadata": {},
   "source": [
    "## Créer sa propre erreur\n",
    "* raise Exception('Un message')\n",
    "* Ne pas utiliser print(message)\n",
    "* try: except"
   ]
  },
  {
   "cell_type": "code",
   "execution_count": null,
   "id": "4f2e97c9",
   "metadata": {},
   "outputs": [],
   "source": [
    "# On lance une balle à la vitesse v_0 vers le haut\n",
    "# Calculer le temps pour arriver au plafond de hauteur h\n",
    "from math import sqrt\n",
    "def temps_arrivee(h, v_0, g=9.81):\n",
    "    Delta = v_0**2 - 2*g*h\n",
    "    if Delta<0:\n",
    "        raise Exception(\"La balle ne touche pas le plafond\")\n",
    "    return (v_0 - sqrt(Delta))/g\n",
    "\n",
    "print(temps_arrivee(h=1, v_0=10))\n",
    "print(temps_arrivee(h=1, v_0=1))"
   ]
  },
  {
   "cell_type": "code",
   "execution_count": null,
   "id": "4c097887",
   "metadata": {},
   "outputs": [],
   "source": [
    "# On lance une balle à la vitesse v_0 vers le haut\n",
    "# Calculer le temps pour arriver au plafond de hauteur h\n",
    "from math import sqrt\n",
    "def temps_arrivee(h, v_0, g=9.81):\n",
    "    Delta = v_0**2 - 2*g*h\n",
    "    if Delta<0:\n",
    "        print(\"La balle ne touche pas le plafond\")\n",
    "#        raise Exception(\"La balle ne touche pas le plafond\")\n",
    "    else:\n",
    "        return (v_0 - sqrt(Delta))/g\n",
    "\n",
    "t = temps_arrivee(h=1, v_0=10)\n",
    "print(2*t + 1)\n",
    "#print(temps_arrivee(h=1, v_0=1))\n",
    "t = temps_arrivee(h=1, v_0=1)\n",
    "print(2*t + 1)"
   ]
  },
  {
   "cell_type": "code",
   "execution_count": null,
   "id": "856d49e8",
   "metadata": {},
   "outputs": [],
   "source": [
    "from math import sqrt\n",
    "def temps_arrivee(h, v_0, g=9.81):\n",
    "    Delta = v_0**2 - 2*g*h\n",
    "    try:\n",
    "        return (v_0 - sqrt(Delta))/g\n",
    "    except ValueError:\n",
    "        raise Exception(\"La balle ne touche pas le plafond\")\n",
    "print(temps_arrivee(1, 10))\n",
    "print(temps_arrivee(1, 1))"
   ]
  },
  {
   "cell_type": "code",
   "execution_count": null,
   "id": "72ba2395",
   "metadata": {},
   "outputs": [],
   "source": []
  },
  {
   "cell_type": "markdown",
   "id": "44cd8983",
   "metadata": {},
   "source": [
    "# Les fichiers\n",
    "* Répertoire absolu et relatif\n",
    "* Chemin d'accès\n",
    "* Fichier texte (c'est une chaine de caractère)\n",
    "* Lecture/écriture\n",
    "* Format JSON"
   ]
  },
  {
   "cell_type": "code",
   "execution_count": null,
   "id": "c34a3919",
   "metadata": {},
   "outputs": [],
   "source": [
    "!pwd\n",
    "# Sous windows !cd => c:\\Users\\login\\"
   ]
  },
  {
   "cell_type": "code",
   "execution_count": null,
   "id": "767d33d9",
   "metadata": {},
   "outputs": [],
   "source": [
    "filename = \"/home/pierre/Enseignement/2023/Python1/cours/cours2/Python_et_numpy_avance.ipynb\"\n",
    "filename = \"Python_et_numpy_avance.ipynb\""
   ]
  },
  {
   "cell_type": "code",
   "execution_count": null,
   "id": "79aa78bc",
   "metadata": {},
   "outputs": [],
   "source": [
    "current_dir = \"/home/pierre/Enseignement/2022/PythonENS/cours/cours2\""
   ]
  },
  {
   "cell_type": "code",
   "execution_count": null,
   "id": "385eea65",
   "metadata": {},
   "outputs": [],
   "source": [
    "# Chemin relatif\n",
    "import os\n",
    "print(os.listdir(current_dir))\n",
    "#print(os.listdir('data/'))\n",
    "print(os.listdir('../cours1'))"
   ]
  },
  {
   "cell_type": "code",
   "execution_count": null,
   "id": "60883829",
   "metadata": {},
   "outputs": [],
   "source": []
  },
  {
   "cell_type": "code",
   "execution_count": null,
   "id": "afc97d02",
   "metadata": {},
   "outputs": [],
   "source": []
  },
  {
   "cell_type": "code",
   "execution_count": null,
   "id": "eaf0604a",
   "metadata": {},
   "outputs": [],
   "source": [
    "file = 'data/test_python.txt'\n",
    "fd = open(file, 'w')\n",
    "fd.write('Bonjour\\n')\n",
    "fd.close()"
   ]
  },
  {
   "cell_type": "code",
   "execution_count": null,
   "id": "a1a4112d",
   "metadata": {},
   "outputs": [],
   "source": [
    "with open(file, 'a') as fd:\n",
    "    fd.write('Au revoir')"
   ]
  },
  {
   "cell_type": "code",
   "execution_count": null,
   "id": "91872afa",
   "metadata": {},
   "outputs": [],
   "source": [
    "with open(file) as fd:\n",
    "    print(fd.read())"
   ]
  },
  {
   "cell_type": "code",
   "execution_count": null,
   "id": "88d41d7c",
   "metadata": {},
   "outputs": [],
   "source": [
    "with open(file) as fd:\n",
    "    lines = fd.readlines()\n",
    "    \n",
    "for line in lines:\n",
    "    print(line.strip()) # strip pour enlever le \\n"
   ]
  },
  {
   "cell_type": "code",
   "execution_count": null,
   "id": "57513371",
   "metadata": {},
   "outputs": [],
   "source": []
  },
  {
   "cell_type": "markdown",
   "id": "62c2a012",
   "metadata": {},
   "source": [
    "## JSON\n",
    "* Permet d'enregistrer une liste ou un dictionnaire\n",
    "* Fichier lisible par un humain"
   ]
  },
  {
   "cell_type": "code",
   "execution_count": null,
   "id": "82a3b4f0",
   "metadata": {},
   "outputs": [],
   "source": [
    "import json\n",
    "\n",
    "personne_1 = {\"nom\":\"Dupont\", \"age\":13}\n",
    "personne_2 = {\"nom\":\"Dubois\", \"age\":34}\n",
    "\n",
    "annuaire = [personne_1, personne_2]\n",
    "\n",
    "file = 'test.json'\n",
    "with open(file, \"w\") as f:\n",
    "    json.dump(annuaire, f, indent=2)\n",
    "    "
   ]
  },
  {
   "cell_type": "code",
   "execution_count": null,
   "id": "21a83f3c",
   "metadata": {},
   "outputs": [],
   "source": [
    "with open(file) as f:\n",
    "    annuaire = json.load(f)\n",
    "print(annuaire)    \n",
    "    \n"
   ]
  },
  {
   "cell_type": "code",
   "execution_count": null,
   "id": "d0077ecd",
   "metadata": {},
   "outputs": [],
   "source": []
  },
  {
   "cell_type": "markdown",
   "id": "2d28c9ab",
   "metadata": {},
   "source": [
    "# Numpy"
   ]
  },
  {
   "cell_type": "code",
   "execution_count": null,
   "id": "72993e9e",
   "metadata": {},
   "outputs": [],
   "source": [
    "import numpy as np\n",
    "import matplotlib.pyplot as plt"
   ]
  },
  {
   "cell_type": "markdown",
   "id": "e6fb70f0",
   "metadata": {},
   "source": [
    "# Tableaux nD"
   ]
  },
  {
   "cell_type": "code",
   "execution_count": null,
   "id": "4f6aa30a",
   "metadata": {},
   "outputs": [],
   "source": [
    "a = np.array([[1,2], [3, 4]])\n",
    "# l'index est un tuple\n",
    "a\n",
    "a[0, 1]\n",
    "#a[(0, 1)]"
   ]
  },
  {
   "cell_type": "code",
   "execution_count": null,
   "id": "12455d80",
   "metadata": {},
   "outputs": [],
   "source": [
    "x = np.random.rand(5, 5)\n",
    "print(x)"
   ]
  },
  {
   "cell_type": "code",
   "execution_count": null,
   "id": "ce8db3b7",
   "metadata": {},
   "outputs": [],
   "source": [
    "np.zeros([2, 4])"
   ]
  },
  {
   "cell_type": "code",
   "execution_count": null,
   "id": "f1889f25",
   "metadata": {},
   "outputs": [],
   "source": [
    "# Récupérer une colonne\n",
    "x[:,0]\n",
    "x[1:3, :-1]"
   ]
  },
  {
   "cell_type": "code",
   "execution_count": null,
   "id": "de862318",
   "metadata": {},
   "outputs": [],
   "source": [
    "x.shape"
   ]
  },
  {
   "cell_type": "code",
   "execution_count": null,
   "id": "9f15b069",
   "metadata": {},
   "outputs": [],
   "source": [
    "# méthode reshape\n",
    "x = np.random.rand(25)\n",
    "x.reshape((5, 5))"
   ]
  },
  {
   "cell_type": "code",
   "execution_count": null,
   "id": "4fcaea4c",
   "metadata": {},
   "outputs": [],
   "source": [
    "# meshgrid\n",
    "a, b = np.meshgrid([1, 2, 3], [7, 8, 9, 10])\n",
    "print(a)\n",
    "print(b)"
   ]
  },
  {
   "cell_type": "code",
   "execution_count": null,
   "id": "2ab4af58",
   "metadata": {},
   "outputs": [],
   "source": [
    "\n",
    "# Création d'une image 2D avec meshgrid\n",
    "\n",
    "x = np.linspace(-.5, .5, 100)*4*np.pi\n",
    "y = np.linspace(-.5, .5, 150)*4*np.pi\n",
    "X, Y = np.meshgrid(x, y)\n",
    "R = np.sqrt(X**2 + Y**2)\n",
    "#plt.imshow((np.sin(Y)+np.cos(X))*np.exp(-R**2/30))\n",
    "plt.imshow(np.exp(-R**2/30), cmap='plasma')\n",
    "plt.colorbar()"
   ]
  },
  {
   "cell_type": "code",
   "execution_count": null,
   "id": "8554cd0e",
   "metadata": {},
   "outputs": [],
   "source": [
    "a = np.random.rand(3, 4, 2)\n",
    "a"
   ]
  },
  {
   "cell_type": "code",
   "execution_count": null,
   "id": "7d399560",
   "metadata": {},
   "outputs": [],
   "source": [
    "a.sum(axis=1)"
   ]
  },
  {
   "cell_type": "code",
   "execution_count": null,
   "id": "9e7dd84c",
   "metadata": {},
   "outputs": [],
   "source": [
    "a.sum(axis=(1, 2))"
   ]
  },
  {
   "cell_type": "code",
   "execution_count": null,
   "id": "5d562ebf",
   "metadata": {},
   "outputs": [],
   "source": []
  },
  {
   "cell_type": "code",
   "execution_count": null,
   "id": "3f61b1c1",
   "metadata": {},
   "outputs": [],
   "source": [
    "x = np.random.rand(5, 3)\n",
    "x"
   ]
  },
  {
   "cell_type": "code",
   "execution_count": null,
   "id": "2d06d343",
   "metadata": {},
   "outputs": [],
   "source": [
    "x.mean(axis=1)"
   ]
  },
  {
   "cell_type": "markdown",
   "id": "b82ac84c",
   "metadata": {},
   "source": [
    "# Tableau dans la mémoire\n",
    "* strides\n",
    "* from numpy.lib.stride_tricks import as_strided"
   ]
  },
  {
   "cell_type": "code",
   "execution_count": null,
   "id": "9d4a485f",
   "metadata": {},
   "outputs": [],
   "source": [
    "a = []\n",
    "b = a\n",
    "b.append(1)\n",
    "a"
   ]
  },
  {
   "cell_type": "code",
   "execution_count": null,
   "id": "94ea1a5f",
   "metadata": {},
   "outputs": [],
   "source": [
    "a = list(range(10))\n",
    "b = a[:3]\n",
    "b[0] = 10\n",
    "a"
   ]
  },
  {
   "cell_type": "code",
   "execution_count": null,
   "id": "c52e0970",
   "metadata": {},
   "outputs": [],
   "source": [
    "a = np.arange(10)\n",
    "b = a[:3]\n",
    "b[0] = 10\n",
    "a"
   ]
  },
  {
   "cell_type": "code",
   "execution_count": null,
   "id": "e3a52fd9",
   "metadata": {},
   "outputs": [],
   "source": [
    "a.shape"
   ]
  },
  {
   "cell_type": "code",
   "execution_count": null,
   "id": "5348379d",
   "metadata": {
    "scrolled": true
   },
   "outputs": [],
   "source": [
    "a = np.linspace(0, 1, 11)\n",
    "#a.dtype = np.int64\n",
    "a"
   ]
  },
  {
   "cell_type": "code",
   "execution_count": null,
   "id": "34748571",
   "metadata": {},
   "outputs": [],
   "source": [
    "a[2]"
   ]
  },
  {
   "cell_type": "code",
   "execution_count": null,
   "id": "7f8caff6",
   "metadata": {},
   "outputs": [],
   "source": [
    "b = a[::2]\n",
    "b"
   ]
  },
  {
   "cell_type": "code",
   "execution_count": null,
   "id": "f876d865",
   "metadata": {},
   "outputs": [],
   "source": []
  },
  {
   "cell_type": "code",
   "execution_count": null,
   "id": "7ee219aa",
   "metadata": {},
   "outputs": [],
   "source": [
    "print(a.strides)\n",
    "print(b.strides)"
   ]
  },
  {
   "cell_type": "code",
   "execution_count": null,
   "id": "085c4177",
   "metadata": {},
   "outputs": [],
   "source": [
    "a = np.zeros((4, 3))\n",
    "a.strides"
   ]
  },
  {
   "cell_type": "code",
   "execution_count": null,
   "id": "cf41cf59",
   "metadata": {},
   "outputs": [],
   "source": [
    "a = np.arange(10)\n",
    "a.reshape((5, 2))"
   ]
  },
  {
   "cell_type": "code",
   "execution_count": null,
   "id": "45293a48",
   "metadata": {
    "scrolled": true
   },
   "outputs": [],
   "source": [
    "from numpy.lib.stride_tricks import as_strided\n",
    "a = np.arange(10)\n",
    "b = as_strided(a, shape=((6, 5)), strides=(8, 8))\n",
    "print(b)\n",
    "#b.mean(axis=1)"
   ]
  },
  {
   "cell_type": "markdown",
   "id": "d3893f90",
   "metadata": {},
   "source": [
    "# Broadcast"
   ]
  },
  {
   "cell_type": "code",
   "execution_count": null,
   "id": "9d6bc14a",
   "metadata": {},
   "outputs": [],
   "source": [
    "import numpy as np\n",
    "from numpy import *"
   ]
  },
  {
   "cell_type": "code",
   "execution_count": null,
   "id": "7f57eada",
   "metadata": {},
   "outputs": [],
   "source": [
    "x = np.random.rand(5)\n",
    "x"
   ]
  },
  {
   "cell_type": "code",
   "execution_count": null,
   "id": "8832132c",
   "metadata": {},
   "outputs": [],
   "source": [
    "x[2:4] + 2"
   ]
  },
  {
   "cell_type": "code",
   "execution_count": null,
   "id": "5e164da8",
   "metadata": {},
   "outputs": [],
   "source": []
  },
  {
   "cell_type": "code",
   "execution_count": null,
   "id": "95029caf",
   "metadata": {},
   "outputs": [],
   "source": [
    "# Si sur une dimension la taille du tableau vaut 1, alors numpy peut l'étendre\n",
    "# pour qu'elle ait la même valeur que celle de l'autre tableau\n",
    "x = random.rand(5, 5)\n",
    "a = array([ [1, 2, 3, 4, 5] ])\n",
    "print(x.shape)\n",
    "print(a.shape)\n",
    "x + a\n",
    "x[2:4, :] + a"
   ]
  },
  {
   "cell_type": "code",
   "execution_count": null,
   "id": "d355055f",
   "metadata": {},
   "outputs": [],
   "source": [
    "x = np.arange(10)\n",
    "x + 1"
   ]
  },
  {
   "cell_type": "code",
   "execution_count": null,
   "id": "310df0f2",
   "metadata": {},
   "outputs": [],
   "source": [
    "# Il y a une syntaxe simple pour rajouter une dimension de taille 1\n",
    "# C'est newaxis\n",
    "a = arange(5)\n",
    "b = a[np.newaxis, :]\n",
    "x = random.rand(5, 5)\n",
    "x[2:4, :] = b\n",
    "x"
   ]
  },
  {
   "cell_type": "code",
   "execution_count": null,
   "id": "3e7a815d",
   "metadata": {},
   "outputs": [],
   "source": [
    "# Exemple : calculer une moyenne pondérée \n",
    "# Chaque ligne est un élève, chaque colonne un examen\n",
    "notes = random.rand(10, 5)*20\n",
    "print(notes)\n",
    "coef = array([1, 4, 2, 5, 8])"
   ]
  },
  {
   "cell_type": "code",
   "execution_count": null,
   "id": "41b2877c",
   "metadata": {},
   "outputs": [],
   "source": [
    "# Il est inutile de faire des boucles\n",
    "(notes*coef[np.newaxis,:]).sum(axis=1)/np.sum(coef)"
   ]
  },
  {
   "cell_type": "markdown",
   "id": "b9176f1c",
   "metadata": {},
   "source": [
    "# Au delà de numpy : numba\n",
    "* Calculer $\\pi$ (avec une formule très très lente!!!)\n",
    "$$ \\frac\\pi4 = \\sum_i \\frac{(-1)^i}{2i+1} = 1 - \\frac13 + \\frac 15 - \\frac17 + \\ldots $$\n",
    "\n",
    "* numba.vectorize\n"
   ]
  },
  {
   "cell_type": "code",
   "execution_count": null,
   "id": "c3846b5f",
   "metadata": {},
   "outputs": [],
   "source": [
    "def pi_python(N):\n",
    "    res = 0\n",
    "    coef = 1\n",
    "    for i in range(N):\n",
    "        res += coef/(2*i+1)\n",
    "        coef = -coef\n",
    "    return 4*res\n",
    "\n",
    "%timeit pi_python(1000000) # 77 ms"
   ]
  },
  {
   "cell_type": "code",
   "execution_count": null,
   "id": "373a3e5b",
   "metadata": {},
   "outputs": [],
   "source": [
    "import numpy as np\n",
    "def pi_np(N):\n",
    "    Ti = np.arange(N)\n",
    "    moins_un_puissance_i = ( 1-2*(Ti%2) )\n",
    "    return 4*np.sum( moins_un_puissance_i/(2*Ti+1))\n",
    "\n",
    "%timeit pi_np(1000000) # 11.5ms"
   ]
  },
  {
   "cell_type": "code",
   "execution_count": null,
   "id": "3c3cb53b",
   "metadata": {},
   "outputs": [],
   "source": [
    "from numba import jit, int64, float64\n",
    "import numba\n",
    "# Just in time complier\n",
    "\n",
    "numba_pi = jit(float64(int64))(pi_python)\n",
    "\n",
    "%timeit numba_pi(1000000)"
   ]
  },
  {
   "cell_type": "code",
   "execution_count": null,
   "id": "64ae3ca5",
   "metadata": {},
   "outputs": [],
   "source": [
    "numba_pi(1000000)"
   ]
  },
  {
   "cell_type": "code",
   "execution_count": null,
   "id": "aa9609bc",
   "metadata": {},
   "outputs": [],
   "source": [
    "# Décorateur @\n",
    "@jit( float64(int64) )\n",
    "def numba_pi(N):\n",
    "    res = 0\n",
    "    coef = 1\n",
    "    for i in range(N):\n",
    "        res += coef/(2*i+1)\n",
    "        coef = -coef\n",
    "    return 4*res\n"
   ]
  },
  {
   "cell_type": "code",
   "execution_count": null,
   "id": "962dade0",
   "metadata": {},
   "outputs": [],
   "source": [
    "#@jit(float64[:](float64[:], float64[:]), parallel=True)\n",
    "@jit(parallel=True)\n",
    "def somme(a, b):\n",
    "    N = len(a)\n",
    "    c = np.zeros(N)\n",
    "    for i in numba.prange(N):\n",
    "        c[i] = a[i] + b[i]\n",
    "    return c\n",
    "\n",
    "\n",
    "a = np.linspace(1, 2, 1000000)\n",
    "b = np.logspace(1, 2, 1000000)\n",
    "\n",
    "somme(a, b)\n",
    "\n",
    "%timeit somme(a, b)"
   ]
  },
  {
   "cell_type": "code",
   "execution_count": null,
   "id": "e404916e",
   "metadata": {},
   "outputs": [],
   "source": [
    "%timeit a + b"
   ]
  },
  {
   "cell_type": "code",
   "execution_count": null,
   "id": "992068e4",
   "metadata": {},
   "outputs": [],
   "source": [
    "# Numpy utilise des variables intermédiaires -> vitesse limitée par la mémoire\n",
    "(a + b)*c + a\n",
    "tmp1 = a + b\n",
    "tmp2 = tmp1*c\n",
    "res = tmp2 + a"
   ]
  },
  {
   "cell_type": "code",
   "execution_count": null,
   "id": "94d92f4b",
   "metadata": {},
   "outputs": [],
   "source": []
  },
  {
   "cell_type": "code",
   "execution_count": null,
   "id": "75beca6f",
   "metadata": {},
   "outputs": [],
   "source": [
    "def volume(dimension, M):\n",
    "    pts = np.random.rand(M, dimension)*2 - 1\n",
    "    carre_norme = np.sum(pts**2, axis=1)\n",
    "    return np.mean(carre_norme<1) * 2**dimension\n",
    "\n",
    "volume(5, 1000000)"
   ]
  },
  {
   "cell_type": "code",
   "execution_count": null,
   "id": "347f1498",
   "metadata": {},
   "outputs": [],
   "source": [
    "%timeit volume(10, 10000000)"
   ]
  },
  {
   "cell_type": "code",
   "execution_count": null,
   "id": "d2132361",
   "metadata": {},
   "outputs": [],
   "source": [
    "@jit(float64(float64, int64))\n",
    "def volume_numba(dimension, M):\n",
    "    output = 0\n",
    "    for i in range(M):\n",
    "        point = np.random.rand(dimension)*2 -1 \n",
    "        carre_norme = np.sum(point**2)\n",
    "        if carre_norme<1:\n",
    "            output += 1\n",
    "    return output/M * 2**dimension\n",
    "\n",
    "\n",
    "volume_numba(5, 1000000)\n"
   ]
  },
  {
   "cell_type": "code",
   "execution_count": null,
   "id": "d7021020",
   "metadata": {},
   "outputs": [],
   "source": [
    "%timeit volume_numba(10, 10000000)"
   ]
  },
  {
   "cell_type": "markdown",
   "id": "467fba8f",
   "metadata": {},
   "source": [
    "# Les décorateurs\n",
    "Utilisé pour modifier automatiquement une fonction\n",
    "\n",
    "Par exemple : \n",
    "\n",
    "* Gérer les erreurs d'un façon spécifique\n",
    "* Loguer les appels d'une fonction\n",
    "* Mettre en cache\n",
    "* Pour numpy : np.vectorize peut être utilisé comme un décorateur"
   ]
  },
  {
   "cell_type": "code",
   "execution_count": null,
   "id": "5504c907",
   "metadata": {},
   "outputs": [],
   "source": [
    "def dit_bonjour(f):\n",
    "    def nouvelle_fonction(*args, **kwd):\n",
    "        print('Bonjour', args)\n",
    "        return f(*args, **kwd)\n",
    "    return nouvelle_fonction\n",
    "\n",
    "@dit_bonjour\n",
    "def f(x):\n",
    "    return x**2\n",
    "\n",
    "f(2)"
   ]
  },
  {
   "cell_type": "code",
   "execution_count": null,
   "id": "302a9feb",
   "metadata": {},
   "outputs": [],
   "source": [
    "f(2)"
   ]
  },
  {
   "cell_type": "code",
   "execution_count": null,
   "id": "96c01d75",
   "metadata": {},
   "outputs": [],
   "source": [
    "def dit_qqc(mot):\n",
    "    def mon_decorateur(f):\n",
    "        def nouvelle_fonction(*args, **kwd):\n",
    "            print(mot)\n",
    "            return f(*args, **kwd)\n",
    "        return nouvelle_fonction\n",
    "    return mon_decorateur\n",
    "\n",
    "@dit_bonjour\n",
    "@dit_qqc('Hello!')\n",
    "def f(x):\n",
    "    return 2*x\n",
    "\n",
    "f(2)"
   ]
  },
  {
   "cell_type": "code",
   "execution_count": null,
   "id": "e6f043b2",
   "metadata": {},
   "outputs": [],
   "source": [
    "import time\n",
    "\n",
    "def cache(f):\n",
    "    the_cache = {}\n",
    "    def nouvelle_fonction(x):\n",
    "        if x not in the_cache.keys():\n",
    "            the_cache[x] = f(x)\n",
    "        return the_cache[x]\n",
    "    return nouvelle_fonction\n",
    "\n",
    "@cache\n",
    "def f(x):\n",
    "    time.sleep(2)\n",
    "    print('COUCOU')\n",
    "    return x**2\n",
    "\n",
    "@cache\n",
    "def g(x):\n",
    "    time.sleep(2)\n",
    "    print('BONJOUR')\n",
    "    return x**3\n",
    "\n",
    "print(f(2))\n",
    "print(g(2))\n"
   ]
  },
  {
   "cell_type": "code",
   "execution_count": null,
   "id": "2649d56c",
   "metadata": {},
   "outputs": [],
   "source": [
    "f(2)"
   ]
  },
  {
   "cell_type": "code",
   "execution_count": null,
   "id": "3aa64bf2",
   "metadata": {},
   "outputs": [],
   "source": [
    "f(2)"
   ]
  },
  {
   "cell_type": "code",
   "execution_count": null,
   "id": "daca7c90",
   "metadata": {},
   "outputs": [],
   "source": []
  }
 ],
 "metadata": {
  "kernelspec": {
   "display_name": "Python 3",
   "language": "python",
   "name": "python3"
  },
  "language_info": {
   "codemirror_mode": {
    "name": "ipython",
    "version": 3
   },
   "file_extension": ".py",
   "mimetype": "text/x-python",
   "name": "python",
   "nbconvert_exporter": "python",
   "pygments_lexer": "ipython3",
   "version": "3.8.8"
  },
  "varInspector": {
   "cols": {
    "lenName": 16,
    "lenType": 16,
    "lenVar": 40
   },
   "kernels_config": {
    "python": {
     "delete_cmd_postfix": "",
     "delete_cmd_prefix": "del ",
     "library": "var_list.py",
     "varRefreshCmd": "print(var_dic_list())"
    },
    "r": {
     "delete_cmd_postfix": ") ",
     "delete_cmd_prefix": "rm(",
     "library": "var_list.r",
     "varRefreshCmd": "cat(var_dic_list()) "
    }
   },
   "types_to_exclude": [
    "module",
    "function",
    "builtin_function_or_method",
    "instance",
    "_Feature"
   ],
   "window_display": false
  }
 },
 "nbformat": 4,
 "nbformat_minor": 5
}
